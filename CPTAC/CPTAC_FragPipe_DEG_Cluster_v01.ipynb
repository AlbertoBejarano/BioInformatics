{
 "cells": [
  {
   "cell_type": "code",
   "execution_count": 1,
   "id": "6b5cdcc0-39ec-495d-960e-50d0098379f6",
   "metadata": {},
   "outputs": [],
   "source": [
    "# Wang, Jixin et al. “Pan-Cancer Proteomics Analysis to Identify Tumor-Enriched and Highly Expressed Cell Surface Antigens as Potential Targets for Cancer Therapeutics.”\n",
    "# Molecular & cellular proteomics : MCP vol. 22,9 (2023)\n",
    "# https://www.ncbi.nlm.nih.gov/pmc/articles/PMC10494184/\n",
    "# https://zenodo.org/records/7991979"
   ]
  },
  {
   "cell_type": "code",
   "execution_count": 2,
   "id": "554113e9-e8f7-40b4-b189-1f55885ed8d8",
   "metadata": {},
   "outputs": [],
   "source": [
    "# CPTAC_FragPipe_DEG_v01\n",
    "# Alberto Bejarano 2024"
   ]
  },
  {
   "cell_type": "code",
   "execution_count": 3,
   "id": "61a97e0d-1e1c-4f82-ab48-6591d6c196c2",
   "metadata": {},
   "outputs": [],
   "source": [
    "# intensity-based absolute quantification (iBAQ)\n",
    "# tandem mass tag (TMT) \n",
    "# total protein approach (TPA)\n",
    "# TMT-TPA\n",
    "# TMT-iBAQ"
   ]
  },
  {
   "cell_type": "code",
   "execution_count": 4,
   "id": "e5e7c893-3b9e-40f9-bbfb-64fb7346a94b",
   "metadata": {},
   "outputs": [
    {
     "name": "stdout",
     "output_type": "stream",
     "text": [
      "May 26, 2024 16:36:03\n"
     ]
    }
   ],
   "source": [
    "import time; start = time.time()\n",
    "from datetime import datetime; print(datetime.now().strftime(\"%B %d, %Y %H:%M:%S\"))"
   ]
  },
  {
   "cell_type": "code",
   "execution_count": 5,
   "id": "ad99970d-bd32-4a14-93c0-2c8923786ea9",
   "metadata": {},
   "outputs": [],
   "source": [
    "import pandas as pd\n",
    "pd.set_option('display.precision', 2)\n",
    "pd.set_option('display.max_columns', 200)\n",
    "pd.set_option('display.width', 1000)\n",
    "#        -         -        -        -         -        -         -        -        -         -\n",
    "from scipy.stats import mannwhitneyu, normaltest\n",
    "from statannotations.Annotator import Annotator\n",
    "from statannot import add_stat_annotation\n",
    "from openpyxl import load_workbook\n",
    "import matplotlib.pyplot as plt\n",
    "from tqdm import tqdm\n",
    "import seaborn as sns\n",
    "import numpy as np\n",
    "import pyreadr\n",
    "import re, glob, os\n",
    "#        -         -        -        -         -        -         -        -        -         -\n",
    "import warnings; warnings.filterwarnings(\"ignore\") \n",
    "warnings.filterwarnings(\"ignore\", category=FutureWarning)\n",
    "warnings.filterwarnings(\"ignore\", category=RuntimeWarning)"
   ]
  },
  {
   "cell_type": "code",
   "execution_count": 6,
   "id": "8c963999-3294-4e07-9a29-d672161b9e5d",
   "metadata": {},
   "outputs": [],
   "source": [
    "filter = \"Global\"; n = 50\n",
    "filter = \"CancerType\"; n = 10"
   ]
  },
  {
   "cell_type": "code",
   "execution_count": 7,
   "id": "7d0c8985-cffb-4279-a924-525f516c5b9a",
   "metadata": {},
   "outputs": [],
   "source": [
    "datasetss =[\n",
    "            ('cptac_brca_tumor_vs_normal_list',  'BRCA'),\n",
    "            ('cptac_ccrcc_tumor_vs_normal_list', 'ccRCC'),\n",
    "            ('cptac_coad_tumor_vs_normal_list',  'COAD'),\n",
    "            ('cptac_gbm_tumor_vs_normal_list',   'GBM'),\n",
    "            ('cptac_hnscc_tumor_vs_normal_list', 'HNSCC'),\n",
    "            ('cptac_lscc_tumor_vs_normal_list',  'LSCC'),\n",
    "            ('cptac_luad_tumor_vs_normal_list',  'LUAD'),\n",
    "            ('cptac_ov_tumor_vs_normal_list',    'OV'),\n",
    "            ('cptac_pda_tumor_vs_normal_list',   'PDA'),\n",
    "            ('cptac_ucec_tumor_vs_normal_list',  'UCEC')\n",
    "           ]"
   ]
  },
  {
   "cell_type": "code",
   "execution_count": 8,
   "id": "04a010f6-7370-4098-9fd6-36a49ad2a4ae",
   "metadata": {},
   "outputs": [],
   "source": [
    "GenesOfInterest = ['MSLN', 'RAB5A', 'RAB5B', 'ERBB3', 'ERBB2', 'CTLA4']"
   ]
  },
  {
   "cell_type": "code",
   "execution_count": 9,
   "id": "611e0d21-5f8f-4c58-9e9a-b77b06739c65",
   "metadata": {},
   "outputs": [],
   "source": [
    "GenesOfInterest = ['NDUFA4L2', 'NNMT', 'PLIN2', 'SEMA5B', 'FCER1G', 'RHCE', 'RAB42', 'S100A2', 'CA9', 'SLC16A3', 'SCGN', 'FABP7', 'TYROBP', 'ENO2',\n",
    "                   'CD70', 'HAPLN1', 'PLOD2', 'SPRR4', 'HK2', 'RAD51B', 'FTL', 'AHNAK2', 'SLC2A1', 'ILDR1', 'FAM246A', 'HBE1', 'INTU', 'PFKP', 'KRT74',\n",
    "                   'FTH1', 'PYGL', 'DEFB112', 'ACKR3', 'FABP6', 'COL23A1', 'SERPINB5', 'NT5DC3', 'SDS', 'L1RE1', 'MMP1', 'SCARB1', 'HAVCR1', 'CTHRC1',\n",
    "                   'ITGAX', 'PNMA2', 'CYP2J2', 'IKBIP', 'SLC2A3', 'NOL3', 'FCGR3A']"
   ]
  },
  {
   "cell_type": "code",
   "execution_count": 10,
   "id": "d019e062-edbd-434d-b790-303319c5146a",
   "metadata": {},
   "outputs": [
    {
     "name": "stdout",
     "output_type": "stream",
     "text": [
      "CPU times: total: 312 ms\n",
      "Wall time: 336 ms\n"
     ]
    }
   ],
   "source": [
    "%%time\n",
    "#        -         -        -        -         -        -         -        -        -         -        -         -\n",
    "src_path = './data/DEG/'; DEprot_exp = []\n",
    "#        -         -        -        -         -        -         -        -        -         -        -         -\n",
    "for file, tumortype in datasetss:\n",
    "    df = pd.read_csv(src_path + file+'.csv', header=0, sep=',', quotechar='\"', on_bad_lines='warn')\n",
    "    cols = {'ID': 'GeneSymbol'}; df.rename(columns=cols, inplace=True)\n",
    "    df.drop(['Unnamed: 0'], axis=1, inplace=True)\n",
    "    df[\"TumorType\"] = tumortype\n",
    "    df.sort_values(by=['logFC'], ascending=[False], inplace=True); #df=df.head(n)\n",
    "    df = df[df[\"GeneSymbol\"].isin(GenesOfInterest)]\n",
    "    try:\n",
    "        DEprot_exp.append(df)\n",
    "    except:\n",
    "        print(\"An exception occurred\")\n",
    "#        -         -        -        -         -        -         -        -        -         -        -         -        \n",
    "DEprot_exp_df = pd.concat(DEprot_exp, ignore_index=True)"
   ]
  },
  {
   "cell_type": "code",
   "execution_count": 11,
   "id": "f3bf8245-5448-4c65-99da-560f68345a48",
   "metadata": {},
   "outputs": [],
   "source": [
    "DEprot_exp_df.sort_values(by=['logFC'], ascending=[False], inplace = True)"
   ]
  },
  {
   "cell_type": "code",
   "execution_count": 12,
   "id": "92c4bcb4-eaf1-4455-988c-c0c566656998",
   "metadata": {},
   "outputs": [
    {
     "data": {
      "text/html": [
       "<div>\n",
       "<style scoped>\n",
       "    .dataframe tbody tr th:only-of-type {\n",
       "        vertical-align: middle;\n",
       "    }\n",
       "\n",
       "    .dataframe tbody tr th {\n",
       "        vertical-align: top;\n",
       "    }\n",
       "\n",
       "    .dataframe thead th {\n",
       "        text-align: right;\n",
       "    }\n",
       "</style>\n",
       "<table border=\"1\" class=\"dataframe\">\n",
       "  <thead>\n",
       "    <tr style=\"text-align: right;\">\n",
       "      <th></th>\n",
       "      <th>GeneSymbol</th>\n",
       "      <th>logFC</th>\n",
       "      <th>AveExpr</th>\n",
       "      <th>t</th>\n",
       "      <th>P.Value</th>\n",
       "      <th>adj.P.Val</th>\n",
       "      <th>B</th>\n",
       "      <th>TumorType</th>\n",
       "    </tr>\n",
       "  </thead>\n",
       "  <tbody>\n",
       "    <tr>\n",
       "      <th>39</th>\n",
       "      <td>NDUFA4L2</td>\n",
       "      <td>3.60</td>\n",
       "      <td>28.16</td>\n",
       "      <td>31.03</td>\n",
       "      <td>2.68e-77</td>\n",
       "      <td>1.82e-74</td>\n",
       "      <td>165.89</td>\n",
       "      <td>ccRCC</td>\n",
       "    </tr>\n",
       "    <tr>\n",
       "      <th>40</th>\n",
       "      <td>NNMT</td>\n",
       "      <td>2.72</td>\n",
       "      <td>29.37</td>\n",
       "      <td>25.04</td>\n",
       "      <td>8.87e-63</td>\n",
       "      <td>7.09e-61</td>\n",
       "      <td>132.55</td>\n",
       "      <td>ccRCC</td>\n",
       "    </tr>\n",
       "    <tr>\n",
       "      <th>41</th>\n",
       "      <td>PLIN2</td>\n",
       "      <td>2.60</td>\n",
       "      <td>29.08</td>\n",
       "      <td>21.71</td>\n",
       "      <td>6.99e-54</td>\n",
       "      <td>1.76e-52</td>\n",
       "      <td>112.10</td>\n",
       "      <td>ccRCC</td>\n",
       "    </tr>\n",
       "    <tr>\n",
       "      <th>42</th>\n",
       "      <td>SEMA5B</td>\n",
       "      <td>2.46</td>\n",
       "      <td>23.51</td>\n",
       "      <td>23.43</td>\n",
       "      <td>1.49e-58</td>\n",
       "      <td>6.83e-57</td>\n",
       "      <td>122.84</td>\n",
       "      <td>ccRCC</td>\n",
       "    </tr>\n",
       "    <tr>\n",
       "      <th>43</th>\n",
       "      <td>FCER1G</td>\n",
       "      <td>2.34</td>\n",
       "      <td>25.68</td>\n",
       "      <td>26.09</td>\n",
       "      <td>1.82e-65</td>\n",
       "      <td>2.03e-63</td>\n",
       "      <td>138.72</td>\n",
       "      <td>ccRCC</td>\n",
       "    </tr>\n",
       "  </tbody>\n",
       "</table>\n",
       "</div>"
      ],
      "text/plain": [
       "   GeneSymbol  logFC  AveExpr      t   P.Value  adj.P.Val       B TumorType\n",
       "39   NDUFA4L2   3.60    28.16  31.03  2.68e-77   1.82e-74  165.89     ccRCC\n",
       "40       NNMT   2.72    29.37  25.04  8.87e-63   7.09e-61  132.55     ccRCC\n",
       "41      PLIN2   2.60    29.08  21.71  6.99e-54   1.76e-52  112.10     ccRCC\n",
       "42     SEMA5B   2.46    23.51  23.43  1.49e-58   6.83e-57  122.84     ccRCC\n",
       "43     FCER1G   2.34    25.68  26.09  1.82e-65   2.03e-63  138.72     ccRCC"
      ]
     },
     "execution_count": 12,
     "metadata": {},
     "output_type": "execute_result"
    }
   ],
   "source": [
    "#DEprot_exp_df = DEprot_exp_df.head(50)\n",
    "DEprot_exp_df.head()"
   ]
  },
  {
   "cell_type": "code",
   "execution_count": 13,
   "id": "815eb23f-721b-423b-83be-04081234f138",
   "metadata": {},
   "outputs": [
    {
     "name": "stdout",
     "output_type": "stream",
     "text": [
      "['NDUFA4L2', 'NNMT', 'PLIN2', 'SEMA5B', 'FCER1G', 'RHCE', 'RAB42', 'S100A2', 'CA9', 'SLC16A3']\n"
     ]
    }
   ],
   "source": [
    "GenesOfInterest = DEprot_exp_df.GeneSymbol.tolist()\n",
    "print(GenesOfInterest[:10])"
   ]
  },
  {
   "cell_type": "code",
   "execution_count": 14,
   "id": "376ba982-b3c5-46e3-843a-9d9094e7c323",
   "metadata": {},
   "outputs": [
    {
     "data": {
      "text/plain": [
       "376"
      ]
     },
     "execution_count": 14,
     "metadata": {},
     "output_type": "execute_result"
    }
   ],
   "source": [
    "len(DEprot_exp_df)"
   ]
  },
  {
   "cell_type": "code",
   "execution_count": 15,
   "id": "87b393bc-cbee-461e-b13e-cb6539393249",
   "metadata": {},
   "outputs": [
    {
     "name": "stdout",
     "output_type": "stream",
     "text": [
      "Shape of the dataframe:  (50, 10) \n",
      "\n"
     ]
    },
    {
     "data": {
      "text/html": [
       "<div>\n",
       "<style scoped>\n",
       "    .dataframe tbody tr th:only-of-type {\n",
       "        vertical-align: middle;\n",
       "    }\n",
       "\n",
       "    .dataframe tbody tr th {\n",
       "        vertical-align: top;\n",
       "    }\n",
       "\n",
       "    .dataframe thead th {\n",
       "        text-align: right;\n",
       "    }\n",
       "</style>\n",
       "<table border=\"1\" class=\"dataframe\">\n",
       "  <thead>\n",
       "    <tr style=\"text-align: right;\">\n",
       "      <th>TumorType</th>\n",
       "      <th>BRCA</th>\n",
       "      <th>COAD</th>\n",
       "      <th>GBM</th>\n",
       "      <th>HNSCC</th>\n",
       "      <th>LSCC</th>\n",
       "      <th>LUAD</th>\n",
       "      <th>OV</th>\n",
       "      <th>PDA</th>\n",
       "      <th>UCEC</th>\n",
       "      <th>ccRCC</th>\n",
       "    </tr>\n",
       "    <tr>\n",
       "      <th>GeneSymbol</th>\n",
       "      <th></th>\n",
       "      <th></th>\n",
       "      <th></th>\n",
       "      <th></th>\n",
       "      <th></th>\n",
       "      <th></th>\n",
       "      <th></th>\n",
       "      <th></th>\n",
       "      <th></th>\n",
       "      <th></th>\n",
       "    </tr>\n",
       "  </thead>\n",
       "  <tbody>\n",
       "    <tr>\n",
       "      <th>ACKR3</th>\n",
       "      <td>NaN</td>\n",
       "      <td>NaN</td>\n",
       "      <td>NaN</td>\n",
       "      <td>NaN</td>\n",
       "      <td>1.84</td>\n",
       "      <td>NaN</td>\n",
       "      <td>NaN</td>\n",
       "      <td>NaN</td>\n",
       "      <td>NaN</td>\n",
       "      <td>NaN</td>\n",
       "    </tr>\n",
       "    <tr>\n",
       "      <th>AHNAK2</th>\n",
       "      <td>-0.34</td>\n",
       "      <td>-0.95</td>\n",
       "      <td>-0.63</td>\n",
       "      <td>0.12</td>\n",
       "      <td>0.72</td>\n",
       "      <td>0.46</td>\n",
       "      <td>-0.92</td>\n",
       "      <td>0.77</td>\n",
       "      <td>-1.54</td>\n",
       "      <td>1.99</td>\n",
       "    </tr>\n",
       "    <tr>\n",
       "      <th>CA9</th>\n",
       "      <td>0.12</td>\n",
       "      <td>0.28</td>\n",
       "      <td>0.29</td>\n",
       "      <td>0.84</td>\n",
       "      <td>0.76</td>\n",
       "      <td>0.63</td>\n",
       "      <td>-0.14</td>\n",
       "      <td>0.18</td>\n",
       "      <td>0.59</td>\n",
       "      <td>2.20</td>\n",
       "    </tr>\n",
       "    <tr>\n",
       "      <th>CD70</th>\n",
       "      <td>NaN</td>\n",
       "      <td>NaN</td>\n",
       "      <td>NaN</td>\n",
       "      <td>NaN</td>\n",
       "      <td>NaN</td>\n",
       "      <td>NaN</td>\n",
       "      <td>NaN</td>\n",
       "      <td>NaN</td>\n",
       "      <td>NaN</td>\n",
       "      <td>2.11</td>\n",
       "    </tr>\n",
       "    <tr>\n",
       "      <th>COL23A1</th>\n",
       "      <td>NaN</td>\n",
       "      <td>NaN</td>\n",
       "      <td>NaN</td>\n",
       "      <td>NaN</td>\n",
       "      <td>0.43</td>\n",
       "      <td>NaN</td>\n",
       "      <td>-0.63</td>\n",
       "      <td>0.39</td>\n",
       "      <td>NaN</td>\n",
       "      <td>1.82</td>\n",
       "    </tr>\n",
       "  </tbody>\n",
       "</table>\n",
       "</div>"
      ],
      "text/plain": [
       "TumorType   BRCA  COAD   GBM  HNSCC  LSCC  LUAD    OV   PDA  UCEC  ccRCC\n",
       "GeneSymbol                                                              \n",
       "ACKR3        NaN   NaN   NaN    NaN  1.84   NaN   NaN   NaN   NaN    NaN\n",
       "AHNAK2     -0.34 -0.95 -0.63   0.12  0.72  0.46 -0.92  0.77 -1.54   1.99\n",
       "CA9         0.12  0.28  0.29   0.84  0.76  0.63 -0.14  0.18  0.59   2.20\n",
       "CD70         NaN   NaN   NaN    NaN   NaN   NaN   NaN   NaN   NaN   2.11\n",
       "COL23A1      NaN   NaN   NaN    NaN  0.43   NaN -0.63  0.39   NaN   1.82"
      ]
     },
     "execution_count": 15,
     "metadata": {},
     "output_type": "execute_result"
    }
   ],
   "source": [
    "#%%time\n",
    "pivot_df = DEprot_exp_df.pivot(index='TumorType', columns='GeneSymbol', values='logFC')\n",
    "pivot_df = DEprot_exp_df.pivot(index='GeneSymbol', columns='TumorType', values='logFC')\n",
    "print(\"Shape of the dataframe: \", pivot_df.shape, \"\\n\")\n",
    "pivot_df.head()"
   ]
  },
  {
   "cell_type": "code",
   "execution_count": 16,
   "id": "04a6a27b-b82a-43ed-a8bf-7f5385b425d8",
   "metadata": {},
   "outputs": [],
   "source": [
    "pivot_df.fillna(0.000666, inplace=True)"
   ]
  },
  {
   "cell_type": "code",
   "execution_count": 17,
   "id": "1a18591f-e835-422f-ba28-f8dbe31d3f1b",
   "metadata": {},
   "outputs": [
    {
     "data": {
      "text/html": [
       "<div>\n",
       "<style scoped>\n",
       "    .dataframe tbody tr th:only-of-type {\n",
       "        vertical-align: middle;\n",
       "    }\n",
       "\n",
       "    .dataframe tbody tr th {\n",
       "        vertical-align: top;\n",
       "    }\n",
       "\n",
       "    .dataframe thead th {\n",
       "        text-align: right;\n",
       "    }\n",
       "</style>\n",
       "<table border=\"1\" class=\"dataframe\">\n",
       "  <thead>\n",
       "    <tr style=\"text-align: right;\">\n",
       "      <th>TumorType</th>\n",
       "      <th>BRCA</th>\n",
       "      <th>COAD</th>\n",
       "      <th>GBM</th>\n",
       "      <th>HNSCC</th>\n",
       "      <th>LSCC</th>\n",
       "      <th>LUAD</th>\n",
       "      <th>OV</th>\n",
       "      <th>PDA</th>\n",
       "      <th>UCEC</th>\n",
       "      <th>ccRCC</th>\n",
       "    </tr>\n",
       "    <tr>\n",
       "      <th>GeneSymbol</th>\n",
       "      <th></th>\n",
       "      <th></th>\n",
       "      <th></th>\n",
       "      <th></th>\n",
       "      <th></th>\n",
       "      <th></th>\n",
       "      <th></th>\n",
       "      <th></th>\n",
       "      <th></th>\n",
       "      <th></th>\n",
       "    </tr>\n",
       "  </thead>\n",
       "  <tbody>\n",
       "    <tr>\n",
       "      <th>ACKR3</th>\n",
       "      <td>6.66e-04</td>\n",
       "      <td>6.66e-04</td>\n",
       "      <td>6.66e-04</td>\n",
       "      <td>6.66e-04</td>\n",
       "      <td>1.84e+00</td>\n",
       "      <td>6.66e-04</td>\n",
       "      <td>6.66e-04</td>\n",
       "      <td>6.66e-04</td>\n",
       "      <td>6.66e-04</td>\n",
       "      <td>6.66e-04</td>\n",
       "    </tr>\n",
       "    <tr>\n",
       "      <th>AHNAK2</th>\n",
       "      <td>-3.36e-01</td>\n",
       "      <td>-9.54e-01</td>\n",
       "      <td>-6.25e-01</td>\n",
       "      <td>1.19e-01</td>\n",
       "      <td>7.21e-01</td>\n",
       "      <td>4.58e-01</td>\n",
       "      <td>-9.23e-01</td>\n",
       "      <td>7.71e-01</td>\n",
       "      <td>-1.54e+00</td>\n",
       "      <td>1.99e+00</td>\n",
       "    </tr>\n",
       "    <tr>\n",
       "      <th>CA9</th>\n",
       "      <td>1.15e-01</td>\n",
       "      <td>2.83e-01</td>\n",
       "      <td>2.92e-01</td>\n",
       "      <td>8.44e-01</td>\n",
       "      <td>7.56e-01</td>\n",
       "      <td>6.30e-01</td>\n",
       "      <td>-1.41e-01</td>\n",
       "      <td>1.76e-01</td>\n",
       "      <td>5.91e-01</td>\n",
       "      <td>2.20e+00</td>\n",
       "    </tr>\n",
       "    <tr>\n",
       "      <th>CD70</th>\n",
       "      <td>6.66e-04</td>\n",
       "      <td>6.66e-04</td>\n",
       "      <td>6.66e-04</td>\n",
       "      <td>6.66e-04</td>\n",
       "      <td>6.66e-04</td>\n",
       "      <td>6.66e-04</td>\n",
       "      <td>6.66e-04</td>\n",
       "      <td>6.66e-04</td>\n",
       "      <td>6.66e-04</td>\n",
       "      <td>2.11e+00</td>\n",
       "    </tr>\n",
       "    <tr>\n",
       "      <th>COL23A1</th>\n",
       "      <td>6.66e-04</td>\n",
       "      <td>6.66e-04</td>\n",
       "      <td>6.66e-04</td>\n",
       "      <td>6.66e-04</td>\n",
       "      <td>4.25e-01</td>\n",
       "      <td>6.66e-04</td>\n",
       "      <td>-6.28e-01</td>\n",
       "      <td>3.94e-01</td>\n",
       "      <td>6.66e-04</td>\n",
       "      <td>1.82e+00</td>\n",
       "    </tr>\n",
       "  </tbody>\n",
       "</table>\n",
       "</div>"
      ],
      "text/plain": [
       "TumorType       BRCA      COAD       GBM     HNSCC      LSCC      LUAD        OV       PDA      UCEC     ccRCC\n",
       "GeneSymbol                                                                                                    \n",
       "ACKR3       6.66e-04  6.66e-04  6.66e-04  6.66e-04  1.84e+00  6.66e-04  6.66e-04  6.66e-04  6.66e-04  6.66e-04\n",
       "AHNAK2     -3.36e-01 -9.54e-01 -6.25e-01  1.19e-01  7.21e-01  4.58e-01 -9.23e-01  7.71e-01 -1.54e+00  1.99e+00\n",
       "CA9         1.15e-01  2.83e-01  2.92e-01  8.44e-01  7.56e-01  6.30e-01 -1.41e-01  1.76e-01  5.91e-01  2.20e+00\n",
       "CD70        6.66e-04  6.66e-04  6.66e-04  6.66e-04  6.66e-04  6.66e-04  6.66e-04  6.66e-04  6.66e-04  2.11e+00\n",
       "COL23A1     6.66e-04  6.66e-04  6.66e-04  6.66e-04  4.25e-01  6.66e-04 -6.28e-01  3.94e-01  6.66e-04  1.82e+00"
      ]
     },
     "execution_count": 17,
     "metadata": {},
     "output_type": "execute_result"
    }
   ],
   "source": [
    "pivot_df.head()"
   ]
  },
  {
   "cell_type": "code",
   "execution_count": 68,
   "id": "9d49a7d8-5e51-4fd0-bb55-9fe23498618d",
   "metadata": {},
   "outputs": [
    {
     "data": {
      "image/png": "[encoded data removed]",
      "text/plain": [
       "<Figure size 1000x600 with 4 Axes>"
      ]
     },
     "metadata": {},
     "output_type": "display_data"
    }
   ],
   "source": [
    "g = sns.clustermap(pivot_df, yticklabels=True, xticklabels=True, metric='euclidean', method='complete',\n",
    "                    dendrogram_ratio=(.05, .05), cbar_pos=(0, 0.80, 0.005, 0.2), colors_ratio=0.03, mask=pivot_df == 0.000666,\n",
    "                    linewidth=0.4, linecolor='#4E4E4E', vmin=0, vmax=5, cmap=\"coolwarm\", figsize=(10, 6))\n",
    "#          -          -          -          -          -          -          -          -          -          -          -  \n",
    "g.ax_heatmap.tick_params(axis='x', length=0, width=0, colors='green',  pad=10)\n",
    "g.ax_heatmap.tick_params(axis='y', length=0, width=0, colors='purple', pad=2)\n",
    "plt.setp(g.ax_heatmap.get_xticklabels(), fontsize=10, color='#7E7E7E', rotation=0)\n",
    "plt.setp(g.ax_heatmap.get_yticklabels(), fontsize=6,  color='#7E7E7E', rotation=0)\n",
    "g.ax_heatmap.set_xlabel(''); g.ax_heatmap.set_ylabel('')\n",
    "#          -          -          -          -          -          -          -          -          -          -          -       \n",
    "plt.show()"
   ]
  },
  {
   "cell_type": "code",
   "execution_count": null,
   "id": "7ac7d9f7-d49b-48b3-a450-771ec92421ad",
   "metadata": {},
   "outputs": [],
   "source": [
    "print(\"'CPTAC_FragPipe_DEG_Cluster_v01' script run time:\", f'{time.time()-start:.0f}', \"seconds.\")"
   ]
  }
 ],
 "metadata": {
  "kernelspec": {
   "display_name": "virtualENV",
   "language": "python",
   "name": "virtualenv"
  },
  "language_info": {
   "codemirror_mode": {
    "name": "ipython",
    "version": 3
   },
   "file_extension": ".py",
   "mimetype": "text/x-python",
   "name": "python",
   "nbconvert_exporter": "python",
   "pygments_lexer": "ipython3",
   "version": "3.11.9"
  }
 },
 "nbformat": 4,
 "nbformat_minor": 5
}
