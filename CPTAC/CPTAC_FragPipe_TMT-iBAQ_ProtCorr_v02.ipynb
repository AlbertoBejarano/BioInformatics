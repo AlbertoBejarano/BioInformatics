{
 "cells": [
  {
   "cell_type": "code",
   "execution_count": null,
   "id": "84d95ba1-ee07-4612-8a8c-10cf20878fe8",
   "metadata": {},
   "outputs": [],
   "source": [
    "# Wang, Jixin et al. “Pan-Cancer Proteomics Analysis to Identify Tumor-Enriched and Highly Expressed Cell Surface Antigens as Potential Targets for Cancer Therapeutics.”\n",
    "# Molecular & cellular proteomics : MCP vol. 22,9 (2023)\n",
    "# https://www.ncbi.nlm.nih.gov/pmc/articles/PMC10494184/\n",
    "# https://zenodo.org/records/7991979"
   ]
  },
  {
   "cell_type": "code",
   "execution_count": null,
   "id": "1fc29cb6-bcf4-49fb-817c-8b40e39e8d98",
   "metadata": {},
   "outputs": [],
   "source": [
    "# CPTAC_FragPipe_TMT-iBAQ_ProtCorr_v02\n",
    "# Alberto Bejarano 2024"
   ]
  },
  {
   "cell_type": "code",
   "execution_count": null,
   "id": "05fae0dc-0c25-4c60-946f-f73d9c9fbb52",
   "metadata": {},
   "outputs": [],
   "source": [
    "# intensity-based absolute quantification (iBAQ); tandem mass tag (TMT); total protein approach (TPA)"
   ]
  },
  {
   "cell_type": "code",
   "execution_count": null,
   "id": "05fa2f64-2267-40b8-bb60-92c563daaa1f",
   "metadata": {},
   "outputs": [],
   "source": [
    "import time; start = time.time()\n",
    "from datetime import datetime; print(datetime.now().strftime(\"%B %d, %Y %H:%M:%S\"))"
   ]
  },
  {
   "cell_type": "code",
   "execution_count": null,
   "id": "44bac029-8de5-40f4-b432-e2ae6dbe7963",
   "metadata": {},
   "outputs": [],
   "source": [
    "#!pip install pyreadr\n",
    "#!pip uninstall seaborn\n",
    "#!pip install seaborn==0.11.2"
   ]
  },
  {
   "cell_type": "code",
   "execution_count": null,
   "id": "612d6fa1-4da8-4143-aca0-6c2ddccd6f9b",
   "metadata": {},
   "outputs": [],
   "source": [
    "import pandas as pd\n",
    "pd.set_option('display.precision', 2)\n",
    "pd.set_option('display.max_columns', 200)\n",
    "pd.set_option('display.width', 1000)\n",
    "pd.options.display.float_format = '{:.3f}'.format\n",
    "#        -         -        -        -         -        -         -        -        -         -\n",
    "from scipy.stats import mannwhitneyu, normaltest\n",
    "from statannotations.Annotator import Annotator\n",
    "from statannot import add_stat_annotation\n",
    "from openpyxl import load_workbook\n",
    "import matplotlib.pyplot as plt\n",
    "from scipy import stats\n",
    "#from tqdm import tqdm\n",
    "import seaborn as sns; print(sns.__version__) # Install version 0.11.2\n",
    "import numpy as np\n",
    "import pyreadr\n",
    "import re\n",
    "#        -         -        -        -         -        -         -        -        -         -\n",
    "import warnings; warnings.filterwarnings(\"ignore\") \n",
    "warnings.filterwarnings(\"ignore\", category=FutureWarning)\n",
    "warnings.filterwarnings(\"ignore\", category=RuntimeWarning)"
   ]
  },
  {
   "cell_type": "code",
   "execution_count": null,
   "id": "2d7d796a-1450-440e-a50f-b2ece36dd39d",
   "metadata": {},
   "outputs": [],
   "source": [
    "GenesOfInterest = ['MSLN', 'RAB5A', 'RAB5B', 'ERBB3', 'ERBB2', 'CTLA4']\n",
    "#GenesOfInterest = [\"TP53\", \"MYC\", 'ERBB2']"
   ]
  },
  {
   "cell_type": "code",
   "execution_count": null,
   "id": "e71fa8c6-78f9-4e2c-ac8f-83f95ec12be6",
   "metadata": {},
   "outputs": [],
   "source": [
    "GenesOfInterest =  [\n",
    "                    'VAMP8', 'PYCARD', 'TMED2', 'IER3IP1', 'DPM3',      # BRCA\n",
    "                    'ELANE', 'PRTN3', 'CEACAM5', 'FCER1G', 'GPRC5A',    # COAD\n",
    "                    'MIF', 'CRYAB', 'LGALS1', 'ANXA4', 'ANXA2',         # ccRCC\n",
    "                    'BGN', 'ANXA1', 'CD59', 'CTSE', 'THBS1',            # PDAC\n",
    "                    'HSPA5', 'HSPD1', 'SEC61B', 'PDIA4', 'SPCS3',       # LUAD\n",
    "                    'CALR', 'MT-CO2', 'CD9', 'ATP5IF1', 'COX6C',        # UCEC\n",
    "                    'CALR', 'HSPD1', 'HSP90AB1', 'C1QBP', 'PDIA4',      # OV\n",
    "                    'ELANE', 'PRTN3', 'HLA-B', 'SLC2A1', 'TAPBP',       # HNSCC\n",
    "                    'APOA1', 'ANXA5', 'ANXA1', 'ANXA2', 'TF',           # GBM\n",
    "                    'HSP90AB1', 'HSPA5', 'SLC25A5', 'HSPD1', 'VDAC2'    # LSCC\n",
    "                   ]"
   ]
  },
  {
   "cell_type": "code",
   "execution_count": null,
   "id": "1d1b3da6-99f5-4a74-86b8-3e81e0da601a",
   "metadata": {},
   "outputs": [],
   "source": [
    "method = 'spearman' # pearson, kendall "
   ]
  },
  {
   "cell_type": "code",
   "execution_count": null,
   "id": "6f1df26b-74dc-48d2-b034-fa98ca46c0c9",
   "metadata": {},
   "outputs": [],
   "source": [
    "path = './data/iBAQ/CPTAC_PAN_T_N_iBAQ_pheno.RData'\n",
    "result = pyreadr.read_r(path)"
   ]
  },
  {
   "cell_type": "code",
   "execution_count": null,
   "id": "49998fa9-91b1-4766-b78b-b3e4972c72e0",
   "metadata": {},
   "outputs": [],
   "source": [
    "keys = list(result.keys()); #print(f\"Keys in {datafile}: {keys}\")\n",
    "iBAQ_pheno_df = result[keys[0]]\n",
    "iBAQ_pheno_df.index.name = 'Sample'\n",
    "print(iBAQ_pheno_df.index.name)\n",
    "iBAQ_pheno_df = iBAQ_pheno_df.reset_index()\n",
    "print(iBAQ_pheno_df.index.name)\n",
    "iBAQ_pheno_df.sample(2)"
   ]
  },
  {
   "cell_type": "code",
   "execution_count": null,
   "id": "5162cae8-d843-45b0-91f2-f840c0363dc6",
   "metadata": {},
   "outputs": [],
   "source": [
    "path = './data/iBAQ/CPTAC_PAN_T_N_iBAQ.RData'\n",
    "result = pyreadr.read_r(path)"
   ]
  },
  {
   "cell_type": "code",
   "execution_count": null,
   "id": "f9cdeff6-5507-4b29-98b8-c7df231b3cc3",
   "metadata": {},
   "outputs": [],
   "source": [
    "keys = list(result.keys()); #print(f\"Keys in {datafile}: {keys}\")\n",
    "df = result[keys[0]]\n",
    "#df.fillna(0, inplace=True)"
   ]
  },
  {
   "cell_type": "code",
   "execution_count": null,
   "id": "8a0bf518-3d33-4aff-a36c-385297c904cd",
   "metadata": {},
   "outputs": [],
   "source": [
    "df.index.name = 'GeneSymbol'\n",
    "print(df.index.name)\n",
    "df = df.reset_index()\n",
    "print(df.index.name)"
   ]
  },
  {
   "cell_type": "code",
   "execution_count": null,
   "id": "a8ae170c-5553-4c9d-8233-c64d10a26530",
   "metadata": {},
   "outputs": [],
   "source": [
    "df.sample(2)"
   ]
  },
  {
   "cell_type": "code",
   "execution_count": null,
   "id": "e9660ecb-31fe-4fcc-b895-85eca777f945",
   "metadata": {},
   "outputs": [],
   "source": [
    "df_filtered = df[df[\"GeneSymbol\"].isin(GenesOfInterest)]\n",
    "df_filtered.sample()"
   ]
  },
  {
   "cell_type": "code",
   "execution_count": null,
   "id": "494431b1-c785-41ec-b4c3-0bd0296ef013",
   "metadata": {},
   "outputs": [],
   "source": [
    "df_narrow = pd.melt(df_filtered.reset_index(), id_vars=['GeneSymbol'], var_name='Sample', value_name='iBAQ')\n",
    "df_narrow.sample()"
   ]
  },
  {
   "cell_type": "code",
   "execution_count": null,
   "id": "f3479575-456d-46ef-b729-7556d29c1753",
   "metadata": {},
   "outputs": [],
   "source": [
    "col_order = ['GeneSymbol', 'Sample', 'TumorType', 'TissueType', 'iBAQ', 'log2_iBAQ']"
   ]
  },
  {
   "cell_type": "code",
   "execution_count": null,
   "id": "6b4fd3f5-602d-44d0-8a1f-a5c485605a06",
   "metadata": {},
   "outputs": [],
   "source": [
    "iBAQ_ProtExpression_df = pd.merge(df_narrow, iBAQ_pheno_df, on='Sample')\n",
    "iBAQ_ProtExpression_df.rename(columns={'ind':'TumorType', 'Tissue':'TissueType'}, inplace=True)\n",
    "iBAQ_ProtExpression_df['log2_iBAQ'] = iBAQ_ProtExpression_df['iBAQ'].apply(lambda x: np.log2(x+1))\n",
    "iBAQ_ProtExpression_df = iBAQ_ProtExpression_df[col_order]\n",
    "iBAQ_ProtExpression_df.sample(5)"
   ]
  },
  {
   "cell_type": "code",
   "execution_count": null,
   "id": "1587292e-197c-4e04-b447-33be81671890",
   "metadata": {},
   "outputs": [],
   "source": [
    "%%time\n",
    "for gene in GenesOfInterest:\n",
    "    data = iBAQ_ProtExpression_df[iBAQ_ProtExpression_df['GeneSymbol'] == gene]\n",
    "    sample_counts = data.groupby(['GeneSymbol', 'TumorType', 'TissueType']).size().reset_index(name='SampleCount')\n",
    "    sample_counts = sample_counts.sort_values(by=['TumorType', 'SampleCount', 'TissueType'], ascending=[True, False, True])\n",
    "    #print(sample_counts)"
   ]
  },
  {
   "cell_type": "code",
   "execution_count": null,
   "id": "f2be7962-2a1e-4e41-887d-97df0cc4c4c6",
   "metadata": {},
   "outputs": [],
   "source": [
    "iBAQ_ProtExpression_df.dtypes"
   ]
  },
  {
   "cell_type": "code",
   "execution_count": null,
   "id": "8e0aebc4-3151-42ba-95b8-d032281f9396",
   "metadata": {},
   "outputs": [],
   "source": [
    "print(len(iBAQ_ProtExpression_df))\n",
    "#prot_exp_df = prot_exp_df.head(200)\n",
    "print(len(iBAQ_ProtExpression_df))"
   ]
  },
  {
   "cell_type": "code",
   "execution_count": null,
   "id": "1f4132c4-a34c-4fcd-8f2d-dae03034133d",
   "metadata": {},
   "outputs": [],
   "source": [
    "gene_list = iBAQ_ProtExpression_df.GeneSymbol.unique().tolist(); print('\\033[33m', sorted(gene_list), '\\033[0m')"
   ]
  },
  {
   "cell_type": "code",
   "execution_count": null,
   "id": "e4544aa3-87ec-4da7-9fa1-b022bbcf35c8",
   "metadata": {},
   "outputs": [],
   "source": [
    "tissue_list = iBAQ_ProtExpression_df.TissueType.unique().tolist(); print('\\033[33m', sorted(tissue_list), '\\033[0m')"
   ]
  },
  {
   "cell_type": "code",
   "execution_count": null,
   "id": "75f41792-c011-4e21-8442-d8e88b41efc9",
   "metadata": {},
   "outputs": [],
   "source": [
    "tumortype_list = iBAQ_ProtExpression_df.TumorType.unique().tolist(); print('\\033[33m', sorted(tumortype_list ), '\\033[0m')"
   ]
  },
  {
   "cell_type": "code",
   "execution_count": null,
   "id": "19578bf3-0531-4341-a780-5e4551a17672",
   "metadata": {},
   "outputs": [],
   "source": [
    "df_wide = iBAQ_ProtExpression_df.pivot(index=['Sample', 'TumorType', 'TissueType'], columns='GeneSymbol', values='log2_iBAQ').reset_index()\n",
    "df_wide.sample(3)"
   ]
  },
  {
   "cell_type": "code",
   "execution_count": null,
   "id": "07ea4532-a543-4c27-a953-7fadac57bfef",
   "metadata": {},
   "outputs": [],
   "source": []
  },
  {
   "cell_type": "code",
   "execution_count": null,
   "id": "77599dde-7ac2-409e-adb8-011d39eb4ff6",
   "metadata": {},
   "outputs": [],
   "source": [
    "hue = 'TissueType'\n",
    "hue_order = [\"Normal\", \"Tumor\"]\n",
    "palette = sns.color_palette(\"pastel\")\n",
    "palette = {'Normal': '#a1c9f4', 'Tumor': '#f2b482'}"
   ]
  },
  {
   "cell_type": "code",
   "execution_count": null,
   "id": "0ab7d678-7c5e-4b38-844f-3e0106c5c5db",
   "metadata": {},
   "outputs": [],
   "source": [
    "data = df_wide\n",
    "#          -          -          -          -          -          -          -          -          -          -          -          -\n",
    "scatter_kws = {'s':6, 'alpha':0.25, 'linewidth':0.2, 'hue':hue, 'palette':palette, 'edgecolor':'#1E1E1E'}\n",
    "#kws1 = {'s':2, 'alpha':0.25, 'linewidth':0.5,'edgecolor':'#1E1E1E', 'palette':palette}\n",
    "line_kas= {'color': 'red', 'alpha':0.25, 'lw':0.5};"
   ]
  },
  {
   "cell_type": "code",
   "execution_count": null,
   "id": "465b2f89-ae92-4e1e-a0e1-4458de2d0bf0",
   "metadata": {},
   "outputs": [],
   "source": []
  },
  {
   "cell_type": "code",
   "execution_count": null,
   "id": "d644b63d-27fa-41c8-9a1d-abdf928351a8",
   "metadata": {},
   "outputs": [],
   "source": [
    "for i in range(len(gene_list)):\n",
    "    for j in range(i + 1, len(gene_list)):\n",
    "        #          -          -          -          -          -          -          -          -          -          -          -          -\n",
    "        a = gene_list[i]; b = gene_list[j]; print(a, b)\n",
    "        #          -          -          -          -          -          -          -          -          -          -          -          -\n",
    "        count_feat = 1\n",
    "        figsize=(12/2.54, 6/2.54)\n",
    "        fig = plt.subplots(figsize=figsize, dpi=300, subplot_kw={'aspect': 'equal'});\n",
    "        plt.subplots_adjust(wspace=0,hspace=0); plt.axis('off')\n",
    "        for tumor in (tumortype_list):\n",
    "            try:\n",
    "                df00 = data.loc[data.TumorType == tumor]; n = len(df00)\n",
    "                ax = plt.subplot(2, 5, count_feat)\n",
    "            #        -         -        -        -         -        -         -        -        -         -        -        -         -                   \n",
    "                ax = sns.scatterplot(data=df00, x=df00[a], y=df00[b], **scatter_kws)             \n",
    "\n",
    "                factor = 1.05  # Adjust as needed\n",
    "                xmin, xmax = ax.get_xlim(); ymin, ymax = ax.get_ylim()\n",
    "                new_xmin = xmin - factor; new_xmax = xmax + factor\n",
    "                new_ymin = ymin - factor; new_ymax = ymax + factor\n",
    "                ax.set_xlim(new_xmin, new_xmax); ax.set_ylim(new_ymin, new_ymax)\n",
    "                ax.set_xscale('linear'); ax.set_yscale('linear')                  \n",
    "                \n",
    "                ax  = sns.regplot(data=df00, x=df00[a], y=df00[b], scatter=False, fit_reg=True, ci=95, truncate=False,\n",
    "                         scatter_kws=scatter_kws, line_kws=line_kas, ax=ax)                 \n",
    "            #      -          -          -          -          -          -          -          -          -          -          -          -\n",
    "                slope, intercept, r_value, p_value, std_err = stats.stats.linregress(x=df00[a], y=df00[b])\n",
    "                r = df00[a].corr(df00[b], method=method)\n",
    "            #      -          -          -          -          -          -          -          -          -          -          -          -\n",
    "                if r >= 0.75:\n",
    "                    val = \"green\"\n",
    "                elif 0.75 >= 0.5:\n",
    "                    val = \"orange\"\n",
    "                elif 0.5 > r > 0.5:\n",
    "                    val = \"red\"\n",
    "                elif -0.5 > r >= 0.75:\n",
    "                    val = \"orange\"\n",
    "                elif -0.75 > r:\n",
    "                    val = \"green\" \n",
    "            #        -         -        -        -         -        -         -        -        -         -        -        -         -                    \n",
    "                ax.set_title(' ' + tumor, color='#b8bdbf', fontsize=6, loc='left', pad=2)\n",
    "                textkws = {'weight':500, 'va':'center', 'alpha':0.8}; axs = ax.transAxes\n",
    "                bboxkws = {'facecolor':'white', 'edgecolor':'white', 'boxstyle':'round', 'pad':0.2}\n",
    "                ax.text(0.60, 0.95, \"r = \"+str('{:,.2f}'.format(r)), fontsize=5, ha='center', color=val, transform=axs, bbox=bboxkws, **textkws)\n",
    "                ax.text(0.97, 0.02, \"n = \"+str('{:,.0f}'.format(n)), fontsize=4, ha='right',  color='#7E7E7E', transform=axs,  bbox=bboxkws, **textkws)\n",
    "                #        -         -        -        -         -        -         -        -        -         -        -        -         - \n",
    "                #ax.axes.xaxis.set_visible(False); ax.axes.yaxis.set_visible(False)\n",
    "                ax.set_xticks([]); ax.set_yticks([]); ax.set_xticklabels([]); ax.set_yticklabels([])\n",
    "                sns.despine(); ax.spines['left'].set_color('#b8bdbf'); ax.spines['bottom'].set_color('#b8bdbf')\n",
    "                [x.set_linewidth(.25) for x in ax.spines.values()]\n",
    "                if count_feat == 6:\n",
    "                    ax.set_xlabel(a, fontsize=4, color='#b8bdbf', x = 0.2)\n",
    "                    ax.set_ylabel(b, fontsize=4, color='#b8bdbf', y = 0.2)\n",
    "                else:\n",
    "                    ax.set_xlabel('', fontsize=0); ax.set_ylabel('', fontsize=0)\n",
    "    \n",
    "            #        -         -        -        -         -        -         -        -        -         -        -        -         -                  \n",
    "                plt.legend([],[],frameon=False)\n",
    "            #        -         -        -        -         -        -         -        -        -         -        -        -         -             \n",
    "            except ValueError as err:\n",
    "                print('An exception ocurred')\n",
    "                print(err)\n",
    "            #        -         -        -        -         -        -         -        -        -         -        -        -         -              \n",
    "            count_feat += 1\n",
    "\n",
    "        plt.tight_layout(pad=0.5);\n",
    "        plt.suptitle('Correlation Prot Expression '+str(a)+' vs '+ str(b), color='#b8bdbf', fontsize=6, x=0.01, y=1.05, ha='left')\n",
    "        plt.show(); #plt.close()   \n",
    "        #plt.savefig(\"tcga.png\", format=\"png\", bbox_inches=\"tight\", dpi=300)"
   ]
  },
  {
   "cell_type": "code",
   "execution_count": null,
   "id": "2ddb85b7-361d-4775-9457-234aebd5eff6",
   "metadata": {},
   "outputs": [],
   "source": [
    "print(\"'CPTAC_FragPipe_TMT-iBAQ_ProtCorr_v01' script run time:\", f'{time.time()-start:.0f}', \"seconds.\")"
   ]
  }
 ],
 "metadata": {
  "kernelspec": {
   "display_name": "virtualENV",
   "language": "python",
   "name": "virtualenv"
  },
  "language_info": {
   "codemirror_mode": {
    "name": "ipython",
    "version": 3
   },
   "file_extension": ".py",
   "mimetype": "text/x-python",
   "name": "python",
   "nbconvert_exporter": "python",
   "pygments_lexer": "ipython3",
   "version": "3.11.9"
  }
 },
 "nbformat": 4,
 "nbformat_minor": 5
}
