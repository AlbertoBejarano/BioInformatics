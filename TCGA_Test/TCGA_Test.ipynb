{
 "cells": [
  {
   "cell_type": "code",
   "execution_count": 1,
   "id": "2c532128-f9ff-46fd-88ca-55af28536c40",
   "metadata": {},
   "outputs": [
    {
     "name": "stderr",
     "output_type": "stream",
     "text": [
      "Registered S3 methods overwritten by 'ggplot2':\n",
      "  method         from \n",
      "  [.quosures     rlang\n",
      "  c.quosures     rlang\n",
      "  print.quosures rlang\n",
      "Registered S3 method overwritten by 'rvest':\n",
      "  method            from\n",
      "  read_xml.response xml2\n",
      "-- Attaching packages --------------------------------------- tidyverse 1.2.1 --\n",
      "v ggplot2 3.1.1       v purrr   0.3.2  \n",
      "v tibble  2.1.1       v dplyr   0.8.0.1\n",
      "v tidyr   0.8.3       v stringr 1.4.0  \n",
      "v readr   1.3.1       v forcats 0.4.0  \n",
      "-- Conflicts ------------------------------------------ tidyverse_conflicts() --\n",
      "x dplyr::between()   masks data.table::between()\n",
      "x dplyr::filter()    masks stats::filter()\n",
      "x dplyr::first()     masks data.table::first()\n",
      "x dplyr::lag()       masks stats::lag()\n",
      "x dplyr::last()      masks data.table::last()\n",
      "x purrr::transpose() masks data.table::transpose()\n",
      "\n",
      "Attaching package: 'scales'\n",
      "\n",
      "The following object is masked from 'package:purrr':\n",
      "\n",
      "    discard\n",
      "\n",
      "The following object is masked from 'package:readr':\n",
      "\n",
      "    col_factor\n",
      "\n",
      "Loading required package: viridisLite\n",
      "\n",
      "Attaching package: 'viridis'\n",
      "\n",
      "The following object is masked from 'package:scales':\n",
      "\n",
      "    viridis_pal\n",
      "\n"
     ]
    }
   ],
   "source": [
    "library(data.table)\n",
    "library(tidyverse)\n",
    "library(ggplot2)\n",
    "library(lattice)\n",
    "library(scales)\n",
    "library(viridis)  # colorblind friendly palettes"
   ]
  },
  {
   "cell_type": "code",
   "execution_count": 2,
   "id": "205bd16e-3e07-4133-9720-27c7b5209df4",
   "metadata": {},
   "outputs": [],
   "source": [
    "df <- read.csv(\"Data/Data.txt\",  sep=\"\\t\", header = TRUE, stringsAsFactors = FALSE)"
   ]
  },
  {
   "cell_type": "code",
   "execution_count": 3,
   "id": "3309578a-2126-479a-a089-f4a7974a664a",
   "metadata": {},
   "outputs": [
    {
     "data": {
      "text/html": [
       "<table>\n",
       "<thead><tr><th scope=col>SampleID</th><th scope=col>Tumor</th><th scope=col>GeneID</th><th scope=col>TPM</th></tr></thead>\n",
       "<tbody>\n",
       "\t<tr><td>000-001-01</td><td>GBM       </td><td>Gene1     </td><td>2.35      </td></tr>\n",
       "\t<tr><td>000-001-01</td><td>GBM       </td><td>Gene2     </td><td>6.65      </td></tr>\n",
       "\t<tr><td>000-001-01</td><td>GBM       </td><td>Gene3     </td><td>4.45      </td></tr>\n",
       "\t<tr><td>000-001-01</td><td>GBM       </td><td>Gene4     </td><td>6.39      </td></tr>\n",
       "\t<tr><td>000-001-02</td><td>GBM       </td><td>Gene1     </td><td>2.35      </td></tr>\n",
       "\t<tr><td>000-001-02</td><td>GBM       </td><td>Gene2     </td><td>5.65      </td></tr>\n",
       "</tbody>\n",
       "</table>\n"
      ],
      "text/latex": [
       "\\begin{tabular}{r|llll}\n",
       " SampleID & Tumor & GeneID & TPM\\\\\n",
       "\\hline\n",
       "\t 000-001-01 & GBM        & Gene1      & 2.35      \\\\\n",
       "\t 000-001-01 & GBM        & Gene2      & 6.65      \\\\\n",
       "\t 000-001-01 & GBM        & Gene3      & 4.45      \\\\\n",
       "\t 000-001-01 & GBM        & Gene4      & 6.39      \\\\\n",
       "\t 000-001-02 & GBM        & Gene1      & 2.35      \\\\\n",
       "\t 000-001-02 & GBM        & Gene2      & 5.65      \\\\\n",
       "\\end{tabular}\n"
      ],
      "text/markdown": [
       "\n",
       "| SampleID | Tumor | GeneID | TPM |\n",
       "|---|---|---|---|\n",
       "| 000-001-01 | GBM        | Gene1      | 2.35       |\n",
       "| 000-001-01 | GBM        | Gene2      | 6.65       |\n",
       "| 000-001-01 | GBM        | Gene3      | 4.45       |\n",
       "| 000-001-01 | GBM        | Gene4      | 6.39       |\n",
       "| 000-001-02 | GBM        | Gene1      | 2.35       |\n",
       "| 000-001-02 | GBM        | Gene2      | 5.65       |\n",
       "\n"
      ],
      "text/plain": [
       "  SampleID   Tumor GeneID TPM \n",
       "1 000-001-01 GBM   Gene1  2.35\n",
       "2 000-001-01 GBM   Gene2  6.65\n",
       "3 000-001-01 GBM   Gene3  4.45\n",
       "4 000-001-01 GBM   Gene4  6.39\n",
       "5 000-001-02 GBM   Gene1  2.35\n",
       "6 000-001-02 GBM   Gene2  5.65"
      ]
     },
     "metadata": {},
     "output_type": "display_data"
    }
   ],
   "source": [
    "head(df)"
   ]
  },
  {
   "cell_type": "code",
   "execution_count": 4,
   "id": "f18e5b03-fb7b-4d86-af2e-8b6f0598bdbf",
   "metadata": {
    "tags": []
   },
   "outputs": [],
   "source": [
    "#df <- filter(df, Tumor == \"GBM\")"
   ]
  },
  {
   "cell_type": "code",
   "execution_count": 5,
   "id": "328383f2-96cf-4996-84ae-fa9421577a5f",
   "metadata": {},
   "outputs": [
    {
     "data": {
      "image/png": "[encoded data removed]",
      "text/plain": [
       "plot without title"
      ]
     },
     "metadata": {},
     "output_type": "display_data"
    }
   ],
   "source": [
    "ggplot(data = df, aes(x=SampleID, y=GeneID, fill=TPM)) + geom_tile()"
   ]
  },
  {
   "cell_type": "code",
   "execution_count": 28,
   "id": "e27326a4-8bcb-4bf0-a7d6-b5ba4a9c7355",
   "metadata": {},
   "outputs": [
    {
     "data": {
      "image/png": "[encoded data removed]",
      "text/plain": [
       "plot without title"
      ]
     },
     "metadata": {},
     "output_type": "display_data"
    }
   ],
   "source": [
    "ggplot(data=df, aes(x=SampleID, y=GeneID, fill=TPM)) +\n",
    "                    geom_tile(color=\"white\", size=0.1) +\n",
    "                    scale_fill_viridis(name=\"# Events\", label=comma) +\n",
    "                    facet_wrap(~Tumor, ncol=2) +\n",
    "                    labs(x=NULL, y=NULL, title=\"Events per weekday & time of day\") +\n",
    "                    theme(axis.ticks=element_blank()) +\n",
    "                    theme(axis.text.x=element_blank())"
   ]
  },
  {
   "cell_type": "code",
   "execution_count": null,
   "id": "fc075a88-c2d0-4b6c-a187-5a2803375743",
   "metadata": {},
   "outputs": [],
   "source": []
  },
  {
   "cell_type": "code",
   "execution_count": null,
   "id": "acffa0f9-7c4c-4a76-98e1-b9cca2f033ee",
   "metadata": {},
   "outputs": [],
   "source": []
  }
 ],
 "metadata": {
  "kernelspec": {
   "display_name": "R",
   "language": "R",
   "name": "ir"
  },
  "language_info": {
   "codemirror_mode": "r",
   "file_extension": ".r",
   "mimetype": "text/x-r-source",
   "name": "R",
   "pygments_lexer": "r",
   "version": "3.6.1"
  }
 },
 "nbformat": 4,
 "nbformat_minor": 5
}
