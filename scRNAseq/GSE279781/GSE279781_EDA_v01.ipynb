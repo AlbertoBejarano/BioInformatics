{
 "cells": [
  {
   "cell_type": "code",
   "execution_count": 1,
   "id": "5c25caba-81ea-4a9b-a5f3-9c25fbdd805e",
   "metadata": {},
   "outputs": [],
   "source": [
    "# https://pmc.ncbi.nlm.nih.gov/articles/PMC7779747/\n",
    "# https://www.ncbi.nlm.nih.gov/geo/query/acc.cgi?acc=GSE279781\n",
    "# https://www.cell.com/iscience/pdf/S2589-0042(24)02796-2.pdf"
   ]
  },
  {
   "cell_type": "code",
   "execution_count": 2,
   "id": "45ad3fa8-e48e-4e66-b6e4-9589f9761439",
   "metadata": {},
   "outputs": [
    {
     "name": "stderr",
     "output_type": "stream",
     "text": [
      "Enabling notebook extension jupyter-js-widgets/extension...\n",
      "      - Validating: ok\n"
     ]
    }
   ],
   "source": [
    "!jupyter nbextension enable --py widgetsnbextension"
   ]
  },
  {
   "cell_type": "code",
   "execution_count": 3,
   "id": "e34838f1-8128-4130-b423-433b01fddb74",
   "metadata": {},
   "outputs": [
    {
     "name": "stdout",
     "output_type": "stream",
     "text": [
      "_ih: 0.00 MB _oh: 0.00 MB _dh: 0.00 MB In: 0.00 MB Out: 0.00 MB get_ipython: 0.00 MB exit: 0.00 MB quit: 0.00 MB open: 0.00 MB _: 0.00 MB _i: 0.00 MB _ii: 0.00 MB _iii: 0.00 MB _i1: 0.00 MB _i2: 0.00 MB _exit_code: 0.00 MB _i3: 0.00 MB sys: 0.00 MB ['In', 'Out', '_', '_dh', '_exit_code', '_i', '_i1', '_i2', '_i3', '_ih', '_ii', '_iii', '_oh', 'exit', 'get_ipython', 'open', 'quit', 'size', 'sys', 'var', 'variables']\n"
     ]
    }
   ],
   "source": [
    "import sys\n",
    "variables = {var: sys.getsizeof(obj) / (1024**2)  # List variables with their memory size\n",
    "             for var, obj in globals().items() if not var.startswith(\"__\")}\n",
    "for var, size in variables.items():\n",
    "    print(f\"{var}: {size:.2f} MB\", end=\" \")\n",
    "    \n",
    "print([var for var in dir() if not var.startswith('__')])\n",
    "%reset -f"
   ]
  },
  {
   "cell_type": "code",
   "execution_count": 4,
   "id": "f6149b16-7046-473b-ae70-460e09d27c4c",
   "metadata": {},
   "outputs": [
    {
     "name": "stdout",
     "output_type": "stream",
     "text": [
      "December 30, 2024 19:33:09\n"
     ]
    }
   ],
   "source": [
    "import time; start = time.time()\n",
    "from datetime import datetime; print(datetime.now().strftime(\"%B %d, %Y %H:%M:%S\"))"
   ]
  },
  {
   "cell_type": "code",
   "execution_count": 5,
   "id": "5fe5a25b-82df-425f-b37f-48aca22d6e3e",
   "metadata": {},
   "outputs": [],
   "source": [
    "import warnings; warnings.filterwarnings(\"ignore\") \n",
    "warnings.filterwarnings(\"ignore\", category=FutureWarning)\n",
    "warnings.filterwarnings(\"ignore\", category=RuntimeWarning)"
   ]
  },
  {
   "cell_type": "code",
   "execution_count": 6,
   "id": "485c93d5-73cf-4ad1-8434-dbeafb30976c",
   "metadata": {},
   "outputs": [],
   "source": [
    "import pandas as pd;\n",
    "#pd.options.display.float_format = ' {:.3f}' .format\n",
    "pd.options.display.max_columns = 200\n",
    "import seaborn as sns; sns.__version__\n",
    "import matplotlib.pyplot as plt"
   ]
  },
  {
   "cell_type": "code",
   "execution_count": 7,
   "id": "b04b8abb-dc3e-4452-a6cd-6cbec18b8fd6",
   "metadata": {},
   "outputs": [],
   "source": [
    "annotations_path  = '../../data/GSE279781/GSE279781__annotations.csv.gz'\n",
    "features_path     = '../../data/GSE279781/GSE279781_features.tsv.gz'\n",
    "barcodes_path     = '../../data/GSE279781/GSE279781_barcodes.tsv.gz'"
   ]
  },
  {
   "cell_type": "code",
   "execution_count": 8,
   "id": "3a216c10-140a-47eb-9c0f-7cfe398daba2",
   "metadata": {},
   "outputs": [
    {
     "data": {
      "text/html": [
       "<div>\n",
       "<style scoped>\n",
       "    .dataframe tbody tr th:only-of-type {\n",
       "        vertical-align: middle;\n",
       "    }\n",
       "\n",
       "    .dataframe tbody tr th {\n",
       "        vertical-align: top;\n",
       "    }\n",
       "\n",
       "    .dataframe thead th {\n",
       "        text-align: right;\n",
       "    }\n",
       "</style>\n",
       "<table border=\"1\" class=\"dataframe\">\n",
       "  <thead>\n",
       "    <tr style=\"text-align: right;\">\n",
       "      <th></th>\n",
       "      <th>barcode</th>\n",
       "      <th>is_cell</th>\n",
       "      <th>contig_id</th>\n",
       "      <th>high_confidence</th>\n",
       "      <th>length</th>\n",
       "      <th>chain</th>\n",
       "      <th>v_gene</th>\n",
       "      <th>d_gene</th>\n",
       "      <th>j_gene</th>\n",
       "      <th>c_gene</th>\n",
       "      <th>full_length</th>\n",
       "      <th>productive</th>\n",
       "      <th>fwr1</th>\n",
       "      <th>fwr1_nt</th>\n",
       "      <th>cdr1</th>\n",
       "      <th>cdr1_nt</th>\n",
       "      <th>fwr2</th>\n",
       "      <th>fwr2_nt</th>\n",
       "      <th>cdr2</th>\n",
       "      <th>cdr2_nt</th>\n",
       "      <th>fwr3</th>\n",
       "      <th>fwr3_nt</th>\n",
       "      <th>cdr3</th>\n",
       "      <th>cdr3_nt</th>\n",
       "      <th>fwr4</th>\n",
       "      <th>fwr4_nt</th>\n",
       "      <th>reads</th>\n",
       "      <th>umis</th>\n",
       "      <th>raw_clonotype_id</th>\n",
       "      <th>raw_consensus_id</th>\n",
       "      <th>exact_subclonotype_id</th>\n",
       "    </tr>\n",
       "  </thead>\n",
       "  <tbody>\n",
       "    <tr>\n",
       "      <th>18731</th>\n",
       "      <td>GCTCTGTAGATGCCTT-1</td>\n",
       "      <td>True</td>\n",
       "      <td>GCTCTGTAGATGCCTT-1_contig_1</td>\n",
       "      <td>True</td>\n",
       "      <td>504</td>\n",
       "      <td>TRB</td>\n",
       "      <td>TRBV12-3</td>\n",
       "      <td>NaN</td>\n",
       "      <td>TRBJ1-2</td>\n",
       "      <td>TRBC1</td>\n",
       "      <td>True</td>\n",
       "      <td>True</td>\n",
       "      <td>DAGVIQSPRHEVTEMGQEVTLRCKPI</td>\n",
       "      <td>GATGCTGGAGTTATCCAGTCACCCCGCCATGAGGTGACAGAGATGG...</td>\n",
       "      <td>SGHNS</td>\n",
       "      <td>TCAGGCCACAACTCC</td>\n",
       "      <td>LFWYRQTMMRGLELLIY</td>\n",
       "      <td>CTTTTCTGGTACAGACAGACCATGATGCGGGGACTGGAGTTGCTCA...</td>\n",
       "      <td>FNNNVP</td>\n",
       "      <td>TTTAACAACAACGTTCCG</td>\n",
       "      <td>IDDSGMPEDRFSAKMPNASFSTLKIQPSEPRDSAVYF</td>\n",
       "      <td>ATAGATGATTCAGGGATGCCCGAGGATCGATTCTCAGCTAAGATGC...</td>\n",
       "      <td>CASSYQGRLNGYTF</td>\n",
       "      <td>TGTGCCAGCAGTTACCAGGGACGGCTAAATGGCTACACCTTC</td>\n",
       "      <td>GSGTRLTVV</td>\n",
       "      <td>GGTTCGGGGACCAGGTTAACCGTTGTAG</td>\n",
       "      <td>1836</td>\n",
       "      <td>6</td>\n",
       "      <td>clonotype10955</td>\n",
       "      <td>clonotype10955_consensus_1</td>\n",
       "      <td>1</td>\n",
       "    </tr>\n",
       "    <tr>\n",
       "      <th>21399</th>\n",
       "      <td>GTCAAGTGTGAACCTT-1</td>\n",
       "      <td>True</td>\n",
       "      <td>GTCAAGTGTGAACCTT-1_contig_1</td>\n",
       "      <td>True</td>\n",
       "      <td>477</td>\n",
       "      <td>TRA</td>\n",
       "      <td>TRAV21</td>\n",
       "      <td>NaN</td>\n",
       "      <td>TRAJ21</td>\n",
       "      <td>TRAC</td>\n",
       "      <td>True</td>\n",
       "      <td>True</td>\n",
       "      <td>KQEVTQIPAALSVPEGENLVLNCSFT</td>\n",
       "      <td>AAACAGGAGGTGACACAGATTCCTGCAGCTCTGAGTGTCCCAGAAG...</td>\n",
       "      <td>DSAIYN</td>\n",
       "      <td>GATAGCGCTATTTACAAC</td>\n",
       "      <td>LQWFRQDPGKGLTSLLL</td>\n",
       "      <td>CTCCAGTGGTTTAGGCAGGACCCTGGGAAAGGTCTCACATCTCTGT...</td>\n",
       "      <td>IQSSQRE</td>\n",
       "      <td>ATTCAGTCAAGTCAGAGAGAG</td>\n",
       "      <td>QTSGRLNASLDKSSGRSTLYIAASQPGDSATYL</td>\n",
       "      <td>CAAACAAGTGGAAGACTTAATGCCTCGCTGGATAAATCATCAGGAC...</td>\n",
       "      <td>CGDGNFNKFYF</td>\n",
       "      <td>TGCGGCGATGGGAACTTCAACAAATTTTACTTT</td>\n",
       "      <td>GSGTKLNVKP</td>\n",
       "      <td>GGATCTGGGACCAAACTCAATGTAAAACCAA</td>\n",
       "      <td>1560</td>\n",
       "      <td>2</td>\n",
       "      <td>clonotype2066</td>\n",
       "      <td>clonotype2066_consensus_4</td>\n",
       "      <td>1</td>\n",
       "    </tr>\n",
       "    <tr>\n",
       "      <th>11577</th>\n",
       "      <td>CGCCAAGCACGGTAGA-1</td>\n",
       "      <td>True</td>\n",
       "      <td>CGCCAAGCACGGTAGA-1_contig_3</td>\n",
       "      <td>True</td>\n",
       "      <td>477</td>\n",
       "      <td>TRA</td>\n",
       "      <td>TRAV12-3</td>\n",
       "      <td>NaN</td>\n",
       "      <td>TRAJ24</td>\n",
       "      <td>NaN</td>\n",
       "      <td>True</td>\n",
       "      <td>True</td>\n",
       "      <td>QKEVEQDPGPLSVPEGAIVSLNCTYS</td>\n",
       "      <td>CAGAAGGAGGTGGAGCAGGATCCTGGACCACTCAGTGTTCCAGAGG...</td>\n",
       "      <td>NSAFQY</td>\n",
       "      <td>AACAGTGCTTTTCAATAC</td>\n",
       "      <td>FMWYRQYSRKGPELLMY</td>\n",
       "      <td>TTCATGTGGTACAGACAGTATTCCAGAAAAGGCCCTGAGTTGCTGA...</td>\n",
       "      <td>TYSSGN</td>\n",
       "      <td>ACATACTCCAGTGGTAAC</td>\n",
       "      <td>KEDGRFTAQVDKSSKYISLFIRDSQPSDSATYL</td>\n",
       "      <td>AAAGAAGATGGAAGGTTTACAGCACAGGTCGATAAATCCAGCAAGT...</td>\n",
       "      <td>CAMSAPDSWGKLQF</td>\n",
       "      <td>TGTGCAATGAGCGCGCCTGACAGCTGGGGGAAATTGCAGTTT</td>\n",
       "      <td>GAGTQVVVTP</td>\n",
       "      <td>GGAGCAGGGACCCAGGTTGTGGTCACCCCAG</td>\n",
       "      <td>606</td>\n",
       "      <td>1</td>\n",
       "      <td>clonotype7536</td>\n",
       "      <td>clonotype7536_consensus_2</td>\n",
       "      <td>1</td>\n",
       "    </tr>\n",
       "    <tr>\n",
       "      <th>17937</th>\n",
       "      <td>GCATGCGAGTACATGA-1</td>\n",
       "      <td>True</td>\n",
       "      <td>GCATGCGAGTACATGA-1_contig_3</td>\n",
       "      <td>True</td>\n",
       "      <td>505</td>\n",
       "      <td>TRA</td>\n",
       "      <td>TRAV1-2</td>\n",
       "      <td>NaN</td>\n",
       "      <td>TRAJ7</td>\n",
       "      <td>TRAC</td>\n",
       "      <td>True</td>\n",
       "      <td>True</td>\n",
       "      <td>GQNIDQPTEMTATEGAIVQINCTYQ</td>\n",
       "      <td>GGACAAAACATTGACCAGCCCACTGAGATGACAGCTACGGAAGGTG...</td>\n",
       "      <td>TSGFNG</td>\n",
       "      <td>ACATCTGGGTTCAACGGG</td>\n",
       "      <td>LFWYQQHAGEAPTFLSY</td>\n",
       "      <td>CTGTTCTGGTACCAGCAACATGCTGGCGAAGCACCCACATTTCTGT...</td>\n",
       "      <td>NVLDGL</td>\n",
       "      <td>AATGTTCTGGATGGTTTG</td>\n",
       "      <td>EEKGRFSSFLSRSKGYSYLLLKELQMKDSASYL</td>\n",
       "      <td>GAGGAGAAAGGTCGTTTTTCTTCATTCCTTAGTCGGTCTAAAGGGT...</td>\n",
       "      <td>CAVPYGNNRLAF</td>\n",
       "      <td>TGTGCTGTGCCGTATGGGAACAACAGACTCGCTTTT</td>\n",
       "      <td>GKGNQVVVIP</td>\n",
       "      <td>GGGAAGGGGAACCAAGTGGTGGTCATACCAA</td>\n",
       "      <td>770</td>\n",
       "      <td>1</td>\n",
       "      <td>clonotype9362</td>\n",
       "      <td>clonotype9362_consensus_3</td>\n",
       "      <td>1</td>\n",
       "    </tr>\n",
       "    <tr>\n",
       "      <th>7723</th>\n",
       "      <td>CACCACTGTAAGTGTA-1</td>\n",
       "      <td>True</td>\n",
       "      <td>CACCACTGTAAGTGTA-1_contig_2</td>\n",
       "      <td>True</td>\n",
       "      <td>505</td>\n",
       "      <td>TRB</td>\n",
       "      <td>TRBV14</td>\n",
       "      <td>NaN</td>\n",
       "      <td>TRBJ1-1</td>\n",
       "      <td>TRBC1</td>\n",
       "      <td>True</td>\n",
       "      <td>True</td>\n",
       "      <td>EAGVTQFPSHSVIEKGQTVTLRCDPI</td>\n",
       "      <td>GAAGCTGGAGTTACTCAGTTCCCCAGCCACAGCGTAATAGAGAAGG...</td>\n",
       "      <td>SGHDN</td>\n",
       "      <td>TCTGGACATGATAAT</td>\n",
       "      <td>LYWYRRVMGKEIKFLLH</td>\n",
       "      <td>CTTTATTGGTATCGACGTGTTATGGGAAAAGAAATAAAATTTCTGT...</td>\n",
       "      <td>FVKESK</td>\n",
       "      <td>TTTGTGAAAGAGTCTAAA</td>\n",
       "      <td>QDESGMPNNRFLAERTGGTYSTLKVQPAELEDSGVYF</td>\n",
       "      <td>CAGGATGAGTCCGGTATGCCCAACAATCGATTCTTAGCTGAAAGGA...</td>\n",
       "      <td>CASPILNTEAFF</td>\n",
       "      <td>TGTGCCAGTCCCATATTGAACACTGAAGCTTTCTTT</td>\n",
       "      <td>GQGTRLTVV</td>\n",
       "      <td>GGACAAGGCACCAGACTCACAGTTGTAG</td>\n",
       "      <td>744</td>\n",
       "      <td>3</td>\n",
       "      <td>clonotype3740</td>\n",
       "      <td>clonotype3740_consensus_1</td>\n",
       "      <td>1</td>\n",
       "    </tr>\n",
       "  </tbody>\n",
       "</table>\n",
       "</div>"
      ],
      "text/plain": [
       "                  barcode  is_cell                    contig_id  \\\n",
       "18731  GCTCTGTAGATGCCTT-1     True  GCTCTGTAGATGCCTT-1_contig_1   \n",
       "21399  GTCAAGTGTGAACCTT-1     True  GTCAAGTGTGAACCTT-1_contig_1   \n",
       "11577  CGCCAAGCACGGTAGA-1     True  CGCCAAGCACGGTAGA-1_contig_3   \n",
       "17937  GCATGCGAGTACATGA-1     True  GCATGCGAGTACATGA-1_contig_3   \n",
       "7723   CACCACTGTAAGTGTA-1     True  CACCACTGTAAGTGTA-1_contig_2   \n",
       "\n",
       "       high_confidence  length chain    v_gene d_gene   j_gene c_gene  \\\n",
       "18731             True     504   TRB  TRBV12-3    NaN  TRBJ1-2  TRBC1   \n",
       "21399             True     477   TRA    TRAV21    NaN   TRAJ21   TRAC   \n",
       "11577             True     477   TRA  TRAV12-3    NaN   TRAJ24    NaN   \n",
       "17937             True     505   TRA   TRAV1-2    NaN    TRAJ7   TRAC   \n",
       "7723              True     505   TRB    TRBV14    NaN  TRBJ1-1  TRBC1   \n",
       "\n",
       "       full_length  productive                        fwr1  \\\n",
       "18731         True        True  DAGVIQSPRHEVTEMGQEVTLRCKPI   \n",
       "21399         True        True  KQEVTQIPAALSVPEGENLVLNCSFT   \n",
       "11577         True        True  QKEVEQDPGPLSVPEGAIVSLNCTYS   \n",
       "17937         True        True   GQNIDQPTEMTATEGAIVQINCTYQ   \n",
       "7723          True        True  EAGVTQFPSHSVIEKGQTVTLRCDPI   \n",
       "\n",
       "                                                 fwr1_nt    cdr1  \\\n",
       "18731  GATGCTGGAGTTATCCAGTCACCCCGCCATGAGGTGACAGAGATGG...   SGHNS   \n",
       "21399  AAACAGGAGGTGACACAGATTCCTGCAGCTCTGAGTGTCCCAGAAG...  DSAIYN   \n",
       "11577  CAGAAGGAGGTGGAGCAGGATCCTGGACCACTCAGTGTTCCAGAGG...  NSAFQY   \n",
       "17937  GGACAAAACATTGACCAGCCCACTGAGATGACAGCTACGGAAGGTG...  TSGFNG   \n",
       "7723   GAAGCTGGAGTTACTCAGTTCCCCAGCCACAGCGTAATAGAGAAGG...   SGHDN   \n",
       "\n",
       "                  cdr1_nt               fwr2  \\\n",
       "18731     TCAGGCCACAACTCC  LFWYRQTMMRGLELLIY   \n",
       "21399  GATAGCGCTATTTACAAC  LQWFRQDPGKGLTSLLL   \n",
       "11577  AACAGTGCTTTTCAATAC  FMWYRQYSRKGPELLMY   \n",
       "17937  ACATCTGGGTTCAACGGG  LFWYQQHAGEAPTFLSY   \n",
       "7723      TCTGGACATGATAAT  LYWYRRVMGKEIKFLLH   \n",
       "\n",
       "                                                 fwr2_nt     cdr2  \\\n",
       "18731  CTTTTCTGGTACAGACAGACCATGATGCGGGGACTGGAGTTGCTCA...   FNNNVP   \n",
       "21399  CTCCAGTGGTTTAGGCAGGACCCTGGGAAAGGTCTCACATCTCTGT...  IQSSQRE   \n",
       "11577  TTCATGTGGTACAGACAGTATTCCAGAAAAGGCCCTGAGTTGCTGA...   TYSSGN   \n",
       "17937  CTGTTCTGGTACCAGCAACATGCTGGCGAAGCACCCACATTTCTGT...   NVLDGL   \n",
       "7723   CTTTATTGGTATCGACGTGTTATGGGAAAAGAAATAAAATTTCTGT...   FVKESK   \n",
       "\n",
       "                     cdr2_nt                                   fwr3  \\\n",
       "18731     TTTAACAACAACGTTCCG  IDDSGMPEDRFSAKMPNASFSTLKIQPSEPRDSAVYF   \n",
       "21399  ATTCAGTCAAGTCAGAGAGAG      QTSGRLNASLDKSSGRSTLYIAASQPGDSATYL   \n",
       "11577     ACATACTCCAGTGGTAAC      KEDGRFTAQVDKSSKYISLFIRDSQPSDSATYL   \n",
       "17937     AATGTTCTGGATGGTTTG      EEKGRFSSFLSRSKGYSYLLLKELQMKDSASYL   \n",
       "7723      TTTGTGAAAGAGTCTAAA  QDESGMPNNRFLAERTGGTYSTLKVQPAELEDSGVYF   \n",
       "\n",
       "                                                 fwr3_nt            cdr3  \\\n",
       "18731  ATAGATGATTCAGGGATGCCCGAGGATCGATTCTCAGCTAAGATGC...  CASSYQGRLNGYTF   \n",
       "21399  CAAACAAGTGGAAGACTTAATGCCTCGCTGGATAAATCATCAGGAC...     CGDGNFNKFYF   \n",
       "11577  AAAGAAGATGGAAGGTTTACAGCACAGGTCGATAAATCCAGCAAGT...  CAMSAPDSWGKLQF   \n",
       "17937  GAGGAGAAAGGTCGTTTTTCTTCATTCCTTAGTCGGTCTAAAGGGT...    CAVPYGNNRLAF   \n",
       "7723   CAGGATGAGTCCGGTATGCCCAACAATCGATTCTTAGCTGAAAGGA...    CASPILNTEAFF   \n",
       "\n",
       "                                          cdr3_nt        fwr4  \\\n",
       "18731  TGTGCCAGCAGTTACCAGGGACGGCTAAATGGCTACACCTTC   GSGTRLTVV   \n",
       "21399           TGCGGCGATGGGAACTTCAACAAATTTTACTTT  GSGTKLNVKP   \n",
       "11577  TGTGCAATGAGCGCGCCTGACAGCTGGGGGAAATTGCAGTTT  GAGTQVVVTP   \n",
       "17937        TGTGCTGTGCCGTATGGGAACAACAGACTCGCTTTT  GKGNQVVVIP   \n",
       "7723         TGTGCCAGTCCCATATTGAACACTGAAGCTTTCTTT   GQGTRLTVV   \n",
       "\n",
       "                               fwr4_nt  reads  umis raw_clonotype_id  \\\n",
       "18731     GGTTCGGGGACCAGGTTAACCGTTGTAG   1836     6   clonotype10955   \n",
       "21399  GGATCTGGGACCAAACTCAATGTAAAACCAA   1560     2    clonotype2066   \n",
       "11577  GGAGCAGGGACCCAGGTTGTGGTCACCCCAG    606     1    clonotype7536   \n",
       "17937  GGGAAGGGGAACCAAGTGGTGGTCATACCAA    770     1    clonotype9362   \n",
       "7723      GGACAAGGCACCAGACTCACAGTTGTAG    744     3    clonotype3740   \n",
       "\n",
       "                 raw_consensus_id  exact_subclonotype_id  \n",
       "18731  clonotype10955_consensus_1                      1  \n",
       "21399   clonotype2066_consensus_4                      1  \n",
       "11577   clonotype7536_consensus_2                      1  \n",
       "17937   clonotype9362_consensus_3                      1  \n",
       "7723    clonotype3740_consensus_1                      1  "
      ]
     },
     "execution_count": 8,
     "metadata": {},
     "output_type": "execute_result"
    }
   ],
   "source": [
    "annotations = pd.read_csv(annotations_path, header=0, sep=',', quotechar='\"', on_bad_lines = \"warn\")\n",
    "annotations.sample(5)"
   ]
  },
  {
   "cell_type": "code",
   "execution_count": 9,
   "id": "6aab83b5-9b80-4fdf-80b1-4d0feff9072c",
   "metadata": {},
   "outputs": [
    {
     "data": {
      "text/plain": [
       "29453"
      ]
     },
     "execution_count": 9,
     "metadata": {},
     "output_type": "execute_result"
    }
   ],
   "source": [
    "len(annotations)"
   ]
  },
  {
   "cell_type": "code",
   "execution_count": 10,
   "id": "9c9398e7-0eda-4fa9-bdff-7411b7dd2640",
   "metadata": {},
   "outputs": [
    {
     "data": {
      "text/html": [
       "<div>\n",
       "<style scoped>\n",
       "    .dataframe tbody tr th:only-of-type {\n",
       "        vertical-align: middle;\n",
       "    }\n",
       "\n",
       "    .dataframe tbody tr th {\n",
       "        vertical-align: top;\n",
       "    }\n",
       "\n",
       "    .dataframe thead th {\n",
       "        text-align: right;\n",
       "    }\n",
       "</style>\n",
       "<table border=\"1\" class=\"dataframe\">\n",
       "  <thead>\n",
       "    <tr style=\"text-align: right;\">\n",
       "      <th></th>\n",
       "      <th>ENSG00000243485</th>\n",
       "      <th>MIR1302-2HG</th>\n",
       "      <th>Gene Expression</th>\n",
       "    </tr>\n",
       "  </thead>\n",
       "  <tbody>\n",
       "    <tr>\n",
       "      <th>27470</th>\n",
       "      <td>ENSG00000140848</td>\n",
       "      <td>CPNE2</td>\n",
       "      <td>Gene Expression</td>\n",
       "    </tr>\n",
       "    <tr>\n",
       "      <th>24836</th>\n",
       "      <td>ENSG00000205476</td>\n",
       "      <td>CCDC85C</td>\n",
       "      <td>Gene Expression</td>\n",
       "    </tr>\n",
       "    <tr>\n",
       "      <th>7146</th>\n",
       "      <td>ENSG00000285631</td>\n",
       "      <td>AC097105.1</td>\n",
       "      <td>Gene Expression</td>\n",
       "    </tr>\n",
       "    <tr>\n",
       "      <th>25196</th>\n",
       "      <td>ENSG00000279408</td>\n",
       "      <td>AC135068.3</td>\n",
       "      <td>Gene Expression</td>\n",
       "    </tr>\n",
       "    <tr>\n",
       "      <th>2523</th>\n",
       "      <td>ENSG00000286754</td>\n",
       "      <td>AL031290.1</td>\n",
       "      <td>Gene Expression</td>\n",
       "    </tr>\n",
       "  </tbody>\n",
       "</table>\n",
       "</div>"
      ],
      "text/plain": [
       "       ENSG00000243485 MIR1302-2HG  Gene Expression\n",
       "27470  ENSG00000140848       CPNE2  Gene Expression\n",
       "24836  ENSG00000205476     CCDC85C  Gene Expression\n",
       "7146   ENSG00000285631  AC097105.1  Gene Expression\n",
       "25196  ENSG00000279408  AC135068.3  Gene Expression\n",
       "2523   ENSG00000286754  AL031290.1  Gene Expression"
      ]
     },
     "execution_count": 10,
     "metadata": {},
     "output_type": "execute_result"
    }
   ],
   "source": [
    "features = pd.read_csv(features_path, header=0, sep='\\t', quotechar='\"', on_bad_lines = \"warn\")\n",
    "features.sample(5)"
   ]
  },
  {
   "cell_type": "code",
   "execution_count": 11,
   "id": "d1bad6fb-655e-4695-87de-7c60f3767c7e",
   "metadata": {},
   "outputs": [
    {
     "data": {
      "text/plain": [
       "36600"
      ]
     },
     "execution_count": 11,
     "metadata": {},
     "output_type": "execute_result"
    }
   ],
   "source": [
    "len(features)"
   ]
  },
  {
   "cell_type": "code",
   "execution_count": null,
   "id": "38e937e7-2ca9-4166-9d19-09c56c0cae06",
   "metadata": {},
   "outputs": [],
   "source": []
  },
  {
   "cell_type": "code",
   "execution_count": 12,
   "id": "8f4dbb5b-2bcc-4ebf-a5ab-ec87248f4f94",
   "metadata": {},
   "outputs": [
    {
     "data": {
      "text/html": [
       "<div>\n",
       "<style scoped>\n",
       "    .dataframe tbody tr th:only-of-type {\n",
       "        vertical-align: middle;\n",
       "    }\n",
       "\n",
       "    .dataframe tbody tr th {\n",
       "        vertical-align: top;\n",
       "    }\n",
       "\n",
       "    .dataframe thead th {\n",
       "        text-align: right;\n",
       "    }\n",
       "</style>\n",
       "<table border=\"1\" class=\"dataframe\">\n",
       "  <thead>\n",
       "    <tr style=\"text-align: right;\">\n",
       "      <th></th>\n",
       "      <th>AAACGGGAGCAATATG-1</th>\n",
       "    </tr>\n",
       "  </thead>\n",
       "  <tbody>\n",
       "    <tr>\n",
       "      <th>24735</th>\n",
       "      <td>AGAGCGACAAACTGCT-7</td>\n",
       "    </tr>\n",
       "    <tr>\n",
       "      <th>40906</th>\n",
       "      <td>CACACTCAGTCACGCC-11</td>\n",
       "    </tr>\n",
       "    <tr>\n",
       "      <th>35035</th>\n",
       "      <td>CGCCAAGGTGCTGTAT-9</td>\n",
       "    </tr>\n",
       "    <tr>\n",
       "      <th>85138</th>\n",
       "      <td>CCTAGCTCACGAAATA-14</td>\n",
       "    </tr>\n",
       "    <tr>\n",
       "      <th>138984</th>\n",
       "      <td>ACCCACTGTTAAGTAG-16</td>\n",
       "    </tr>\n",
       "  </tbody>\n",
       "</table>\n",
       "</div>"
      ],
      "text/plain": [
       "         AAACGGGAGCAATATG-1\n",
       "24735    AGAGCGACAAACTGCT-7\n",
       "40906   CACACTCAGTCACGCC-11\n",
       "35035    CGCCAAGGTGCTGTAT-9\n",
       "85138   CCTAGCTCACGAAATA-14\n",
       "138984  ACCCACTGTTAAGTAG-16"
      ]
     },
     "execution_count": 12,
     "metadata": {},
     "output_type": "execute_result"
    }
   ],
   "source": [
    "barcodes = pd.read_csv(barcodes_path, header=0, sep='\\t', quotechar='\"', on_bad_lines = \"warn\")\n",
    "barcodes.sample(5)"
   ]
  },
  {
   "cell_type": "code",
   "execution_count": 13,
   "id": "d8b333ba-a845-41c4-985a-dde5a8041d5b",
   "metadata": {},
   "outputs": [
    {
     "data": {
      "text/plain": [
       "150627"
      ]
     },
     "execution_count": 13,
     "metadata": {},
     "output_type": "execute_result"
    }
   ],
   "source": [
    "len(barcodes)"
   ]
  },
  {
   "cell_type": "code",
   "execution_count": null,
   "id": "490e112e-b045-4256-9425-f8552d0b552c",
   "metadata": {},
   "outputs": [],
   "source": []
  },
  {
   "cell_type": "code",
   "execution_count": null,
   "id": "b717479c-b5a7-472e-861a-8e263df911bc",
   "metadata": {},
   "outputs": [],
   "source": []
  }
 ],
 "metadata": {
  "kernelspec": {
   "display_name": "Python (jupyterlab)",
   "language": "python",
   "name": "jupyterlab"
  },
  "language_info": {
   "codemirror_mode": {
    "name": "ipython",
    "version": 3
   },
   "file_extension": ".py",
   "mimetype": "text/x-python",
   "name": "python",
   "nbconvert_exporter": "python",
   "pygments_lexer": "ipython3",
   "version": "3.12.3"
  }
 },
 "nbformat": 4,
 "nbformat_minor": 5
}
