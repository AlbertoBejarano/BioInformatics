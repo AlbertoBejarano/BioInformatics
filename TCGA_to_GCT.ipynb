{
 "cells": [
  {
   "cell_type": "code",
   "execution_count": 1,
   "id": "9f767fb7-772d-448d-8d72-80432ad87f26",
   "metadata": {},
   "outputs": [],
   "source": [
    "import gzip\n",
    "import pandas as pd\n",
    "import warnings\n",
    "warnings.filterwarnings(\"ignore\")"
   ]
  },
  {
   "cell_type": "code",
   "execution_count": 2,
   "id": "c6efd13d-2aec-4e61-8b02-4fdf7b3cd2d5",
   "metadata": {},
   "outputs": [],
   "source": [
    "expression_link = 'http://gdac.broadinstitute.org/runs/stddata__2016_01_28/data/ACC/20160128/gdac.broadinstitute.org_ACC.Merge_rnaseqv2__illuminahiseq_rnaseqv2__unc_edu__Level_3__RSEM_genes_normalized__data.Level_3.2016012800.0.0.tar.gz'\n",
    "df = pd.read_csv(expression_link, compression='gzip', header=0, sep='\\t', quotechar='\"', error_bad_lines=False)"
   ]
  },
  {
   "cell_type": "code",
   "execution_count": 3,
   "id": "8119ee66-bc6d-49f6-ba52-e51be05bf13a",
   "metadata": {},
   "outputs": [],
   "source": [
    "df.drop(labels=0, axis=0,inplace=True)\n",
    "df.rename(columns={'././@LongLink': 'Description'}, inplace=True)\n",
    "df[['Description','Name']] = df['Description'].str.split('|',expand=True)\n",
    "first_column = df.pop('Name')\n",
    "df.insert(0, 'Name', first_column)"
   ]
  },
  {
   "cell_type": "code",
   "execution_count": 4,
   "id": "b3d268c5-37f6-4814-b5e8-edd0b0262feb",
   "metadata": {},
   "outputs": [],
   "source": [
    "num_rows = len(df)\n",
    "num_columns = len(df.columns) - 2"
   ]
  },
  {
   "cell_type": "code",
   "execution_count": 5,
   "id": "10fd872b-5129-4c8f-afb1-273efade8f28",
   "metadata": {},
   "outputs": [],
   "source": [
    "with open('./Data/Output/OutPut1.gct', 'w') as fp:\n",
    "    fp.write('#1.2\\n')\n",
    "    fp.write(str(num_rows))+fp.write(\"\\t\")+fp.write(str(num_columns))+fp.write(\"\\n\")\n",
    "    df.to_csv(fp, sep=\"\\t\", index=False)"
   ]
  },
  {
   "cell_type": "code",
   "execution_count": null,
   "id": "870e89c8-897c-40d3-8976-4a185a0f22ca",
   "metadata": {},
   "outputs": [],
   "source": []
  }
 ],
 "metadata": {
  "kernelspec": {
   "display_name": "Python 3",
   "language": "python",
   "name": "python3"
  },
  "language_info": {
   "codemirror_mode": {
    "name": "ipython",
    "version": 3
   },
   "file_extension": ".py",
   "mimetype": "text/x-python",
   "name": "python",
   "nbconvert_exporter": "python",
   "pygments_lexer": "ipython3",
   "version": "3.8.8"
  }
 },
 "nbformat": 4,
 "nbformat_minor": 5
}
