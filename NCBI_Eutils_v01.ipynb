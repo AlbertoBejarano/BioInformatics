{
 "cells": [
  {
   "cell_type": "code",
   "execution_count": 1,
   "id": "e7a3c591-bb54-464d-abe4-a7efbee1df10",
   "metadata": {},
   "outputs": [],
   "source": [
    "# Modified from: https://github.com/britt-allen/ecfr_xml_parsing/blob/master/ecfr_parsing_notebook_with_beautiful_soup.ipynb\n",
    "# https://towardsdatascience.com/scraping-multiple-urls-with-python-tutorial-2b74432d085f"
   ]
  },
  {
   "cell_type": "code",
   "execution_count": 2,
   "id": "a2ea3540-a2cd-4134-acf3-300be46722d3",
   "metadata": {},
   "outputs": [],
   "source": [
    "import warnings; warnings.filterwarnings(\"ignore\")\n",
    "from bs4 import BeautifulSoup as bs\n",
    "from tqdm.notebook import tqdm_notebook\n",
    "#from tqdm import tqdm\n",
    "from random import randint\n",
    "#from time import sleep\n",
    "import time\n",
    "import pandas as pd\n",
    "import numpy as np\n",
    "import requests"
   ]
  },
  {
   "cell_type": "code",
   "execution_count": 3,
   "id": "dc40f557-3062-41ad-a90b-052938c1c6fa",
   "metadata": {},
   "outputs": [],
   "source": [
    "link = \"https://eutils.ncbi.nlm.nih.gov/entrez/eutils/esummary.fcgi?db=gene&id=\""
   ]
  },
  {
   "cell_type": "code",
   "execution_count": 4,
   "id": "676ce216-d5b4-4815-9404-4455e8985f45",
   "metadata": {},
   "outputs": [
    {
     "name": "stdout",
     "output_type": "stream",
     "text": [
      "1 \t\t\t A1BG \t\t\t Homo sapiens \t\t\t alpha-1-B glycoprotein\n",
      "2 \t\t\t A2M \t\t\t Homo sapiens \t\t\t alpha-2-macroglobulin\n",
      "3 \t\t\t A2MP1 \t\t\t Homo sapiens \t\t\t alpha-2-macroglobulin pseudogene 1\n",
      "4 \t\t\t A12M1 \t\t\t Homo sapiens \t\t\t adenovirus-12 chromosome modification site 1C\n",
      "5 \t\t\t A12M2 \t\t\t Homo sapiens \t\t\t adenovirus-12 chromosome modification site 1A\n",
      "6 \t\t\t A12M3 \t\t\t Homo sapiens \t\t\t adenovirus-12 chromosome modification site 1B\n",
      "7 \t\t\t A12M4 \t\t\t Homo sapiens \t\t\t adenovirus-12 chromosome modification site 17\n",
      "8 \t\t\t AA \t\t\t Homo sapiens \t\t\t atrophia areata, peripapillary chorioretinal degeneration\n",
      "9 \t\t\t NAT1 \t\t\t Homo sapiens \t\t\t N-acetyltransferase 1\n"
     ]
    }
   ],
   "source": [
    "bs_data = []\n",
    "for i in range(1, 10): # Loop to go over all pages\n",
    "    url_link = str(link +str(i))\n",
    "    r = requests.get(url_link)\n",
    "    #sleep(randint(1, 3))\n",
    "    soup = bs(r.content,'xml')\n",
    "    name_bs = soup.find(\"Name\").text\n",
    "    description_bs = soup.find(\"Description\").text\n",
    "    species_bs = soup.find(\"ScientificName\").text\n",
    "    aliases_bs = soup.find(\"OtherAliases\").text\n",
    "    summary_bs = soup.find(\"Summary\").text\n",
    "        \n",
    "    print(i, '\\t\\t\\t', name_bs, '\\t\\t\\t', species_bs, '\\t\\t\\t', description_bs)\n",
    "\n",
    "    bs_data.append({'UID': i,\n",
    "                    'ScientificName': species_bs,\n",
    "                    'Description': description_bs,\n",
    "                    'Name': name_bs,\n",
    "                    'Summary': summary_bs})\n",
    "        \n",
    "    #print(\"Gene Number: \" + str(i))"
   ]
  },
  {
   "cell_type": "code",
   "execution_count": 5,
   "id": "cc795193-5271-4494-8da7-1948e64b6515",
   "metadata": {},
   "outputs": [
    {
     "name": "stdout",
     "output_type": "stream",
     "text": [
      "Out of loop\n"
     ]
    }
   ],
   "source": [
    "df_bs = pd.DataFrame(data=bs_data, columns=['UID', 'ScientificName', 'Name','Description', 'Summary'])"
   ]
  },
  {
   "cell_type": "code",
   "execution_count": 6,
   "id": "be15aad4-62db-4b2a-8fbb-a519b799125d",
   "metadata": {},
   "outputs": [],
   "source": [
    "df_bs.to_csv(\"output.csv\", index=False, sep ='\\t')"
   ]
  },
  {
   "cell_type": "code",
   "execution_count": null,
   "id": "bd33526c-451d-407b-a2ea-b070cd4dbadd",
   "metadata": {},
   "outputs": [],
   "source": []
  },
  {
   "cell_type": "code",
   "execution_count": null,
   "id": "646d0d04-ae80-4004-aee3-281e0c00011a",
   "metadata": {
    "tags": []
   },
   "outputs": [],
   "source": []
  },
  {
   "cell_type": "code",
   "execution_count": null,
   "id": "f1adf857-0fd5-4431-9d38-f08d8c605bf2",
   "metadata": {},
   "outputs": [],
   "source": []
  }
 ],
 "metadata": {
  "kernelspec": {
   "display_name": "Python 3 (ipykernel)",
   "language": "python",
   "name": "python3"
  },
  "language_info": {
   "codemirror_mode": {
    "name": "ipython",
    "version": 3
   },
   "file_extension": ".py",
   "mimetype": "text/x-python",
   "name": "python",
   "nbconvert_exporter": "python",
   "pygments_lexer": "ipython3",
   "version": "3.9.7"
  }
 },
 "nbformat": 4,
 "nbformat_minor": 5
}
