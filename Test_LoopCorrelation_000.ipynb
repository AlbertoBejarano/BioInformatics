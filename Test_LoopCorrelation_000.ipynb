{
 "cells": [
  {
   "cell_type": "code",
   "execution_count": 1,
   "id": "89bc9f9d-4531-40a3-b9f4-0000c52898e5",
   "metadata": {},
   "outputs": [],
   "source": [
    "%matplotlib inline\n",
    "%config InlineBackend.figure_format = 'retina'\n",
    "import warnings; warnings.filterwarnings(\"ignore\")\n",
    "import statsmodels.api as sm\n",
    "from lifelines import KaplanMeierFitter\n",
    "from lifelines import CoxPHFitter\n",
    "import matplotlib.pyplot as plt\n",
    "# plt.style.use('fivethirtyeight')\n",
    "import seaborn as sns\n",
    "import autograd.numpy as np\n",
    "import pandas as pd\n",
    "import time\n",
    "from sklearn.neighbors import KernelDensity"
   ]
  },
  {
   "cell_type": "code",
   "execution_count": 2,
   "id": "2288cc16-61ac-4997-8db7-dabdf091d896",
   "metadata": {},
   "outputs": [],
   "source": [
    "tumor_type = \"ACC\""
   ]
  },
  {
   "cell_type": "code",
   "execution_count": 3,
   "id": "a537cebc-0970-4e97-93d8-9ea246fe4c9f",
   "metadata": {},
   "outputs": [],
   "source": [
    "TCGA_data      =  './data/Simulated_TCGA_data.tsv'\n",
    "TCGA_metadata  =  './data/Simulated_TCGA_metadata.tsv'\n",
    "gene_list      =  './data/Genes_of_Interest.txt'"
   ]
  },
  {
   "cell_type": "code",
   "execution_count": 4,
   "id": "2f40c46d-fa9c-417e-b090-337c1c83bf33",
   "metadata": {},
   "outputs": [],
   "source": [
    "expression_data  =  pd.read_csv(TCGA_data, sep='\\t',index_col=False)\n",
    "clinical_data    =  pd.read_csv(TCGA_metadata, sep='\\t',index_col=False)"
   ]
  },
  {
   "cell_type": "code",
   "execution_count": 5,
   "id": "e1824aec-d4e2-4651-b0ed-2f6ccee6a409",
   "metadata": {},
   "outputs": [],
   "source": [
    "alldata = pd.merge(expression_data, clinical_data,on='SampleID', how='left')\n",
    "df  = alldata.loc[alldata['CancerType'] == tumor_type]"
   ]
  },
  {
   "cell_type": "code",
   "execution_count": 6,
   "id": "faed3376-0ccd-430f-a910-7a7c20de451b",
   "metadata": {},
   "outputs": [],
   "source": [
    "genes = open(gene_list).read().split()"
   ]
  },
  {
   "cell_type": "code",
   "execution_count": 7,
   "id": "4ed37cd1-1538-4a62-bd6d-b76901c6f87c",
   "metadata": {},
   "outputs": [
    {
     "name": "stdout",
     "output_type": "stream",
     "text": [
      "['ACC', 'BLCA', 'LGG', 'CESC']\n"
     ]
    }
   ],
   "source": [
    "#arr = alldata.CancerType.astype('str').unique()\n",
    "#cancerlist = arr.tolist()\n",
    "cancerlist = alldata.CancerType.astype('str').unique().tolist()\n",
    "print(cancerlist)"
   ]
  },
  {
   "cell_type": "code",
   "execution_count": 8,
   "id": "93e41a7e-6ef5-4eb8-86d0-05445ed5c08b",
   "metadata": {},
   "outputs": [
    {
     "name": "stdout",
     "output_type": "stream",
     "text": [
      "(2000, 11) - - - >>> (500, 11)\n"
     ]
    }
   ],
   "source": [
    "print(alldata.shape, \"- - - >>>\", df.shape)"
   ]
  },
  {
   "cell_type": "code",
   "execution_count": 9,
   "id": "05187949-8efb-4c0b-8786-4cd5ae930ffa",
   "metadata": {},
   "outputs": [],
   "source": [
    "numerics = ['int16', 'int32', 'int64', 'float16', 'float32', 'float64']\n",
    "new_df = df.select_dtypes(include=numerics)"
   ]
  },
  {
   "cell_type": "code",
   "execution_count": 10,
   "id": "64af247d-0467-4236-91a4-53e2f6119ca0",
   "metadata": {},
   "outputs": [
    {
     "name": "stdout",
     "output_type": "stream",
     "text": [
      "['ACC', 'BLCA', 'LGG', 'CESC']\n"
     ]
    }
   ],
   "source": [
    "arr = alldata.CancerType.astype('str').unique(); cancerlist = arr.tolist() \n",
    "print(cancerlist)"
   ]
  },
  {
   "cell_type": "code",
   "execution_count": 11,
   "id": "28b56a32-e576-448d-94b5-8141e7b29c20",
   "metadata": {},
   "outputs": [],
   "source": [
    "from scipy.stats import kendalltau, pearsonr, spearmanr\n",
    "\n",
    "def kendall_pval(x,y):\n",
    "        return kendalltau(x,y)[1]\n",
    "    \n",
    "def pearsonr_pval(x,y):\n",
    "        return pearsonr(x,y)[1]\n",
    "    \n",
    "def spearmanr_pval(x,y):\n",
    "        return spearmanr(x,y)[1]"
   ]
  },
  {
   "cell_type": "code",
   "execution_count": 12,
   "id": "a6494957-66f0-4d6b-bda1-6a1345f652c0",
   "metadata": {},
   "outputs": [
    {
     "data": {
      "text/html": [
       "<div>\n",
       "<style scoped>\n",
       "    .dataframe tbody tr th:only-of-type {\n",
       "        vertical-align: middle;\n",
       "    }\n",
       "\n",
       "    .dataframe tbody tr th {\n",
       "        vertical-align: top;\n",
       "    }\n",
       "\n",
       "    .dataframe thead th {\n",
       "        text-align: right;\n",
       "    }\n",
       "</style>\n",
       "<table border=\"1\" class=\"dataframe\">\n",
       "  <thead>\n",
       "    <tr style=\"text-align: right;\">\n",
       "      <th></th>\n",
       "      <th>Gene_A</th>\n",
       "      <th>Gene_B</th>\n",
       "      <th>Gene_C</th>\n",
       "      <th>Gene_D</th>\n",
       "      <th>Gene_E</th>\n",
       "      <th>Gene_F</th>\n",
       "      <th>Gene_G</th>\n",
       "      <th>T</th>\n",
       "      <th>E</th>\n",
       "    </tr>\n",
       "  </thead>\n",
       "  <tbody>\n",
       "    <tr>\n",
       "      <th>0</th>\n",
       "      <td>6.6673</td>\n",
       "      <td>5.7691</td>\n",
       "      <td>9.1580</td>\n",
       "      <td>7.0988</td>\n",
       "      <td>6.7225</td>\n",
       "      <td>9.4109</td>\n",
       "      <td>4.5289</td>\n",
       "      <td>289</td>\n",
       "      <td>1</td>\n",
       "    </tr>\n",
       "    <tr>\n",
       "      <th>1</th>\n",
       "      <td>3.8712</td>\n",
       "      <td>4.7949</td>\n",
       "      <td>5.5913</td>\n",
       "      <td>7.6976</td>\n",
       "      <td>9.7312</td>\n",
       "      <td>2.2967</td>\n",
       "      <td>5.2969</td>\n",
       "      <td>245</td>\n",
       "      <td>1</td>\n",
       "    </tr>\n",
       "    <tr>\n",
       "      <th>2</th>\n",
       "      <td>5.3227</td>\n",
       "      <td>8.8052</td>\n",
       "      <td>8.5147</td>\n",
       "      <td>8.8254</td>\n",
       "      <td>9.7246</td>\n",
       "      <td>9.5673</td>\n",
       "      <td>6.7407</td>\n",
       "      <td>532</td>\n",
       "      <td>1</td>\n",
       "    </tr>\n",
       "    <tr>\n",
       "      <th>3</th>\n",
       "      <td>6.6650</td>\n",
       "      <td>3.1806</td>\n",
       "      <td>8.1542</td>\n",
       "      <td>3.1974</td>\n",
       "      <td>1.5425</td>\n",
       "      <td>8.9108</td>\n",
       "      <td>4.9463</td>\n",
       "      <td>441</td>\n",
       "      <td>1</td>\n",
       "    </tr>\n",
       "    <tr>\n",
       "      <th>4</th>\n",
       "      <td>6.0273</td>\n",
       "      <td>2.0288</td>\n",
       "      <td>3.0588</td>\n",
       "      <td>3.2669</td>\n",
       "      <td>3.4156</td>\n",
       "      <td>7.2928</td>\n",
       "      <td>8.5980</td>\n",
       "      <td>894</td>\n",
       "      <td>1</td>\n",
       "    </tr>\n",
       "  </tbody>\n",
       "</table>\n",
       "</div>"
      ],
      "text/plain": [
       "   Gene_A  Gene_B  Gene_C  Gene_D  Gene_E  Gene_F  Gene_G    T  E\n",
       "0  6.6673  5.7691  9.1580  7.0988  6.7225  9.4109  4.5289  289  1\n",
       "1  3.8712  4.7949  5.5913  7.6976  9.7312  2.2967  5.2969  245  1\n",
       "2  5.3227  8.8052  8.5147  8.8254  9.7246  9.5673  6.7407  532  1\n",
       "3  6.6650  3.1806  8.1542  3.1974  1.5425  8.9108  4.9463  441  1\n",
       "4  6.0273  2.0288  3.0588  3.2669  3.4156  7.2928  8.5980  894  1"
      ]
     },
     "execution_count": 12,
     "metadata": {},
     "output_type": "execute_result"
    }
   ],
   "source": [
    "new_df.head()"
   ]
  },
  {
   "cell_type": "code",
   "execution_count": 13,
   "id": "5fa52ce9-5c00-45f1-a0ff-92e921cf834a",
   "metadata": {},
   "outputs": [
    {
     "name": "stdout",
     "output_type": "stream",
     "text": [
      "0.5520817180748576\n",
      "6.030445876619964e-160\n"
     ]
    }
   ],
   "source": [
    "r, p = pearsonr(alldata[\"Gene_A\"], alldata[\"Gene_B\"])\n",
    "print(r)\n",
    "print(p)"
   ]
  },
  {
   "cell_type": "code",
   "execution_count": 14,
   "id": "685554e8-397d-4d9b-9077-0d8c20ed3687",
   "metadata": {},
   "outputs": [
    {
     "name": "stdout",
     "output_type": "stream",
     "text": [
      "0.30278326562057095\n",
      "4.6292565190255645e-12\n"
     ]
    }
   ],
   "source": [
    "r, p = pearsonr(df['Gene_A'], df['Gene_B'])\n",
    "print(r); print(p)"
   ]
  },
  {
   "cell_type": "code",
   "execution_count": 27,
   "id": "2c60b7a8-e845-4e8c-b38e-6aceae2f1b85",
   "metadata": {},
   "outputs": [
    {
     "name": "stdout",
     "output_type": "stream",
     "text": [
      "ACC\tGene_A\t0.303\t4.63e-12\n",
      "ACC\tGene_B\t1.0\t0.00e+00\n",
      "ACC\tGene_C\t0.329\t4.47e-14\n"
     ]
    },
    {
     "ename": "KeyboardInterrupt",
     "evalue": "",
     "output_type": "error",
     "traceback": [
      "\u001b[1;31m---------------------------------------------------------------------------\u001b[0m",
      "\u001b[1;31mKeyboardInterrupt\u001b[0m                         Traceback (most recent call last)",
      "\u001b[1;32m~\\AppData\\Local\\Temp/ipykernel_5560/1583619683.py\u001b[0m in \u001b[0;36m<module>\u001b[1;34m\u001b[0m\n\u001b[0;32m     20\u001b[0m         \u001b[0mdf00\u001b[0m\u001b[1;33m.\u001b[0m\u001b[0mto_csv\u001b[0m\u001b[1;33m(\u001b[0m\u001b[1;34m\"df.csv\"\u001b[0m\u001b[1;33m,\u001b[0m \u001b[0msep\u001b[0m\u001b[1;33m=\u001b[0m\u001b[1;34m\"\\t\"\u001b[0m\u001b[1;33m,\u001b[0m \u001b[0mindex\u001b[0m\u001b[1;33m=\u001b[0m\u001b[1;32mFalse\u001b[0m\u001b[1;33m)\u001b[0m\u001b[1;33m\u001b[0m\u001b[1;33m\u001b[0m\u001b[0m\n\u001b[0;32m     21\u001b[0m         \u001b[0mcount_j\u001b[0m \u001b[1;33m+=\u001b[0m \u001b[1;36m1\u001b[0m\u001b[1;33m\u001b[0m\u001b[1;33m\u001b[0m\u001b[0m\n\u001b[1;32m---> 22\u001b[1;33m         \u001b[0mtime\u001b[0m\u001b[1;33m.\u001b[0m\u001b[0msleep\u001b[0m\u001b[1;33m(\u001b[0m\u001b[1;36m3\u001b[0m\u001b[1;33m)\u001b[0m\u001b[1;33m\u001b[0m\u001b[1;33m\u001b[0m\u001b[0m\n\u001b[0m",
      "\u001b[1;31mKeyboardInterrupt\u001b[0m: "
     ]
    }
   ],
   "source": [
    "df00 = pd.DataFrame(columns = [\"CancerType\", \"GeneID\", \"pearsonr\",\"p_value\"])\n",
    "\n",
    "count_i = 1\n",
    "for i in cancerlist:\n",
    "    df  = alldata.loc[alldata['CancerType'] == i]\n",
    "    #print(i)\n",
    "    alldata0 = df[[*genes]]\n",
    "    #print(alldata0.head())\n",
    "    data = pd.DataFrame()\n",
    "    count_j = 0\n",
    "    for j in range(len(alldata0.columns)):\n",
    "        a = alldata0.columns[1]; b = alldata0.columns[j]\n",
    "        r, p = pearsonr(alldata0[a], alldata0[b])\n",
    "        r = str(round(r,3)); p_value = str('{:0.2e}'.format(p))\n",
    "        print(i +\"\\t\"+ b +\"\\t\"+ r +\"\\t\"+p_value, end = \"\\n\")\n",
    "        to_append = [[i, b, r, p_value]]\n",
    "        df00 = df00.append(pd.DataFrame(to_append,\n",
    "                                        columns = [\"CancerType\", \"GeneID\", \"pearsonr\",\"p_value\"]),\n",
    "                                        ignore_index = True)\n",
    "        df00.to_csv(\"df.csv\", sep=\"\\t\", index=False)\n",
    "        count_j += 1\n",
    "        time.sleep(3)"
   ]
  },
  {
   "cell_type": "code",
   "execution_count": 16,
   "id": "379ef31d-8766-4fc9-80a6-0fb31b5cfdac",
   "metadata": {
    "tags": []
   },
   "outputs": [
    {
     "data": {
      "text/html": [
       "<div>\n",
       "<style scoped>\n",
       "    .dataframe tbody tr th:only-of-type {\n",
       "        vertical-align: middle;\n",
       "    }\n",
       "\n",
       "    .dataframe tbody tr th {\n",
       "        vertical-align: top;\n",
       "    }\n",
       "\n",
       "    .dataframe thead th {\n",
       "        text-align: right;\n",
       "    }\n",
       "</style>\n",
       "<table border=\"1\" class=\"dataframe\">\n",
       "  <thead>\n",
       "    <tr style=\"text-align: right;\">\n",
       "      <th></th>\n",
       "      <th>CancerType</th>\n",
       "      <th>GeneID</th>\n",
       "      <th>pearsonr</th>\n",
       "      <th>p_value</th>\n",
       "    </tr>\n",
       "  </thead>\n",
       "  <tbody>\n",
       "    <tr>\n",
       "      <th>0</th>\n",
       "      <td>ACC</td>\n",
       "      <td>Gene_A</td>\n",
       "      <td>0.303</td>\n",
       "      <td>4.63e-12</td>\n",
       "    </tr>\n",
       "    <tr>\n",
       "      <th>1</th>\n",
       "      <td>ACC</td>\n",
       "      <td>Gene_B</td>\n",
       "      <td>1.000</td>\n",
       "      <td>0.00e+00</td>\n",
       "    </tr>\n",
       "    <tr>\n",
       "      <th>2</th>\n",
       "      <td>ACC</td>\n",
       "      <td>Gene_C</td>\n",
       "      <td>0.329</td>\n",
       "      <td>4.47e-14</td>\n",
       "    </tr>\n",
       "    <tr>\n",
       "      <th>3</th>\n",
       "      <td>ACC</td>\n",
       "      <td>Gene_D</td>\n",
       "      <td>0.393</td>\n",
       "      <td>6.04e-20</td>\n",
       "    </tr>\n",
       "    <tr>\n",
       "      <th>4</th>\n",
       "      <td>ACC</td>\n",
       "      <td>Gene_E</td>\n",
       "      <td>0.414</td>\n",
       "      <td>3.77e-22</td>\n",
       "    </tr>\n",
       "  </tbody>\n",
       "</table>\n",
       "</div>"
      ],
      "text/plain": [
       "  CancerType  GeneID  pearsonr   p_value\n",
       "0        ACC  Gene_A     0.303  4.63e-12\n",
       "1        ACC  Gene_B     1.000  0.00e+00\n",
       "2        ACC  Gene_C     0.329  4.47e-14\n",
       "3        ACC  Gene_D     0.393  6.04e-20\n",
       "4        ACC  Gene_E     0.414  3.77e-22"
      ]
     },
     "execution_count": 16,
     "metadata": {},
     "output_type": "execute_result"
    }
   ],
   "source": [
    "df000.head()"
   ]
  },
  {
   "cell_type": "code",
   "execution_count": 17,
   "id": "65b665f0-d2ee-4aa1-b83a-bc2589ad1efe",
   "metadata": {},
   "outputs": [
    {
     "name": "stdout",
     "output_type": "stream",
     "text": [
      "   CancerType  GeneID  pearsonr   p_value\n",
      "0         ACC  Gene_A     0.303  4.63e-12\n",
      "1         ACC  Gene_B     1.000  0.00e+00\n",
      "2         ACC  Gene_C     0.329  4.47e-14\n",
      "3         ACC  Gene_D     0.393  6.04e-20\n",
      "4         ACC  Gene_E     0.414  3.77e-22\n",
      "5         ACC  Gene_F     0.372  7.26e-18\n",
      "6         ACC  Gene_G     0.448  4.65e-26\n",
      "7        BLCA  Gene_A     0.040  3.71e-01\n",
      "8        BLCA  Gene_B     1.000  0.00e+00\n",
      "9        BLCA  Gene_C     0.117  8.66e-03\n",
      "10       BLCA  Gene_D     0.084  5.88e-02\n",
      "11       BLCA  Gene_E     0.087  5.16e-02\n",
      "12       BLCA  Gene_F     0.086  5.48e-02\n",
      "13       BLCA  Gene_G     0.045  3.19e-01\n",
      "14        LGG  Gene_A     0.013  7.78e-01\n",
      "15        LGG  Gene_B     1.000  0.00e+00\n",
      "16        LGG  Gene_C    -0.065  1.45e-01\n",
      "17        LGG  Gene_D    -0.031  4.87e-01\n",
      "18        LGG  Gene_E     0.032  4.73e-01\n",
      "19        LGG  Gene_F     0.076  9.03e-02\n",
      "20        LGG  Gene_G     0.066  1.38e-01\n",
      "21       CESC  Gene_A     0.239  6.33e-08\n",
      "22       CESC  Gene_B     1.000  0.00e+00\n",
      "23       CESC  Gene_C     0.258  4.77e-09\n",
      "24       CESC  Gene_D     0.159  3.62e-04\n",
      "25       CESC  Gene_E     0.229  2.41e-07\n",
      "26       CESC  Gene_F     0.298  1.06e-11\n",
      "27       CESC  Gene_G     0.274  4.68e-10\n"
     ]
    }
   ],
   "source": [
    "print(df000)"
   ]
  },
  {
   "cell_type": "code",
   "execution_count": null,
   "id": "609ac0bf-6736-4988-8375-6f60f3058c5b",
   "metadata": {},
   "outputs": [],
   "source": []
  },
  {
   "cell_type": "code",
   "execution_count": null,
   "id": "77767319-4a84-485d-84f2-ede4dae5e377",
   "metadata": {},
   "outputs": [],
   "source": []
  },
  {
   "cell_type": "code",
   "execution_count": null,
   "id": "3ad5670f-7cba-4dfc-9829-a2239b40c474",
   "metadata": {},
   "outputs": [],
   "source": []
  },
  {
   "cell_type": "code",
   "execution_count": null,
   "id": "4f9f7530-1d40-477b-84fc-f0d794a315f1",
   "metadata": {},
   "outputs": [],
   "source": []
  },
  {
   "cell_type": "code",
   "execution_count": null,
   "id": "1730fffc-f1a8-4c5b-b044-c2c45df64757",
   "metadata": {},
   "outputs": [],
   "source": []
  },
  {
   "cell_type": "code",
   "execution_count": null,
   "id": "24f92995-4395-4657-81ec-8b26bba49f53",
   "metadata": {},
   "outputs": [],
   "source": []
  },
  {
   "cell_type": "code",
   "execution_count": null,
   "id": "54275c65-4867-43f1-b992-9015f6e25fa4",
   "metadata": {},
   "outputs": [],
   "source": []
  },
  {
   "cell_type": "code",
   "execution_count": null,
   "id": "bc163312-1562-48ec-9646-f9d0f50a16ab",
   "metadata": {},
   "outputs": [],
   "source": []
  },
  {
   "cell_type": "code",
   "execution_count": null,
   "id": "20b6c121-1a42-4036-a537-85c972793ac5",
   "metadata": {},
   "outputs": [],
   "source": []
  },
  {
   "cell_type": "code",
   "execution_count": null,
   "id": "5eb6b19d-2132-4a18-ac6c-fd6e8eca85b8",
   "metadata": {},
   "outputs": [],
   "source": []
  }
 ],
 "metadata": {
  "kernelspec": {
   "display_name": "Python 3 (ipykernel)",
   "language": "python",
   "name": "python3"
  },
  "language_info": {
   "codemirror_mode": {
    "name": "ipython",
    "version": 3
   },
   "file_extension": ".py",
   "mimetype": "text/x-python",
   "name": "python",
   "nbconvert_exporter": "python",
   "pygments_lexer": "ipython3",
   "version": "3.9.7"
  }
 },
 "nbformat": 4,
 "nbformat_minor": 5
}
