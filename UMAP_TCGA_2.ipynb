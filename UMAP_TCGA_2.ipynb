{
 "cells": [
  {
   "cell_type": "code",
   "execution_count": 1,
   "id": "26d185bc-63de-47ca-891b-c4acf88e14bc",
   "metadata": {},
   "outputs": [],
   "source": [
    "import numpy as np\n",
    "from sklearn.datasets import load_digits\n",
    "from sklearn.model_selection import train_test_split\n",
    "from sklearn.preprocessing import StandardScaler\n",
    "import matplotlib.pyplot as plt\n",
    "import seaborn as sns\n",
    "import pandas as pd\n",
    "import umap\n",
    "import warnings\n",
    "warnings.filterwarnings(\"ignore\")\n",
    "%matplotlib inline"
   ]
  },
  {
   "cell_type": "code",
   "execution_count": 2,
   "id": "aa9718d1-0b8c-4804-b56f-2d8ff1a0039a",
   "metadata": {},
   "outputs": [],
   "source": [
    "sns.set(style='white', context='notebook', rc={'figure.figsize':(14,10)})"
   ]
  },
  {
   "cell_type": "code",
   "execution_count": 3,
   "id": "3fa8e076-89c1-4baf-835e-a414cea958ae",
   "metadata": {},
   "outputs": [],
   "source": [
    "df = pd.read_csv('Data/TestData2.tsv', header=0, sep='\\t', quotechar='\"', error_bad_lines=False)"
   ]
  },
  {
   "cell_type": "code",
   "execution_count": 4,
   "id": "cd6ba058-992e-46a6-a73d-7d2ca6a1a7fb",
   "metadata": {},
   "outputs": [
    {
     "data": {
      "text/plain": [
       "F    100\n",
       "M    100\n",
       "Name: Sex, dtype: int64"
      ]
     },
     "execution_count": 4,
     "metadata": {},
     "output_type": "execute_result"
    }
   ],
   "source": [
    "df = df.dropna()\n",
    "df.Sex.value_counts()"
   ]
  },
  {
   "cell_type": "code",
   "execution_count": 5,
   "id": "84f05fba-185d-4217-a1f8-aac7f55d5871",
   "metadata": {},
   "outputs": [
    {
     "data": {
      "text/html": [
       "<div>\n",
       "<style scoped>\n",
       "    .dataframe tbody tr th:only-of-type {\n",
       "        vertical-align: middle;\n",
       "    }\n",
       "\n",
       "    .dataframe tbody tr th {\n",
       "        vertical-align: top;\n",
       "    }\n",
       "\n",
       "    .dataframe thead th {\n",
       "        text-align: right;\n",
       "    }\n",
       "</style>\n",
       "<table border=\"1\" class=\"dataframe\">\n",
       "  <thead>\n",
       "    <tr style=\"text-align: right;\">\n",
       "      <th></th>\n",
       "      <th>SampleID</th>\n",
       "      <th>EGFR</th>\n",
       "      <th>RB1</th>\n",
       "      <th>TP53</th>\n",
       "      <th>CDKN2A</th>\n",
       "      <th>MYC</th>\n",
       "      <th>Sex</th>\n",
       "    </tr>\n",
       "  </thead>\n",
       "  <tbody>\n",
       "    <tr>\n",
       "      <th>0</th>\n",
       "      <td>Sample_1</td>\n",
       "      <td>11.4</td>\n",
       "      <td>17.5</td>\n",
       "      <td>20.4</td>\n",
       "      <td>11.1</td>\n",
       "      <td>16.2</td>\n",
       "      <td>M</td>\n",
       "    </tr>\n",
       "    <tr>\n",
       "      <th>1</th>\n",
       "      <td>Sample_2</td>\n",
       "      <td>18.3</td>\n",
       "      <td>19.2</td>\n",
       "      <td>17.1</td>\n",
       "      <td>14.9</td>\n",
       "      <td>17.3</td>\n",
       "      <td>M</td>\n",
       "    </tr>\n",
       "    <tr>\n",
       "      <th>2</th>\n",
       "      <td>Sample_3</td>\n",
       "      <td>10.4</td>\n",
       "      <td>16.5</td>\n",
       "      <td>14.0</td>\n",
       "      <td>14.6</td>\n",
       "      <td>20.1</td>\n",
       "      <td>M</td>\n",
       "    </tr>\n",
       "    <tr>\n",
       "      <th>3</th>\n",
       "      <td>Sample_4</td>\n",
       "      <td>19.4</td>\n",
       "      <td>17.3</td>\n",
       "      <td>12.5</td>\n",
       "      <td>15.3</td>\n",
       "      <td>15.7</td>\n",
       "      <td>M</td>\n",
       "    </tr>\n",
       "    <tr>\n",
       "      <th>4</th>\n",
       "      <td>Sample_5</td>\n",
       "      <td>10.6</td>\n",
       "      <td>10.5</td>\n",
       "      <td>10.3</td>\n",
       "      <td>18.4</td>\n",
       "      <td>10.1</td>\n",
       "      <td>M</td>\n",
       "    </tr>\n",
       "  </tbody>\n",
       "</table>\n",
       "</div>"
      ],
      "text/plain": [
       "   SampleID  EGFR   RB1  TP53  CDKN2A   MYC Sex\n",
       "0  Sample_1  11.4  17.5  20.4    11.1  16.2   M\n",
       "1  Sample_2  18.3  19.2  17.1    14.9  17.3   M\n",
       "2  Sample_3  10.4  16.5  14.0    14.6  20.1   M\n",
       "3  Sample_4  19.4  17.3  12.5    15.3  15.7   M\n",
       "4  Sample_5  10.6  10.5  10.3    18.4  10.1   M"
      ]
     },
     "execution_count": 5,
     "metadata": {},
     "output_type": "execute_result"
    }
   ],
   "source": [
    "df.head()"
   ]
  },
  {
   "cell_type": "code",
   "execution_count": 6,
   "id": "7d74f1c2-757f-4294-805e-41ce03ff3dab",
   "metadata": {},
   "outputs": [
    {
     "name": "stdout",
     "output_type": "stream",
     "text": [
      "<class 'pandas.core.frame.DataFrame'>\n",
      "Int64Index: 200 entries, 0 to 199\n",
      "Data columns (total 7 columns):\n",
      " #   Column    Non-Null Count  Dtype  \n",
      "---  ------    --------------  -----  \n",
      " 0   SampleID  200 non-null    object \n",
      " 1   EGFR      200 non-null    float64\n",
      " 2   RB1       200 non-null    float64\n",
      " 3   TP53      200 non-null    float64\n",
      " 4   CDKN2A    200 non-null    float64\n",
      " 5   MYC       200 non-null    float64\n",
      " 6   Sex       200 non-null    object \n",
      "dtypes: float64(5), object(2)\n",
      "memory usage: 12.5+ KB\n"
     ]
    }
   ],
   "source": [
    "df.info()"
   ]
  },
  {
   "cell_type": "code",
   "execution_count": 7,
   "id": "5be17d13-912e-4b19-bba8-7e331b5774ca",
   "metadata": {},
   "outputs": [],
   "source": [
    "# sns.pairplot(df, hue='Sex')"
   ]
  },
  {
   "cell_type": "code",
   "execution_count": 8,
   "id": "a24a23f1-3afa-4ca2-acd9-f7e33ccbccbf",
   "metadata": {},
   "outputs": [],
   "source": [
    "reducer = umap.UMAP()"
   ]
  },
  {
   "cell_type": "code",
   "execution_count": 14,
   "id": "d54b9f07-ca8b-4ff9-ae66-f014f51b2a9e",
   "metadata": {},
   "outputs": [],
   "source": [
    "df1 = df.drop(['SampleID', 'Sex'], axis = 1)"
   ]
  },
  {
   "cell_type": "code",
   "execution_count": 16,
   "id": "abe021d0-2765-44cd-8827-d00f18057672",
   "metadata": {},
   "outputs": [
    {
     "data": {
      "text/plain": [
       "['EGFR', 'RB1', 'TP53', 'CDKN2A', 'MYC']"
      ]
     },
     "execution_count": 16,
     "metadata": {},
     "output_type": "execute_result"
    }
   ],
   "source": [
    "df1.columns.tolist()"
   ]
  },
  {
   "cell_type": "code",
   "execution_count": 17,
   "id": "984c2f87-7248-456a-a13e-d3a0a76869d4",
   "metadata": {},
   "outputs": [],
   "source": [
    "TCGA_data = df1[df1.columns.tolist()].values"
   ]
  },
  {
   "cell_type": "code",
   "execution_count": 18,
   "id": "5fc225bf-ffe3-42b1-ae42-01402d901f16",
   "metadata": {
    "collapsed": true,
    "jupyter": {
     "outputs_hidden": true
    },
    "tags": []
   },
   "outputs": [
    {
     "data": {
      "text/plain": [
       "array([[11.4, 17.5, 20.4, 11.1, 16.2],\n",
       "       [18.3, 19.2, 17.1, 14.9, 17.3],\n",
       "       [10.4, 16.5, 14. , 14.6, 20.1],\n",
       "       [19.4, 17.3, 12.5, 15.3, 15.7],\n",
       "       [10.6, 10.5, 10.3, 18.4, 10.1],\n",
       "       [16. , 17.9, 13.3, 10.4, 20.6],\n",
       "       [16.8, 10.5, 17.9, 20.2, 17.5],\n",
       "       [19.7, 20.9, 16.6, 15.6, 19.6],\n",
       "       [13.5, 15.7, 10.3, 14.8, 14.5],\n",
       "       [16.6, 19.6, 14.9, 14.4, 10.9],\n",
       "       [12.1, 17.5, 10.1, 13.5, 17.9],\n",
       "       [12.2, 12.7, 13.2, 11.2, 10.1],\n",
       "       [16.7, 13.9, 16.2, 12. , 20.8],\n",
       "       [17.1, 11.6, 10.5, 12.8, 11.3],\n",
       "       [15.4, 11.1, 16.6, 12.9, 19.2],\n",
       "       [10.7, 12. , 15.2, 20.2, 17.6],\n",
       "       [16.3, 11.4, 16.3, 19.4, 17.8],\n",
       "       [11.8, 13.1, 20.3, 18. , 17.3],\n",
       "       [19.6, 16.3, 16.2, 13.9, 13.7],\n",
       "       [20.6, 20.6, 16.9, 20.3, 17.2],\n",
       "       [11.5, 11.9, 17.8, 18.3, 10.4],\n",
       "       [17.9, 18.6, 14.4, 20.9, 11.9],\n",
       "       [18.3, 20.9, 11.4, 12.7, 16.2],\n",
       "       [15.7, 17.3, 11.2, 14.5, 17.9],\n",
       "       [19. , 18.3, 14.3, 20.6, 18.3],\n",
       "       [13.5, 15.7, 16.4, 20.9, 13.9],\n",
       "       [16.7, 16.9, 12.5, 15.6, 16.2],\n",
       "       [15.1, 18.3, 20. , 11.5, 16. ],\n",
       "       [16.3, 13.6, 12.1, 20.1, 11.7],\n",
       "       [12.6, 19.3, 16.6, 18.3, 15.8],\n",
       "       [11.7, 16.9, 18.1, 20.6, 18.2],\n",
       "       [10.9, 14.9, 17.7, 20.7, 19.2],\n",
       "       [15. , 12. , 14.7, 11.4, 18.5],\n",
       "       [12.7, 13. , 16.4, 11.8, 10.6],\n",
       "       [14.2, 10.4, 17.8, 15.4, 19.8],\n",
       "       [13.2, 19.4, 10.4, 15.8, 16.8],\n",
       "       [10.2, 16.6, 18. , 16.2, 11.8],\n",
       "       [17.4, 12.3, 19.4, 19.9, 11. ],\n",
       "       [12.4, 15.1, 19.1, 11.3, 16.1],\n",
       "       [13.6, 10.6, 17.4, 16.6, 15.6],\n",
       "       [20.5, 10. , 17.1, 15.9, 15.7],\n",
       "       [16.5, 15.3, 12.6, 14.1, 11.4],\n",
       "       [14.4, 20.5, 11. , 13.9, 20.4],\n",
       "       [12.3, 17.7, 12.2, 10.8, 11.4],\n",
       "       [16.7, 12.1, 13.3, 19.4, 12.6],\n",
       "       [11.1, 18.1, 16.6, 13.4, 20.6],\n",
       "       [17.3, 19.1, 12.9, 11.9, 19.5],\n",
       "       [15. , 14.3, 15. , 19.1, 12. ],\n",
       "       [17.6, 10.6, 17.3, 19.9, 11.3],\n",
       "       [20.9, 11.8, 19.6, 20.9, 13.6],\n",
       "       [11. , 17. , 12.7, 16.7, 19.6],\n",
       "       [17.6, 12.1, 10.4, 14. , 20.4],\n",
       "       [12.7, 13.1, 11.7, 12.6, 18.1],\n",
       "       [11.9, 12.5, 14.2, 20.4, 16.1],\n",
       "       [14.1, 18.6, 10.5, 17.9, 11.6],\n",
       "       [13.3, 15.3, 15.9, 10.8, 10.4],\n",
       "       [15.1, 18.5, 12.4, 20.4, 14.6],\n",
       "       [20.6, 17.7, 17.4, 15.9, 10.1],\n",
       "       [20.8, 16.9, 15.2, 14.6, 11.6],\n",
       "       [13.6, 12.9, 18.5, 17. , 14.2],\n",
       "       [10.7, 19.7, 18.3, 20.3, 10. ],\n",
       "       [17.3, 17.4, 19.1, 20.1, 16.2],\n",
       "       [11.4, 17.5, 16.6, 12.6, 15.5],\n",
       "       [11.2, 18.5, 20.9, 20.3, 12.2],\n",
       "       [19.1, 11.1, 15.1, 16.2, 12.2],\n",
       "       [15.8, 16.4, 19.4, 18.2, 13.2],\n",
       "       [15.4, 12.2, 18.4, 12.3, 14.6],\n",
       "       [13.4, 10.6, 18.9, 19.9, 10.6],\n",
       "       [17. , 16. , 10.8, 12. , 12.6],\n",
       "       [14. , 13.3, 12.8, 12.3, 12.6],\n",
       "       [11.3, 16.2, 16.5, 13.8, 17. ],\n",
       "       [13.2, 16. , 20.3, 12.3, 13.4],\n",
       "       [12.4, 19.3, 13.8, 11.3, 18. ],\n",
       "       [15.2, 15.8, 14.3, 10.6, 16.7],\n",
       "       [18.8, 14. , 18. , 13. , 18.7],\n",
       "       [17.6, 12.7, 20.3, 12.6, 20.1],\n",
       "       [19.2, 19.7, 10.8, 10. , 15. ],\n",
       "       [15.6, 15.6, 10.1, 18.9, 19.2],\n",
       "       [18.7, 12.9, 19.9, 12.8, 16.2],\n",
       "       [14.8, 19.4, 10.2, 12.2, 19.8],\n",
       "       [13.8, 16.6, 15.5, 11.2, 18.2],\n",
       "       [12.8, 19.6, 17.8, 17. , 18.6],\n",
       "       [10.1, 11.7, 18.2, 20.7, 10.5],\n",
       "       [10.4, 15.3, 15.5, 16.1, 18.2],\n",
       "       [12.8, 15.8, 20.1, 12.1, 12.9],\n",
       "       [12.8, 19.7, 13.7, 16.6, 10.6],\n",
       "       [19.5, 11. , 14.2, 18.1, 13.7],\n",
       "       [10.1, 17.5, 15.1, 12.1, 14.9],\n",
       "       [10.3, 20.8, 11.4, 14.2, 18.7],\n",
       "       [19. , 17.6, 13.7, 10.7, 12.2],\n",
       "       [13.3, 11.7, 20.2, 14.8, 19.2],\n",
       "       [10.4, 14.7, 13.9, 13.9, 19.5],\n",
       "       [13. , 12.2, 14. , 20.8, 14.8],\n",
       "       [19.9, 14.8, 10.4, 17. , 10.1],\n",
       "       [13.8, 15. , 13.7, 20.8, 10.2],\n",
       "       [12.9, 13.2, 16.7, 19.8, 15.3],\n",
       "       [11.4, 10. , 11.2, 14.4, 10.5],\n",
       "       [16. , 18.6, 17.6, 13.1, 20.1],\n",
       "       [17. , 12.8, 16. , 14.5, 18.6],\n",
       "       [20.7, 15.7, 17.8, 14.8, 14.9],\n",
       "       [11.6, 15.2, 11.7, 10.5, 12.4],\n",
       "       [14.2, 11.7, 14.5, 15.7, 11.3],\n",
       "       [12. , 11.6, 12.3,  8.6,  7.1],\n",
       "       [ 8.9,  7. , 12.4,  8.2, 13.3],\n",
       "       [13.1,  8.6, 11.2, 11.1, 15.6],\n",
       "       [ 7.4,  8.2, 11.2,  8.2, 14.6],\n",
       "       [11.2, 15.4, 12.8,  8.9, 10.9],\n",
       "       [12.4, 15.7,  9.2, 11.5, 15.8],\n",
       "       [11.2, 10.9, 11.6, 11.5, 11.1],\n",
       "       [ 7.3, 12.4,  8.7, 11.7, 11.4],\n",
       "       [ 9.6, 10. , 10.9, 13.3,  7.3],\n",
       "       [12.7,  8.3, 10.4,  8.1, 12.1],\n",
       "       [12. , 14.5, 15.3, 11.6, 15.9],\n",
       "       [ 9.7, 14.9,  8.4,  8.3, 15.2],\n",
       "       [ 8.1, 13.3,  9.9, 15.3, 15.2],\n",
       "       [13.4, 15.9, 10.7, 12.8,  7.9],\n",
       "       [12.4, 15.8, 14.1, 13.8, 15.3],\n",
       "       [ 7.2, 11.1, 14.7, 12.3,  9.2],\n",
       "       [10.1, 15.8,  9. ,  9.2, 10. ],\n",
       "       [10.3, 13. , 13.4, 11.8, 10.1],\n",
       "       [10.3,  9.6, 13.6, 15. ,  8.7],\n",
       "       [ 9.8,  7.7,  8.2, 12.3, 12.5],\n",
       "       [12.5,  8.5, 13.5,  8.5, 10.3],\n",
       "       [ 7.2, 15.1,  9.5, 13.9, 14.3],\n",
       "       [15.1, 13. , 10.9, 13. , 11.9],\n",
       "       [ 7. , 14. , 12. , 10.3, 13.5],\n",
       "       [ 8.5,  8. , 15.8, 12.6, 13. ],\n",
       "       [14. ,  9.1, 11.7, 10.7,  8.7],\n",
       "       [ 8.3, 14.4, 12.4,  7.1, 13.2],\n",
       "       [ 9. , 10.7, 14.3, 13.4, 15.1],\n",
       "       [10.8, 12.1, 10.1,  8.7, 15.6],\n",
       "       [15.4,  7.4, 14.8,  9.3, 14. ],\n",
       "       [14.7, 11.5,  8.3, 14.6, 11.4],\n",
       "       [11.9, 11.6,  7.4, 12.4,  8.6],\n",
       "       [ 7. ,  8.8, 10.2, 15.6, 15.4],\n",
       "       [ 8. , 15.8,  8.3, 15.4, 10.5],\n",
       "       [ 8.3, 12.1, 10. , 10.5, 12. ],\n",
       "       [10.4, 12.7, 11.3,  8.8,  8.2],\n",
       "       [ 8.8, 12.8, 10.1, 12.5,  9.8],\n",
       "       [11.3, 14. , 10.7, 15.1, 14.8],\n",
       "       [11. , 11.2, 11.9, 13.4, 10.9],\n",
       "       [14.2,  7.6,  7.8, 15.5, 15.8],\n",
       "       [13. ,  9. ,  8.3,  7.1, 12.4],\n",
       "       [15.5, 11.5, 15.7,  8.8, 12.5],\n",
       "       [ 9.9,  9.8, 11.9, 13.5,  8.7],\n",
       "       [15.5,  9.3,  7.8,  9.4,  8.8],\n",
       "       [ 7.6, 13. , 13.8,  8.7,  9. ],\n",
       "       [ 7. , 11.4, 13.7, 11.3, 12.5],\n",
       "       [ 7.9, 15.4, 10.2, 10.6, 11.8],\n",
       "       [ 7. , 15. , 10.7, 11.8, 15.3],\n",
       "       [ 7.2, 12.1,  7.5,  8.4,  7. ],\n",
       "       [13.8,  7.8, 14.1, 13.7, 15.7],\n",
       "       [ 7.2, 14.9, 11.6,  8.3,  8.4],\n",
       "       [13.1,  8.8, 13. , 11.2,  7.2],\n",
       "       [ 9. , 12.7, 10.7,  9. , 13.5],\n",
       "       [12.7, 11.1,  9.7,  9.8, 13.9],\n",
       "       [10.1, 10.3,  8.3, 10.1,  8.5],\n",
       "       [14.4, 14.9, 13.7,  7. , 11.9],\n",
       "       [12.3, 12.8, 15.9, 15.6,  7.3],\n",
       "       [10.3, 14.6, 11.1, 14.6, 15.9],\n",
       "       [15.8, 11. ,  9.1,  8.6,  9.3],\n",
       "       [11.7,  7.8,  8.2,  8.1,  8.8],\n",
       "       [ 9.5, 10.3, 14.8, 12.5,  7.7],\n",
       "       [14.7,  9. , 15.2, 11.6,  7.5],\n",
       "       [ 8.5,  9. ,  7.5, 14. ,  8.3],\n",
       "       [15. , 15.7,  7.4, 14.9, 14.2],\n",
       "       [10.1, 13.6, 12.6, 14.7, 12.6],\n",
       "       [12.6, 15. ,  7.4, 11.6, 12.2],\n",
       "       [13.4,  7.5, 11.9, 13.2, 14.2],\n",
       "       [12.7,  7.5, 12.4, 13.6, 10.4],\n",
       "       [14.1,  7.7,  7. , 11.9, 12.2],\n",
       "       [13.3, 10.8, 11.8, 12.3, 12.4],\n",
       "       [ 7.5, 15. , 10.8,  9.4, 14.6],\n",
       "       [ 9.8, 10.9, 12.8, 10.7, 12. ],\n",
       "       [15. ,  7.9, 15.6, 12.8,  9.1],\n",
       "       [12.5, 13. ,  7.9, 10. ,  9.3],\n",
       "       [ 7. , 13.4, 15.8, 15.1, 11. ],\n",
       "       [10.8,  7.9,  7.7,  7.6, 10.9],\n",
       "       [15.9, 14.3, 12.3,  8.4, 13.1],\n",
       "       [ 7.2,  7. , 10.2, 13.2, 14.3],\n",
       "       [12.9, 13.4,  8.6, 10.9,  7.3],\n",
       "       [ 7.2,  7.8, 10.3, 13.9,  9.1],\n",
       "       [14. , 12. , 15. ,  8. , 11.2],\n",
       "       [15.5, 12.3, 14.2, 13.4, 14.6],\n",
       "       [ 7.7, 13.2, 11.7,  8.4, 13.4],\n",
       "       [ 9.6, 14.4,  8.1, 15.2, 14.1],\n",
       "       [13.2, 15. ,  9. ,  8.2,  9.3],\n",
       "       [15.8,  9.3, 10.9,  8.4,  8.5],\n",
       "       [ 8.3, 15.5,  9.6, 11. , 11.1],\n",
       "       [10.5, 13.1,  7.3,  9.4, 12.1],\n",
       "       [14.2, 13.3, 10.1, 11.2,  7.5],\n",
       "       [11.3, 11.4, 12.9,  9.1, 14.2],\n",
       "       [ 7.5, 10.7,  9.6,  7.6,  9.8],\n",
       "       [10.9, 15.6, 13.3,  9.6, 13.5],\n",
       "       [ 8.5, 11.4, 14.1, 10.8, 10.6],\n",
       "       [15.5, 13.5, 11.7, 15.5, 13.4],\n",
       "       [10.3, 12.7, 15.6,  7.3, 12.2],\n",
       "       [11.9, 15.7, 12.5, 10.9, 10.2],\n",
       "       [12.8, 12.9, 14.6, 12.8, 12.1],\n",
       "       [ 9.7,  7.4,  9.7, 12.9, 11.4]])"
      ]
     },
     "execution_count": 18,
     "metadata": {},
     "output_type": "execute_result"
    }
   ],
   "source": [
    "TCGA_data"
   ]
  },
  {
   "cell_type": "code",
   "execution_count": 19,
   "id": "e4cd5571-42f7-4320-885d-9701b9441900",
   "metadata": {},
   "outputs": [],
   "source": [
    "# Converts each feature into z-scores (number of SD from the mean) for comparability.\n",
    "scaled_TCGA_data = StandardScaler().fit_transform(TCGA_data)"
   ]
  },
  {
   "cell_type": "code",
   "execution_count": 20,
   "id": "ef3bbbae-be5f-475c-b4c3-6464935b39d4",
   "metadata": {},
   "outputs": [
    {
     "data": {
      "text/plain": [
       "(200, 2)"
      ]
     },
     "execution_count": 20,
     "metadata": {},
     "output_type": "execute_result"
    }
   ],
   "source": [
    "embedding = reducer.fit_transform(scaled_TCGA_data)\n",
    "embedding.shape"
   ]
  },
  {
   "cell_type": "code",
   "execution_count": 21,
   "id": "44b558db-74cc-4e33-8c9e-81af60943447",
   "metadata": {},
   "outputs": [
    {
     "data": {
      "text/plain": [
       "Text(0.5, 1.0, 'UMAP projection of the TCGA')"
      ]
     },
     "execution_count": 21,
     "metadata": {},
     "output_type": "execute_result"
    },
    {
     "data": {
      "image/png": "[encoded data removed]",
      "text/plain": [
       "<Figure size 1008x720 with 2 Axes>"
      ]
     },
     "metadata": {},
     "output_type": "display_data"
    }
   ],
   "source": [
    "plt.scatter(\n",
    "    embedding[:, 0],\n",
    "    embedding[:, 1],\n",
    "    c=[sns.color_palette()[x] for x in df.Sex.map({\"M\":0, \"F\":1})])\n",
    "plt.gca().set_aspect('equal', 'datalim')\n",
    "plt.colorbar(boundaries=np.arange(3)-0.5).set_ticks(np.arange(2.5))\n",
    "plt.title('UMAP projection of the TCGA', fontsize=18)"
   ]
  },
  {
   "cell_type": "code",
   "execution_count": null,
   "id": "04e656d3-b33d-447a-9fed-9c4d21cafdb0",
   "metadata": {},
   "outputs": [],
   "source": []
  },
  {
   "cell_type": "code",
   "execution_count": null,
   "id": "48734d78-972f-43d3-98b6-ed56381a01b0",
   "metadata": {},
   "outputs": [],
   "source": []
  },
  {
   "cell_type": "code",
   "execution_count": null,
   "id": "5447346f-8799-44c9-9db9-4336db08224a",
   "metadata": {},
   "outputs": [],
   "source": []
  },
  {
   "cell_type": "code",
   "execution_count": null,
   "id": "22bb58c4-db65-417b-8470-1e17e7e5c858",
   "metadata": {},
   "outputs": [],
   "source": []
  },
  {
   "cell_type": "code",
   "execution_count": null,
   "id": "8784e15f-954b-4303-b806-433a6b7c09a0",
   "metadata": {},
   "outputs": [],
   "source": []
  },
  {
   "cell_type": "code",
   "execution_count": null,
   "id": "2f57025c-ccdf-4d8b-8585-af2a3a887fac",
   "metadata": {},
   "outputs": [],
   "source": []
  },
  {
   "cell_type": "code",
   "execution_count": null,
   "id": "e0ebf67e-bef4-41ae-b34f-a5b7c7cd361b",
   "metadata": {},
   "outputs": [],
   "source": []
  }
 ],
 "metadata": {
  "kernelspec": {
   "display_name": "Python 3",
   "language": "python",
   "name": "python3"
  },
  "language_info": {
   "codemirror_mode": {
    "name": "ipython",
    "version": 3
   },
   "file_extension": ".py",
   "mimetype": "text/x-python",
   "name": "python",
   "nbconvert_exporter": "python",
   "pygments_lexer": "ipython3",
   "version": "3.8.8"
  }
 },
 "nbformat": 4,
 "nbformat_minor": 5
}
