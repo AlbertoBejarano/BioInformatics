{
 "cells": [
  {
   "cell_type": "code",
   "execution_count": 1,
   "id": "6ed2b6d5-3d07-4fd6-9b3d-e7c5d71c8b6a",
   "metadata": {},
   "outputs": [
    {
     "name": "stdout",
     "output_type": "stream",
     "text": [
      "June 10, 2024 21:16:22\n"
     ]
    }
   ],
   "source": [
    "import time; start = time.time()\n",
    "from datetime import datetime; print(datetime.now().strftime(\"%B %d, %Y %H:%M:%S\"))"
   ]
  },
  {
   "cell_type": "code",
   "execution_count": 2,
   "id": "85b83928-1d76-4000-8c17-ec221521a3c3",
   "metadata": {},
   "outputs": [],
   "source": [
    "# CCLE_GeneCorrelation_v01\n",
    "# Alberto Bejarano 2024"
   ]
  },
  {
   "cell_type": "code",
   "execution_count": 3,
   "id": "2a0724a2-84b2-454e-b1ba-1bebda85b942",
   "metadata": {},
   "outputs": [],
   "source": [
    "# https://depmap.org/portal/download/all/\n",
    "# https://s3-eu-west-1.amazonaws.com/pstorage-plus-7003492043/43347204/OmicsExpressionProteinCodingGenesTPMLogp1.csv"
   ]
  },
  {
   "cell_type": "code",
   "execution_count": 4,
   "id": "e6d55c86-5dac-4732-ab47-69a7e9dc0642",
   "metadata": {},
   "outputs": [],
   "source": [
    "%config InlineBackend.figure_format = \"retina\"\n",
    "%matplotlib inline"
   ]
  },
  {
   "cell_type": "code",
   "execution_count": 5,
   "id": "246ab57c-551c-44f2-92a2-a8306d81a802",
   "metadata": {},
   "outputs": [
    {
     "name": "stdout",
     "output_type": "stream",
     "text": [
      "June 10, 2024 21:16:22\n"
     ]
    }
   ],
   "source": [
    "import time; start = time.time()\n",
    "from datetime import datetime; print(datetime.now().strftime(\"%B %d, %Y %H:%M:%S\"))"
   ]
  },
  {
   "cell_type": "code",
   "execution_count": 6,
   "id": "88a6c132-aeec-4a14-b9f1-e6a4bdb974c3",
   "metadata": {},
   "outputs": [],
   "source": [
    "import pandas as pd\n",
    "pd.set_option('display.precision', 2)\n",
    "pd.set_option('display.max_columns', 200)\n",
    "pd.set_option('display.width', 1000)\n",
    "pd.options.display.float_format = '{:.3f}'.format\n",
    "pd.set_option('display.precision', 3)\n",
    "#        -         -        -        -         -        -         -        -        -         -\n",
    "from scipy.stats import mannwhitneyu, normaltest\n",
    "from statannotations.Annotator import Annotator\n",
    "from statannot import add_stat_annotation\n",
    "import matplotlib.pyplot as plt\n",
    "import seaborn as sns\n",
    "import pandas  as pd\n",
    "import numpy   as np\n",
    "import mmap\n",
    "import time\n",
    "import os\n",
    "#        -         -        -        -         -        -         -        -        -         -\n",
    "import warnings; warnings.filterwarnings(\"ignore\") \n",
    "warnings.filterwarnings(\"ignore\", category=FutureWarning)\n",
    "warnings.filterwarnings(\"ignore\", category=RuntimeWarning)"
   ]
  },
  {
   "cell_type": "code",
   "execution_count": 7,
   "id": "bd83db02-ef06-4c95-a751-3f49813f5cbd",
   "metadata": {},
   "outputs": [],
   "source": [
    "#Gene_X = \n",
    "#Gene_Y ="
   ]
  },
  {
   "cell_type": "code",
   "execution_count": 8,
   "id": "7f2e74a6-44d9-4678-9238-f72f9fd7c353",
   "metadata": {},
   "outputs": [],
   "source": [
    "GenesOfInterest = ['CD274', 'ERBB2', 'MYC', ]   # FERP1"
   ]
  },
  {
   "cell_type": "code",
   "execution_count": 9,
   "id": "90f0c7e0-816b-4443-911b-6c6eb303d6b9",
   "metadata": {},
   "outputs": [],
   "source": [
    "OncotreeCodesOfInterest = ['LUAD','SKCM']"
   ]
  },
  {
   "cell_type": "code",
   "execution_count": 10,
   "id": "af757ec5-aa21-4ded-a115-1278d27e97b8",
   "metadata": {},
   "outputs": [],
   "source": [
    "CellLines =  ['A427', 'A549', 'ABC-1', 'COLO 829', 'COLO-679', 'COLO-800', 'COR-L105']"
   ]
  },
  {
   "cell_type": "code",
   "execution_count": 11,
   "id": "6c3a4e84-2b64-4886-b903-1f0711e27f27",
   "metadata": {},
   "outputs": [],
   "source": [
    "metadata_filev1 = './data/Model_v1.csv'\n",
    "metadata_filev2 = './data/Model_v2.csv'\n",
    "data_file       = './data/OmicsExpressionProteinCodingGenesTPMLogp1.csv'"
   ]
  },
  {
   "cell_type": "code",
   "execution_count": 12,
   "id": "46991a43-93af-48a4-bee1-52408f37779e",
   "metadata": {},
   "outputs": [
    {
     "name": "stdout",
     "output_type": "stream",
     "text": [
      "File Size: 429  MB\n"
     ]
    }
   ],
   "source": [
    "print(\"File Size:\", f\"{(os.stat(data_file).st_size/(1024*1024)):,.0f}\",\" MB\")"
   ]
  },
  {
   "cell_type": "code",
   "execution_count": 13,
   "id": "f83da7d5-d123-42de-901d-09d8d70c04fb",
   "metadata": {
    "scrolled": true
   },
   "outputs": [
    {
     "data": {
      "text/html": [
       "<div>\n",
       "<style scoped>\n",
       "    .dataframe tbody tr th:only-of-type {\n",
       "        vertical-align: middle;\n",
       "    }\n",
       "\n",
       "    .dataframe tbody tr th {\n",
       "        vertical-align: top;\n",
       "    }\n",
       "\n",
       "    .dataframe thead th {\n",
       "        text-align: right;\n",
       "    }\n",
       "</style>\n",
       "<table border=\"1\" class=\"dataframe\">\n",
       "  <thead>\n",
       "    <tr style=\"text-align: right;\">\n",
       "      <th></th>\n",
       "      <th>ModelID</th>\n",
       "      <th>PatientID</th>\n",
       "      <th>CellLineName</th>\n",
       "      <th>StrippedCellLineName</th>\n",
       "      <th>DepmapModelType</th>\n",
       "      <th>OncotreeLineage</th>\n",
       "      <th>OncotreePrimaryDisease</th>\n",
       "      <th>OncotreeSubtype</th>\n",
       "      <th>OncotreeCode</th>\n",
       "      <th>LegacyMolecularSubtype</th>\n",
       "      <th>PatientMolecularSubtype</th>\n",
       "      <th>RRID</th>\n",
       "      <th>Age</th>\n",
       "      <th>AgeCategory</th>\n",
       "      <th>Sex</th>\n",
       "      <th>PatientRace</th>\n",
       "      <th>PrimaryOrMetastasis</th>\n",
       "      <th>SampleCollectionSite</th>\n",
       "      <th>SourceType</th>\n",
       "      <th>SourceDetail</th>\n",
       "      <th>TreatmentStatus</th>\n",
       "      <th>TreatmentDetails</th>\n",
       "      <th>GrowthPattern</th>\n",
       "      <th>OnboardedMedia</th>\n",
       "      <th>FormulationID</th>\n",
       "      <th>EngineeredModel</th>\n",
       "      <th>TissueOrigin</th>\n",
       "      <th>CCLEName</th>\n",
       "      <th>CatalogNumber</th>\n",
       "      <th>PlateCoating</th>\n",
       "      <th>ModelDerivationMaterial</th>\n",
       "      <th>PublicComments</th>\n",
       "      <th>WTSIMasterCellID</th>\n",
       "      <th>SangerModelID</th>\n",
       "      <th>COSMICID</th>\n",
       "      <th>LegacySubSubtype</th>\n",
       "    </tr>\n",
       "  </thead>\n",
       "  <tbody>\n",
       "    <tr>\n",
       "      <th>134</th>\n",
       "      <td>ACH-000136</td>\n",
       "      <td>PT-3ZPjBh</td>\n",
       "      <td>CHP-126</td>\n",
       "      <td>CHP126</td>\n",
       "      <td>NBL</td>\n",
       "      <td>Peripheral Nervous System</td>\n",
       "      <td>Neuroblastoma</td>\n",
       "      <td>Neuroblastoma</td>\n",
       "      <td>NBL</td>\n",
       "      <td>MYCN_amp</td>\n",
       "      <td>NaN</td>\n",
       "      <td>CVCL_1123</td>\n",
       "      <td>1.000</td>\n",
       "      <td>Pediatric</td>\n",
       "      <td>Female</td>\n",
       "      <td>NaN</td>\n",
       "      <td>Primary</td>\n",
       "      <td>autonomic_ganglia</td>\n",
       "      <td>DSMZ</td>\n",
       "      <td></td>\n",
       "      <td>NaN</td>\n",
       "      <td>NaN</td>\n",
       "      <td>Adherent</td>\n",
       "      <td>MF-001-001</td>\n",
       "      <td>RPMI + 10% FBS</td>\n",
       "      <td>NaN</td>\n",
       "      <td>NaN</td>\n",
       "      <td>CHP126_AUTONOMIC_GANGLIA</td>\n",
       "      <td>NaN</td>\n",
       "      <td>NaN</td>\n",
       "      <td>NaN</td>\n",
       "      <td>NaN</td>\n",
       "      <td>38.000</td>\n",
       "      <td>SIDM00286</td>\n",
       "      <td>910567.000</td>\n",
       "      <td>NaN</td>\n",
       "    </tr>\n",
       "    <tr>\n",
       "      <th>904</th>\n",
       "      <td>ACH-000908</td>\n",
       "      <td>PT-HKGwye</td>\n",
       "      <td>SNU-520</td>\n",
       "      <td>SNU520</td>\n",
       "      <td>STAD</td>\n",
       "      <td>Esophagus/Stomach</td>\n",
       "      <td>Esophagogastric Adenocarcinoma</td>\n",
       "      <td>Stomach Adenocarcinoma</td>\n",
       "      <td>STAD</td>\n",
       "      <td>NaN</td>\n",
       "      <td>NaN</td>\n",
       "      <td>CVCL_5072</td>\n",
       "      <td>60.000</td>\n",
       "      <td>Adult</td>\n",
       "      <td>Female</td>\n",
       "      <td>asian</td>\n",
       "      <td>Primary</td>\n",
       "      <td>stomach</td>\n",
       "      <td>KCLB</td>\n",
       "      <td></td>\n",
       "      <td>NaN</td>\n",
       "      <td>NaN</td>\n",
       "      <td>Adherent</td>\n",
       "      <td>MF-001-005</td>\n",
       "      <td>RPMI + 10% FBS + 2mM Glutamine + 25mM HEPES + ...</td>\n",
       "      <td>NaN</td>\n",
       "      <td>NaN</td>\n",
       "      <td>SNU520_STOMACH</td>\n",
       "      <td>NaN</td>\n",
       "      <td>NaN</td>\n",
       "      <td>NaN</td>\n",
       "      <td>NaN</td>\n",
       "      <td>NaN</td>\n",
       "      <td>NaN</td>\n",
       "      <td>NaN</td>\n",
       "      <td>NaN</td>\n",
       "    </tr>\n",
       "    <tr>\n",
       "      <th>1241</th>\n",
       "      <td>ACH-001421</td>\n",
       "      <td>PT-WBS2Hf</td>\n",
       "      <td>WERI-Rb-1</td>\n",
       "      <td>WERIRB1</td>\n",
       "      <td>RBL</td>\n",
       "      <td>Eye</td>\n",
       "      <td>Retinoblastoma</td>\n",
       "      <td>Retinoblastoma</td>\n",
       "      <td>RBL</td>\n",
       "      <td>NaN</td>\n",
       "      <td>NaN</td>\n",
       "      <td>CVCL_1792</td>\n",
       "      <td>1.000</td>\n",
       "      <td>Pediatric</td>\n",
       "      <td>Female</td>\n",
       "      <td>NaN</td>\n",
       "      <td>Primary</td>\n",
       "      <td>eye</td>\n",
       "      <td>ATCC</td>\n",
       "      <td></td>\n",
       "      <td>NaN</td>\n",
       "      <td>NaN</td>\n",
       "      <td>Suspension</td>\n",
       "      <td>MF-001-001</td>\n",
       "      <td>RPMI + 10% FBS</td>\n",
       "      <td>NaN</td>\n",
       "      <td>NaN</td>\n",
       "      <td>WERIRB1_AUTONOMIC_GANGLIA</td>\n",
       "      <td>HTB-169</td>\n",
       "      <td>NaN</td>\n",
       "      <td>NaN</td>\n",
       "      <td>NaN</td>\n",
       "      <td>NaN</td>\n",
       "      <td>NaN</td>\n",
       "      <td>NaN</td>\n",
       "      <td>NaN</td>\n",
       "    </tr>\n",
       "  </tbody>\n",
       "</table>\n",
       "</div>"
      ],
      "text/plain": [
       "         ModelID  PatientID CellLineName StrippedCellLineName DepmapModelType            OncotreeLineage          OncotreePrimaryDisease         OncotreeSubtype OncotreeCode LegacyMolecularSubtype  PatientMolecularSubtype       RRID    Age AgeCategory     Sex PatientRace PrimaryOrMetastasis SampleCollectionSite SourceType SourceDetail TreatmentStatus  TreatmentDetails GrowthPattern OnboardedMedia                                      FormulationID EngineeredModel TissueOrigin                   CCLEName CatalogNumber PlateCoating ModelDerivationMaterial PublicComments  WTSIMasterCellID SangerModelID   COSMICID LegacySubSubtype\n",
       "134   ACH-000136  PT-3ZPjBh      CHP-126               CHP126             NBL  Peripheral Nervous System                   Neuroblastoma           Neuroblastoma          NBL               MYCN_amp                      NaN  CVCL_1123  1.000   Pediatric  Female         NaN             Primary    autonomic_ganglia       DSMZ                          NaN               NaN      Adherent     MF-001-001                                     RPMI + 10% FBS             NaN          NaN   CHP126_AUTONOMIC_GANGLIA           NaN          NaN                     NaN            NaN            38.000     SIDM00286 910567.000              NaN\n",
       "904   ACH-000908  PT-HKGwye      SNU-520               SNU520            STAD          Esophagus/Stomach  Esophagogastric Adenocarcinoma  Stomach Adenocarcinoma         STAD                    NaN                      NaN  CVCL_5072 60.000       Adult  Female       asian             Primary              stomach       KCLB                          NaN               NaN      Adherent     MF-001-005  RPMI + 10% FBS + 2mM Glutamine + 25mM HEPES + ...             NaN          NaN             SNU520_STOMACH           NaN          NaN                     NaN            NaN               NaN           NaN        NaN              NaN\n",
       "1241  ACH-001421  PT-WBS2Hf    WERI-Rb-1              WERIRB1             RBL                        Eye                  Retinoblastoma          Retinoblastoma          RBL                    NaN                      NaN  CVCL_1792  1.000   Pediatric  Female         NaN             Primary                  eye       ATCC                          NaN               NaN    Suspension     MF-001-001                                     RPMI + 10% FBS             NaN          NaN  WERIRB1_AUTONOMIC_GANGLIA       HTB-169          NaN                     NaN            NaN               NaN           NaN        NaN              NaN"
      ]
     },
     "execution_count": 13,
     "metadata": {},
     "output_type": "execute_result"
    }
   ],
   "source": [
    "meta_dfv1 = pd.read_csv(metadata_filev1, index_col=False, header=0, sep=',', quotechar='\"', skiprows=0, on_bad_lines = \"warn\")\n",
    "meta_dfv1.sample(3)"
   ]
  },
  {
   "cell_type": "code",
   "execution_count": 14,
   "id": "8a1841da-76c8-47a9-a560-aa04a9d45ea5",
   "metadata": {},
   "outputs": [
    {
     "data": {
      "text/html": [
       "<div>\n",
       "<style scoped>\n",
       "    .dataframe tbody tr th:only-of-type {\n",
       "        vertical-align: middle;\n",
       "    }\n",
       "\n",
       "    .dataframe tbody tr th {\n",
       "        vertical-align: top;\n",
       "    }\n",
       "\n",
       "    .dataframe thead th {\n",
       "        text-align: right;\n",
       "    }\n",
       "</style>\n",
       "<table border=\"1\" class=\"dataframe\">\n",
       "  <thead>\n",
       "    <tr style=\"text-align: right;\">\n",
       "      <th></th>\n",
       "      <th>ModelID</th>\n",
       "      <th>PatientID</th>\n",
       "      <th>CellLineName</th>\n",
       "      <th>StrippedCellLineName</th>\n",
       "      <th>DepmapModelType</th>\n",
       "      <th>OncotreeLineage</th>\n",
       "      <th>OncotreePrimaryDisease</th>\n",
       "      <th>OncotreeSubtype</th>\n",
       "      <th>OncotreeCode</th>\n",
       "      <th>LegacyMolecularSubtype</th>\n",
       "      <th>PatientMolecularSubtype</th>\n",
       "      <th>RRID</th>\n",
       "      <th>Age</th>\n",
       "      <th>AgeCategory</th>\n",
       "      <th>Sex</th>\n",
       "      <th>PatientRace</th>\n",
       "      <th>PrimaryOrMetastasis</th>\n",
       "      <th>SampleCollectionSite</th>\n",
       "      <th>SourceType</th>\n",
       "      <th>SourceDetail</th>\n",
       "      <th>TreatmentStatus</th>\n",
       "      <th>TreatmentDetails</th>\n",
       "      <th>GrowthPattern</th>\n",
       "      <th>OnboardedMedia</th>\n",
       "      <th>FormulationID</th>\n",
       "      <th>EngineeredModel</th>\n",
       "      <th>TissueOrigin</th>\n",
       "      <th>CCLEName</th>\n",
       "      <th>CatalogNumber</th>\n",
       "      <th>PlateCoating</th>\n",
       "      <th>ModelDerivationMaterial</th>\n",
       "      <th>PublicComments</th>\n",
       "      <th>WTSIMasterCellID</th>\n",
       "      <th>SangerModelID</th>\n",
       "      <th>COSMICID</th>\n",
       "      <th>LegacySubSubtype</th>\n",
       "    </tr>\n",
       "  </thead>\n",
       "  <tbody>\n",
       "    <tr>\n",
       "      <th>1258</th>\n",
       "      <td>ACH-001481</td>\n",
       "      <td>PT-GWiky5</td>\n",
       "      <td>CHLA-90</td>\n",
       "      <td>CHLA90</td>\n",
       "      <td>NBL</td>\n",
       "      <td>Peripheral Nervous System</td>\n",
       "      <td>Neuroblastoma</td>\n",
       "      <td>Neuroblastoma</td>\n",
       "      <td>NBL</td>\n",
       "      <td>NaN</td>\n",
       "      <td>NaN</td>\n",
       "      <td>CVCL_6610</td>\n",
       "      <td>8.000</td>\n",
       "      <td>Pediatric</td>\n",
       "      <td>Male</td>\n",
       "      <td>NaN</td>\n",
       "      <td>Metastatic</td>\n",
       "      <td>autonomic_ganglia</td>\n",
       "      <td>Academic lab</td>\n",
       "      <td>Bernstein (Icahn School of Medicine at Mount S...</td>\n",
       "      <td>NaN</td>\n",
       "      <td>NaN</td>\n",
       "      <td>Adherent</td>\n",
       "      <td>MF-005-005</td>\n",
       "      <td>IMDM + 20% FBS + 4mM Glutamine + 1x Insulin-Tr...</td>\n",
       "      <td>NaN</td>\n",
       "      <td>NaN</td>\n",
       "      <td>CHLA90_AUTONOMIC_GANGLIA</td>\n",
       "      <td>NaN</td>\n",
       "      <td>NaN</td>\n",
       "      <td>NaN</td>\n",
       "      <td>NaN</td>\n",
       "      <td>NaN</td>\n",
       "      <td>NaN</td>\n",
       "      <td>NaN</td>\n",
       "      <td>NaN</td>\n",
       "    </tr>\n",
       "    <tr>\n",
       "      <th>1448</th>\n",
       "      <td>ACH-001857</td>\n",
       "      <td>PT-Sv5Y9u</td>\n",
       "      <td>SG231</td>\n",
       "      <td>SG231</td>\n",
       "      <td>IHCH</td>\n",
       "      <td>Biliary Tract</td>\n",
       "      <td>Intraductal Papillary Neoplasm of the Bile Duct</td>\n",
       "      <td>Intrahepatic Cholangiocarcinoma</td>\n",
       "      <td>IHCH</td>\n",
       "      <td>NaN</td>\n",
       "      <td>NaN</td>\n",
       "      <td>CVCL_0519</td>\n",
       "      <td>42.000</td>\n",
       "      <td>Adult</td>\n",
       "      <td>Male</td>\n",
       "      <td>NaN</td>\n",
       "      <td>Primary</td>\n",
       "      <td>biliary_tract</td>\n",
       "      <td>Academic lab</td>\n",
       "      <td>Bardeesy (MGH)</td>\n",
       "      <td>NaN</td>\n",
       "      <td>NaN</td>\n",
       "      <td>Adherent</td>\n",
       "      <td>MF-001-001</td>\n",
       "      <td>RPMI + 10% FBS</td>\n",
       "      <td>NaN</td>\n",
       "      <td>NaN</td>\n",
       "      <td>SG231_BILIARY_TRACT</td>\n",
       "      <td>NaN</td>\n",
       "      <td>NaN</td>\n",
       "      <td>NaN</td>\n",
       "      <td>NaN</td>\n",
       "      <td>NaN</td>\n",
       "      <td>NaN</td>\n",
       "      <td>NaN</td>\n",
       "      <td>intrahepatic</td>\n",
       "    </tr>\n",
       "    <tr>\n",
       "      <th>1784</th>\n",
       "      <td>ACH-002363</td>\n",
       "      <td>PT-oKf5lW</td>\n",
       "      <td>NCIBL1395</td>\n",
       "      <td>NCIBL1395</td>\n",
       "      <td>ZMNOR</td>\n",
       "      <td>Normal</td>\n",
       "      <td>Non-Cancerous</td>\n",
       "      <td>Matched Normal</td>\n",
       "      <td>NaN</td>\n",
       "      <td>NaN</td>\n",
       "      <td>NaN</td>\n",
       "      <td>CVCL_2638</td>\n",
       "      <td>55.000</td>\n",
       "      <td>Adult</td>\n",
       "      <td>Female</td>\n",
       "      <td>caucasian</td>\n",
       "      <td>NaN</td>\n",
       "      <td>haematopoietic_and_lymphoid_tissue</td>\n",
       "      <td>Academic lab</td>\n",
       "      <td>Sanger</td>\n",
       "      <td>NaN</td>\n",
       "      <td>NaN</td>\n",
       "      <td>Suspension</td>\n",
       "      <td>NaN</td>\n",
       "      <td>NaN</td>\n",
       "      <td>NaN</td>\n",
       "      <td>NaN</td>\n",
       "      <td>NCIBL1395_MATCHED_NORMAL_TISSUE</td>\n",
       "      <td>NaN</td>\n",
       "      <td>NaN</td>\n",
       "      <td>NaN</td>\n",
       "      <td>NaN</td>\n",
       "      <td>NaN</td>\n",
       "      <td>SIDM00643</td>\n",
       "      <td>NaN</td>\n",
       "      <td>NaN</td>\n",
       "    </tr>\n",
       "  </tbody>\n",
       "</table>\n",
       "</div>"
      ],
      "text/plain": [
       "         ModelID  PatientID CellLineName StrippedCellLineName DepmapModelType            OncotreeLineage                           OncotreePrimaryDisease                  OncotreeSubtype OncotreeCode LegacyMolecularSubtype  PatientMolecularSubtype       RRID    Age AgeCategory     Sex PatientRace PrimaryOrMetastasis                SampleCollectionSite    SourceType                                       SourceDetail TreatmentStatus  TreatmentDetails GrowthPattern OnboardedMedia                                      FormulationID EngineeredModel  TissueOrigin                         CCLEName CatalogNumber  PlateCoating ModelDerivationMaterial PublicComments  WTSIMasterCellID SangerModelID  COSMICID LegacySubSubtype\n",
       "1258  ACH-001481  PT-GWiky5      CHLA-90               CHLA90             NBL  Peripheral Nervous System                                    Neuroblastoma                    Neuroblastoma          NBL                    NaN                      NaN  CVCL_6610  8.000   Pediatric    Male         NaN          Metastatic                   autonomic_ganglia  Academic lab  Bernstein (Icahn School of Medicine at Mount S...             NaN               NaN      Adherent     MF-005-005  IMDM + 20% FBS + 4mM Glutamine + 1x Insulin-Tr...             NaN           NaN         CHLA90_AUTONOMIC_GANGLIA           NaN           NaN                     NaN            NaN               NaN           NaN       NaN              NaN\n",
       "1448  ACH-001857  PT-Sv5Y9u        SG231                SG231            IHCH              Biliary Tract  Intraductal Papillary Neoplasm of the Bile Duct  Intrahepatic Cholangiocarcinoma         IHCH                    NaN                      NaN  CVCL_0519 42.000       Adult    Male         NaN             Primary                       biliary_tract  Academic lab                                     Bardeesy (MGH)             NaN               NaN      Adherent     MF-001-001                                     RPMI + 10% FBS             NaN           NaN              SG231_BILIARY_TRACT           NaN           NaN                     NaN            NaN               NaN           NaN       NaN     intrahepatic\n",
       "1784  ACH-002363  PT-oKf5lW    NCIBL1395            NCIBL1395           ZMNOR                     Normal                                    Non-Cancerous                   Matched Normal          NaN                    NaN                      NaN  CVCL_2638 55.000       Adult  Female   caucasian                 NaN  haematopoietic_and_lymphoid_tissue  Academic lab                                             Sanger             NaN               NaN    Suspension            NaN                                                NaN             NaN           NaN  NCIBL1395_MATCHED_NORMAL_TISSUE           NaN           NaN                     NaN            NaN               NaN     SIDM00643       NaN              NaN"
      ]
     },
     "execution_count": 14,
     "metadata": {},
     "output_type": "execute_result"
    }
   ],
   "source": [
    "meta_dfv2 = pd.read_csv(metadata_filev2, index_col=False, header=0, sep=',', quotechar='\"', skiprows=0, on_bad_lines = \"warn\")\n",
    "meta_dfv2.sample(3)"
   ]
  },
  {
   "cell_type": "code",
   "execution_count": 15,
   "id": "1774d99b-0fc3-41ba-a651-0f32ae99468a",
   "metadata": {},
   "outputs": [
    {
     "ename": "TypeError",
     "evalue": "read_csv() got an unexpected keyword argument 'error_bad_lines'",
     "output_type": "error",
     "traceback": [
      "\u001b[1;31m---------------------------------------------------------------------------\u001b[0m",
      "\u001b[1;31mTypeError\u001b[0m                                 Traceback (most recent call last)",
      "File \u001b[1;32m<timed exec>:1\u001b[0m\n",
      "\u001b[1;31mTypeError\u001b[0m: read_csv() got an unexpected keyword argument 'error_bad_lines'"
     ]
    }
   ],
   "source": [
    "%%time\n",
    "data_df = pd.read_csv(data_file , index_col=False, header=0, sep=',', quotechar='\"', skiprows=0, error_bad_lines=False)"
   ]
  },
  {
   "cell_type": "code",
   "execution_count": 16,
   "id": "87852464-3942-4714-8819-c1ec0c3805b6",
   "metadata": {},
   "outputs": [
    {
     "ename": "NameError",
     "evalue": "name 'data_df' is not defined",
     "output_type": "error",
     "traceback": [
      "\u001b[1;31m---------------------------------------------------------------------------\u001b[0m",
      "\u001b[1;31mNameError\u001b[0m                                 Traceback (most recent call last)",
      "Cell \u001b[1;32mIn[16], line 1\u001b[0m\n\u001b[1;32m----> 1\u001b[0m data_df\u001b[38;5;241m.\u001b[39mrename({\u001b[38;5;124m'\u001b[39m\u001b[38;5;124mUnnamed: 0\u001b[39m\u001b[38;5;124m'\u001b[39m:\u001b[38;5;124m'\u001b[39m\u001b[38;5;124mModelID\u001b[39m\u001b[38;5;124m'\u001b[39m},axis\u001b[38;5;241m=\u001b[39m\u001b[38;5;241m1\u001b[39m,inplace\u001b[38;5;241m=\u001b[39m\u001b[38;5;28;01mTrue\u001b[39;00m)\n",
      "\u001b[1;31mNameError\u001b[0m: name 'data_df' is not defined"
     ]
    }
   ],
   "source": [
    "data_df.rename({'Unnamed: 0':'ModelID'},axis=1,inplace=True)"
   ]
  },
  {
   "cell_type": "code",
   "execution_count": null,
   "id": "ced96586-1d1d-4656-98f2-eee9caff11dc",
   "metadata": {},
   "outputs": [],
   "source": [
    "data_df.sample(3)"
   ]
  },
  {
   "cell_type": "code",
   "execution_count": null,
   "id": "dffea5f5-d6ef-49c0-9b6c-59d1c6acdf27",
   "metadata": {},
   "outputs": [],
   "source": [
    "%%time\n",
    "transposed_df = data_df.transpose()\n",
    "transposed_df.reset_index(inplace=True)               # Reset index to make the row names a column\n",
    "transposed_df.columns = transposed_df.iloc[0]         # Set the first row as column names\n",
    "transposed_df = transposed_df[1:]                     # Drop the first row which is now the header\n",
    "transposed_df.reset_index(drop=True, inplace=True)    # Optionally, reset the index again if you want a clean index\n",
    "transposed_df.rename({'ModelID':'GeneSymbol'},axis=1,inplace=True)\n",
    "transposed_df['GeneSymbol'] = transposed_df['GeneSymbol'].str.split(' ').str[0]\n",
    "transposed_df.head(3)"
   ]
  },
  {
   "cell_type": "code",
   "execution_count": null,
   "id": "575fe155-a737-4a79-aa29-dec4fa2747d4",
   "metadata": {},
   "outputs": [],
   "source": [
    "filtered_df = transposed_df[transposed_df[\"GeneSymbol\"].isin(GenesOfInterest)]"
   ]
  },
  {
   "cell_type": "code",
   "execution_count": null,
   "id": "5ce7a576-f226-47d2-879a-dadecbeac45f",
   "metadata": {},
   "outputs": [],
   "source": [
    "filtered_df.head()"
   ]
  },
  {
   "cell_type": "code",
   "execution_count": null,
   "id": "357c873b-a95d-4ec0-b74a-f082375dc562",
   "metadata": {},
   "outputs": [],
   "source": [
    "exp_data_df = pd.melt(filtered_df, id_vars=['GeneSymbol'],var_name='ModelID',value_name='GeneExpression')\n",
    "exp_data_df.head()"
   ]
  },
  {
   "cell_type": "code",
   "execution_count": null,
   "id": "b61f2fd2-cca4-4ff2-9768-33378f626b00",
   "metadata": {},
   "outputs": [],
   "source": [
    "meta_df = meta_dfv1[['ModelID', 'CellLineName', 'StrippedCellLineName', 'DepmapModelType', 'OncotreeCode', 'PrimaryOrMetastasis']].copy()"
   ]
  },
  {
   "cell_type": "code",
   "execution_count": null,
   "id": "38789798-5181-4948-bd40-795fd08b0c43",
   "metadata": {},
   "outputs": [],
   "source": [
    "df = pd.merge(exp_data_df, meta_df, on='ModelID')\n",
    "order = ['ModelID', 'GeneSymbol', 'CellLineName', 'StrippedCellLineName', 'DepmapModelType', 'OncotreeCode', 'PrimaryOrMetastasis', 'GeneExpression']\n",
    "df    = df[order]\n",
    "df.sample()"
   ]
  },
  {
   "cell_type": "code",
   "execution_count": null,
   "id": "796031b7-ef80-4565-8cea-cc44f08f46d9",
   "metadata": {},
   "outputs": [],
   "source": [
    "%%time\n",
    "n = 1\n",
    "for gene in GenesOfInterest:\n",
    "    data = df[df['GeneSymbol'] == gene]\n",
    "    sample_counts = data.groupby(['GeneSymbol', 'OncotreeCode']).size().reset_index(name='SampleCount')\n",
    "    sample_counts = sample_counts.sort_values(by='SampleCount', ascending=False)\n",
    "    print(sample_counts)\n",
    "    if n > 0:\n",
    "        break"
   ]
  },
  {
   "cell_type": "code",
   "execution_count": null,
   "id": "91463b4b-92df-4f43-9fa2-01d04afa4ca0",
   "metadata": {},
   "outputs": [],
   "source": [
    "print(df['PrimaryOrMetastasis'].value_counts(dropna=False))"
   ]
  },
  {
   "cell_type": "code",
   "execution_count": null,
   "id": "7768a992-1dcf-402c-89b0-0a4304afd7ae",
   "metadata": {},
   "outputs": [],
   "source": [
    "df.sample(5)"
   ]
  },
  {
   "cell_type": "code",
   "execution_count": null,
   "id": "669e399f-3dbd-4908-9a91-0337f12df135",
   "metadata": {},
   "outputs": [],
   "source": [
    "%%time\n",
    "df_pivot = df.pivot(index='CellLineName', columns=['GeneSymbol'], values='GeneExpression')\n",
    "cols = ['CellLineName', 'DepmapModelType', 'OncotreeCode', 'PrimaryOrMetastasis']\n",
    "#df_merged = pd.merge(df_pivot, df[cols].drop_duplicates(), on='CellLineName')\n",
    "df_merged = pd.merge(df[cols].drop_duplicates(), df_pivot, on='CellLineName')\n",
    "df_merged.columns.name = None\n",
    "df_merged.sample(5)"
   ]
  },
  {
   "cell_type": "code",
   "execution_count": null,
   "id": "53d7542f-97cb-4ff4-8681-44e0630a8502",
   "metadata": {},
   "outputs": [],
   "source": [
    "filtered_df = df_merged[df_merged[\"OncotreeCode\"].isin(OncotreeCodesOfInterest)]\n",
    "filtered_df.sample()"
   ]
  },
  {
   "cell_type": "code",
   "execution_count": null,
   "id": "03c0c167-faab-429a-ab0d-d55ce39fd2fc",
   "metadata": {},
   "outputs": [],
   "source": [
    "OncotreeCodes = sorted(df_merged['OncotreeCode'].astype(str).unique().tolist());   print('\\033[32m', OncotreeCodes, '\\033[0m', '\\n')\n",
    "OncotreeCodes1 = sorted(filtered_df['OncotreeCode'].astype(str).unique().tolist()); print('\\033[31m', OncotreeCodes1, '\\033[0m')"
   ]
  },
  {
   "cell_type": "code",
   "execution_count": null,
   "id": "91e977e0-a07b-4e40-ba11-e8b2dee4bad5",
   "metadata": {},
   "outputs": [],
   "source": [
    "DepmapModelCodes = sorted(df_merged['DepmapModelType'].astype(str).unique().tolist()); print('\\033[32m', DepmapModelCodes, '\\033[0m', '\\n')\n",
    "DepmapModelCodes = sorted(filtered_df['DepmapModelType'].astype(str).unique().tolist()); print('\\033[31m',DepmapModelCodes, '\\033[0m')"
   ]
  },
  {
   "cell_type": "code",
   "execution_count": null,
   "id": "d472ca21-b8b1-4d6e-a7c8-5d85dd782819",
   "metadata": {},
   "outputs": [],
   "source": [
    "CellLinesOfInterest  = sorted(filtered_df['CellLineName'].astype(str).unique().tolist()); print('\\033[32m', CellLinesOfInterest, '\\033[0m', '\\n')\n",
    "CellLinesOfInterest = CellLines ; print('\\033[31m', CellLinesOfInterest, '\\033[0m')"
   ]
  },
  {
   "cell_type": "code",
   "execution_count": null,
   "id": "78193e10-eeab-4d69-ac07-536d1dea2171",
   "metadata": {},
   "outputs": [],
   "source": [
    "df_merged['PrimaryOrMetastasis'] = df_merged['PrimaryOrMetastasis'].fillna('Unknown')\n",
    "Primary_Metastasis = sorted(df_merged['PrimaryOrMetastasis'].astype(str).unique().tolist()); print('\\033[31m',Primary_Metastasis, '\\033[0m')"
   ]
  },
  {
   "cell_type": "code",
   "execution_count": null,
   "id": "cf2e9062-df48-4bc3-9a88-b8eb3cab6d0b",
   "metadata": {},
   "outputs": [],
   "source": [
    "unique_values = df_merged['PrimaryOrMetastasis'].unique(); print(unique_values)\n",
    "palette = sns.color_palette(\"hsv\", len(unique_values))"
   ]
  },
  {
   "cell_type": "code",
   "execution_count": null,
   "id": "b425dfea-7505-4472-8a8e-841922761914",
   "metadata": {},
   "outputs": [],
   "source": [
    "genes = sorted(df['GeneSymbol'].astype(str).unique().tolist()); print('\\033[33m', genes, '\\033[0m')"
   ]
  },
  {
   "cell_type": "code",
   "execution_count": null,
   "id": "ec5e1aab-7f82-49a0-8d62-d9c578081c81",
   "metadata": {},
   "outputs": [],
   "source": [
    "hue_order = [\"Primary\", \"Metastasis\"]"
   ]
  },
  {
   "cell_type": "code",
   "execution_count": null,
   "id": "a0385e6e-ce38-4850-bd79-88996eb7d243",
   "metadata": {},
   "outputs": [],
   "source": [
    "palette = {\n",
    "    'Primary':    '#1f77b4',  # blue\n",
    "    'Metastatic': '#ff7f0e',  # orange\n",
    "    'Unknown':    '#2ca02c',  # green (for example, if needed)\n",
    "}"
   ]
  },
  {
   "cell_type": "code",
   "execution_count": null,
   "id": "383b6fab-64b6-49d7-8790-fefed6d670f8",
   "metadata": {},
   "outputs": [],
   "source": [
    "hex_color_01 = \"#7E7E7E\"  # For example, you can choose any hex color\n",
    "hex_color_02 = \"#FF0000\"\n",
    "#          -          -          -          -          -          -\n",
    "palette   = {code:hex_color_01 for code in OncotreeCodes}\n",
    "#          -          -          -          -          -          -\n",
    "for key in OncotreeCodesOfInterest:\n",
    "    print(key)\n",
    "    palette[key] = hex_color_02"
   ]
  },
  {
   "cell_type": "code",
   "execution_count": null,
   "id": "7dc29beb-fb56-44fb-900a-85702b797382",
   "metadata": {},
   "outputs": [],
   "source": [
    "print"
   ]
  },
  {
   "cell_type": "code",
   "execution_count": null,
   "id": "adbcc594-7dad-4090-8c4a-da1b3501cbb8",
   "metadata": {},
   "outputs": [],
   "source": [
    "data = df_merged\n",
    "scatter_kws = {'s':6, 'alpha':0.25, 'linewidth':0.2, 'edgecolor':'#1E1E1E', 'palette':palette}\n",
    "kws1 = {'s':25, 'alpha':0.25, 'linewidth':0.5,'edgecolor':'#1E1E1E', 'palette':palette}\n",
    "line_kas= {'color': 'red', 'alpha':0.25, 'lw':1};"
   ]
  },
  {
   "cell_type": "code",
   "execution_count": null,
   "id": "83d56331-e209-44c2-9609-a49f4377014a",
   "metadata": {},
   "outputs": [],
   "source": [
    "for i in range(len(genes)):\n",
    "    for j in range(i + 1, len(genes)):\n",
    "        #          -          -          -          -          -          -          -          -          -          -          -          -\n",
    "        figsize=(12/2.54, 12/2.54)\n",
    "        a = genes[i]; b = genes[j]; print(a, b)\n",
    "        #          -          -          -          -          -          -          -          -          -          -          -          -\n",
    "        fig, ax = plt.subplots(figsize=figsize, dpi=300)\n",
    "        plt.subplots_adjust(wspace=.1, hspace=.1); #plt.axis('off')\n",
    "        ax = sns.scatterplot(data=data, x=data[a], y=data[b], hue='OncotreeCode', **scatter_kws)\n",
    "        #                    -          -          -          -          -          -          -          -          -          -          -          -          -          -  \n",
    "        ax.set_title(f\"{a} vs. {b}\", fontsize=10, color=\"#7E7E7E\", pad=8) \n",
    "        axlabelkws = {'fontsize':8, 'color':'#7E7E7E', 'alpha':0.8, 'labelpad':4}\n",
    "        plt.xlabel(a, **axlabelkws); plt.ylabel(b, **axlabelkws)\n",
    "        #          -          -          -          -          -          -          -          -          -          -          -          -          -          -   \n",
    "        for spine in ['top', 'right']:\n",
    "            ax.spines[spine].set_visible(False)\n",
    "        for spine in ['left', 'bottom']:\n",
    "            ax.spines[spine].set_color('#7E7E7E'); ax.spines[spine].set_alpha(0.3);\n",
    "            ax.spines[spine].set_linewidth(0.5)\n",
    "        #          -          -          -          -          -          -          -          -          -          -          -          -          -          -        \n",
    "        data2 = data.copy()\n",
    "        types = data2.reset_index()['CellLineName'].values; types=types[:5]; #print(types)\n",
    "        x = data2[a].values; y = data2[b].values; types = CellLinesOfInterest\n",
    "        for e, txt in enumerate(types):\n",
    "            #print(e); print(txt)\n",
    "            ax.annotate(txt, (x[e], y[e]), xytext=figsize, textcoords='offset pixels', fontsize=3, weight=500, color=\"#000000\",)\n",
    "        #          -          -          -          -          -          -          -          -          -          -          -          -          -          -        \n",
    "        plt.xlim(-1,14); plt.ylim(-1,14);\n",
    "        ax.tick_params(axis=\"x\", colors=\"#cfcfcf\", pad=2, length=1);      ax.tick_params(axis=\"y\", which='major', colors=\"#cfcfcf\", pad=5, length=1)\n",
    "        plt.xticks(fontsize=6, color=\"#7E7E7E\", rotation=0, ha=\"center\"); plt.yticks(fontsize=6, color=\"#7E7E7E\", rotation=0, ha=\"center\"); \n",
    "        #          -          -          -          -          -          -          -          -          -          -          -          -          -          -   \n",
    "        kws_lines = {\"ls\":\"--\", \"alpha\":0.5, \"linewidth\":0.1}\n",
    "        plt.axvline(x=0.584, color=\"g\", **kws_lines); plt.axvline(x=1.32, color=\"orange\", **kws_lines); plt.axvline(x=10, color=\"red\", **kws_lines)\n",
    "        plt.axhline(y=0.584, color=\"g\", **kws_lines); plt.axhline(y=1.32, color=\"orange\", **kws_lines); plt.axhline(y=10, color=\"red\", **kws_lines)\n",
    "        #          -          -          -          -          -          -          -          -          -          -          -          -          -          - \n",
    "        handles, labels = ax.get_legend_handles_labels()\n",
    "        plt.legend(handles[0:2],labels[0:2], frameon=False, fontsize=10, bbox_to_anchor=(0.1,0.1), loc=0, borderaxespad=0.1, facecolor=\"white\", edgecolor=\"#f6f6f6\",)\n",
    "        plt.legend([],[])\n",
    "        plt.tight_layout()\n",
    "        plt.show(); plt.close()"
   ]
  },
  {
   "cell_type": "code",
   "execution_count": null,
   "id": "fb4a6bc1-a63d-462b-a656-40a198b1aac7",
   "metadata": {},
   "outputs": [],
   "source": [
    "data = filtered_df"
   ]
  },
  {
   "cell_type": "code",
   "execution_count": null,
   "id": "4d0dc4f2-8e12-42a6-a35c-a39c93d6b8ce",
   "metadata": {},
   "outputs": [],
   "source": [
    "for i in range(len(genes)):\n",
    "    for j in range(i + 1, len(genes)):\n",
    "        #          -          -          -          -          -          -          -          -          -          -          -          -\n",
    "        figsize=(12/2.54, 12/2.54)\n",
    "        a = genes[i]; b = genes[j]; print(a, b)\n",
    "        #          -          -          -          -          -          -          -          -          -          -          -          -\n",
    "        fig, ax = plt.subplots(figsize=figsize, dpi=300)\n",
    "        plt.subplots_adjust(wspace=.1, hspace=.1); plt.axis('off')\n",
    "        ax = sns.scatterplot(data=data, x=data[a], y=data[b], hue='OncotreeCode', **scatter_kws)\n",
    "\n",
    "        #                    -          -          -          -          -          -          -          -          -          -          -          -          -          -  \n",
    "        ax.set_title(f\"{a} vs. {b}\", fontsize=10, color=\"#7E7E7E\", pad=8) \n",
    "        axlabelkws = {'fontsize':8, 'color':'#7E7E7E', 'alpha':0.8, 'labelpad':6}\n",
    "        plt.xlabel(\"index\", **axlabelkws); plt.ylabel(\"Correlation\", **axlabelkws)\n",
    "        #          -          -          -          -          -          -          -          -          -          -          -          -          -          -   \n",
    "        for spine in ['top', 'right']:\n",
    "            ax.spines[spine].set_visible(False)\n",
    "        for spine in ['left', 'bottom']:\n",
    "            ax.spines[spine].set_color('#7E7E7E'); ax.spines[spine].set_alpha(0.3);\n",
    "            ax.spines[spine].set_linewidth(0.5)\n",
    "        #          -          -          -          -          -          -          -          -          -          -          -          -          -          -        \n",
    "        data2 = data.copy()\n",
    "        types = data2.reset_index()['CellLineName'].values; types=types[:5]; #print(types)\n",
    "        x = data2[a].values; y = data2[b].values; types = CellLinesOfInterest\n",
    "        for e, txt in enumerate(types):\n",
    "            #print(e); print(txt)\n",
    "            ax.annotate(txt, (x[e], y[e]), xytext=figsize, textcoords='offset pixels', fontsize=4, weight=400, color=\"#7E7E7E\",)\n",
    "        #          -          -          -          -          -          -          -          -          -          -          -          -          -          -        \n",
    "        ax.tick_params(axis=\"x\", colors=\"#cfcfcf\", pad=2, length=1);      ax.tick_params(axis=\"y\", which='major', colors=\"#cfcfcf\", pad=5, length=3)\n",
    "        plt.xticks(fontsize=6, color=\"#7E7E7E\", rotation=0, ha=\"center\"); plt.yticks(fontsize=6, color=\"#7E7E7E\", rotation=0, ha=\"center\"); \n",
    "        #          -          -          -          -          -          -          -          -          -          -          -          -          -          -   \n",
    "        handles, labels = ax.get_legend_handles_labels()\n",
    "        plt.legend(handles[0:2],labels[0:2], frameon=False, fontsize=10, bbox_to_anchor=(0.1,0.1), loc=0, borderaxespad=0.1)\n",
    "        plt.legend(fontsize=8, bbox_to_anchor=(0.95,0.95), loc=0, borderaxespad=0.1, facecolor=\"white\", edgecolor=\"#f6f6f6\", frameon=True)\n",
    "        plt.legend([],[])\n",
    "        plt.tight_layout()\n",
    "        plt.show(); plt.close()"
   ]
  },
  {
   "cell_type": "code",
   "execution_count": null,
   "id": "b2bfc8e5-ad8b-457b-a3f6-a61a7fa5ca50",
   "metadata": {},
   "outputs": [],
   "source": [
    "print(\"'BQ_ISB.CGC_TCGA_GeneExprCorrelation_v01' script run time:\", f'{time.time()-start:.0f}', \"seconds.\")"
   ]
  },
  {
   "cell_type": "code",
   "execution_count": null,
   "id": "de4aad99-6e5e-482d-b4e9-d76fdcd6f5cf",
   "metadata": {},
   "outputs": [],
   "source": []
  },
  {
   "cell_type": "code",
   "execution_count": null,
   "id": "f29cd63a-0951-43f1-b0d3-cbc42b4ef618",
   "metadata": {},
   "outputs": [],
   "source": []
  },
  {
   "cell_type": "code",
   "execution_count": null,
   "id": "b8536874-d9b5-41de-92c1-52d32d3a4da1",
   "metadata": {},
   "outputs": [],
   "source": []
  },
  {
   "cell_type": "code",
   "execution_count": null,
   "id": "b947424c-b631-40dd-a009-807bffaa6c41",
   "metadata": {},
   "outputs": [],
   "source": []
  },
  {
   "cell_type": "code",
   "execution_count": null,
   "id": "08e3245a-39e4-407d-a538-46463cb257b6",
   "metadata": {},
   "outputs": [],
   "source": []
  },
  {
   "cell_type": "code",
   "execution_count": null,
   "id": "eb85a2bb-bb3a-4f21-aff6-99e2ba481b08",
   "metadata": {},
   "outputs": [],
   "source": []
  },
  {
   "cell_type": "code",
   "execution_count": null,
   "id": "bc748ead-47c5-476a-88fb-b45bb87e978b",
   "metadata": {},
   "outputs": [],
   "source": [
    "iuhiuh"
   ]
  },
  {
   "cell_type": "code",
   "execution_count": null,
   "id": "73421a0f-7e90-4563-9b90-db4bb99cf84f",
   "metadata": {},
   "outputs": [],
   "source": [
    "for i in range(len(genes)):\n",
    "    for j in range(i + 1, len(genes)):\n",
    "        #          -          -          -          -          -          -          -          -          -          -          -          -\n",
    "        figsize=(12/2.54, 12/2.54)\n",
    "        a = genes[i]; b = genes[j]; #print(a, b); \n",
    "        fig, ax = plt.subplots(figsize=figsize, dpi=300)\n",
    "        plt.subplots_adjust(wspace=.1, hspace=.1); plt.axis('off')\n",
    "        ax = sns.scatterplot(data=data, x=data[a], y=data[b], hue='PrimaryOrMetastasis', **scatter_kws)\n",
    "\n",
    "        #                    -          -          -          -          -          -          -          -          -          -          -          -          -          -  \n",
    "        ax.set_title(f\"{a} vs. {b}\", fontsize=10, color=\"#7E7E7E\", pad=8) \n",
    "        axlabelkws = {'fontsize':8, 'color':'#7E7E7E', 'alpha':0.8, 'labelpad':6}\n",
    "        plt.xlabel(\"index\", **axlabelkws); plt.ylabel(\"Correlation\", **axlabelkws)\n",
    "        #          -          -          -          -          -          -          -          -          -          -          -          -          -          -   \n",
    "        for spine in ['top', 'right']:\n",
    "            ax.spines[spine].set_visible(False)\n",
    "        for spine in ['left', 'bottom']:\n",
    "            ax.spines[spine].set_color('#7E7E7E'); ax.spines[spine].set_alpha(0.3);\n",
    "            ax.spines[spine].set_linewidth(0.5)\n",
    "        #          -          -          -          -          -          -          -          -          -          -          -          -          -          -        \n",
    "        data2 = data.copy()\n",
    "        types = data2.reset_index()['CellLineName'].values; types=types[:5]; #print(types)\n",
    "        x = data2[a].values; y = data2[b].values\n",
    "        for i, txt in enumerate(types):\n",
    "            #print(i); print(txt)\n",
    "            ax.annotate(txt, (x[i], y[i]), xytext=figsize, textcoords='offset pixels', fontsize=6, weight=400, color=\"#7E7E7E\",)\n",
    "        #          -          -          -          -          -          -          -          -          -          -          -          -          -          -        \n",
    "        ax.tick_params(axis=\"x\", colors=\"#cfcfcf\", pad=2, length=1);      ax.tick_params(axis=\"y\", which='major', colors=\"#cfcfcf\", pad=5, length=3)\n",
    "        plt.xticks(fontsize=6, color=\"#7E7E7E\", rotation=0, ha=\"center\"); plt.yticks(fontsize=6, color=\"#7E7E7E\", rotation=0, ha=\"center\"); \n",
    "        #          -          -          -          -          -          -          -          -          -          -          -          -          -          -   \n",
    "        handles, labels = ax.get_legend_handles_labels()\n",
    "        plt.legend(handles[0:2],labels[0:2], frameon=False, fontsize=10, bbox_to_anchor=(0.1,0.1), loc=0, borderaxespad=0.1)\n",
    "        plt.legend(fontsize=8, bbox_to_anchor=(0.95,0.95), loc=0, borderaxespad=0.1, facecolor=\"white\", edgecolor=\"#f6f6f6\", frameon=True)\n",
    "\n",
    "        plt.tight_layout()\n",
    "        plt.show(); plt.close()"
   ]
  },
  {
   "cell_type": "code",
   "execution_count": null,
   "id": "e964b285-e3da-48e9-8d7b-fb6ab5313bf8",
   "metadata": {},
   "outputs": [],
   "source": [
    "%%time\n",
    "for gene in GenesOfInterest:\n",
    "    fig, ax = plt.subplots(figsize=(12, 6)); plt.subplots_adjust(wspace=0.02, hspace=0.01)\n",
    "    sns.plotting_context(\"notebook\", font_scale = 2)\n",
    "    #        -         -        -        -         -        -         -        -        -         -        -        -         -    \n",
    "    data = df[df['GeneSymbol'] == gene]\n",
    "    sns.stripplot(data=data, x='OncotreeCode', y='GeneExpression')"
   ]
  },
  {
   "cell_type": "code",
   "execution_count": null,
   "id": "a4127d04-9202-47bb-85ab-4a23a7226732",
   "metadata": {},
   "outputs": [],
   "source": [
    "%%time\n",
    "for gene in GenesOfInterest:\n",
    "    fig, ax = plt.subplots(figsize=(12, 6)); plt.subplots_adjust(wspace=0.02, hspace=0.01)\n",
    "    sns.plotting_context(\"notebook\", font_scale = 2)\n",
    "    #        -         -        -        -         -        -         -        -        -         -        -        -         -    \n",
    "    data = df[df['GeneSymbol'] == gene]\n",
    "\n",
    "    median_df = data.groupby(['OncotreeCode'])['GeneExpression'].median().sort_values(ascending=False).reset_index()\n",
    "    order = median_df.OncotreeCode.tolist()\n",
    "\n",
    "\n",
    "    \n",
    "    data=data; x=\"OncotreeCode\"; y = \"GeneExpression\"; hue='PrimaryOrMetastasis'\n",
    "    \n",
    "    str_kws = {'s':6, 'jitter':.25, 'alpha':0.5, 'dodge':True, 'linewidth':0.2,'edgecolor':'#1E1E1E','palette':palette,\n",
    "               'order':order, 'hue':hue}\n",
    "    plt.gca().set_yscale('symlog'); plt.ylim(-0.2, 1E8) \n",
    "    g = sns.stripplot(data=data, x=x, y=y, zorder=0, **str_kws, ax=ax)"
   ]
  },
  {
   "cell_type": "code",
   "execution_count": null,
   "id": "21adeb97-d288-4836-a93f-f61932edcb36",
   "metadata": {},
   "outputs": [],
   "source": [
    "%%time\n",
    "for gene in GenesOfInterest:\n",
    "    fig, ax = plt.subplots(figsize=(12, 6)); plt.subplots_adjust(wspace=0.02, hspace=0.01)\n",
    "    sns.plotting_context(\"notebook\", font_scale = 2)\n",
    "    #        -         -        -        -         -        -         -        -        -         -        -        -         -    \n",
    "    data = df[df['GeneSymbol'] == gene]\n",
    "    #data.dropna(subset=['GeneExpression'], inplace=True)\n",
    "    #        -         -        -        -         -        -         -        -        -         -        -        -         -\n",
    "    #        -         -        -        -         -        -         -        -        -         -        -        -         -\n",
    "    median_df = data.groupby(['OncotreeCode'])['GeneExpression'].median().sort_values(ascending=False).reset_index()\n",
    "    order = median_df.OncotreeCode.tolist()\n",
    "    #        -         -        -        -         -        -         -        -        -         -        -        -         -\n",
    "    data=data; x=\"OncotreeCode\"; y = \"GeneExpression\"; hue='PrimaryOrMetastasis'; hue_order=hue_order\n",
    "    #        -         -        -        -         -        -         -        -        -         -        -        -         -   \n",
    "    #annot_kws1 = {'pairs':pairs, 'data':data, 'x':x, 'y':y, 'order':order, 'hue':hue, 'hue_order':hue_order}\n",
    "    #annot_params = {\"test\":\"Mann-Whitney\", \"line_width\":1, \"color\":\"#7E7E7E\", \"text_format\":\"star\", 'loc':'inside'}\n",
    "    #        -         -        -        -         -        -         -        -        -         -        -        -         -   \n",
    "    str_kws = {'s':6, 'jitter':.25, 'alpha':0.5, 'dodge':True, 'linewidth':0.2,'edgecolor':'#1E1E1E','palette':palette,\n",
    "               'order':order, 'hue':hue, 'hue_order':hue_order}\n",
    "    box_kws = {'linewidth':0.5, 'width':0.75, 'dodge':True, 'showcaps':True, 'whis':1.5, 'fliersize':0, 'saturation':0.20, \n",
    "               'order':order, 'hue_order':hue_order}\n",
    "    mprops=dict(linestyle='-', linewidth=1, color=\"firebrick\", alpha=0.5); cprops=dict(linestyle=\"-\", alpha=.5, linewidth=.3);\n",
    "    bprops=dict(linestyle=\"-\", alpha=.3, linewidth=.3); wprops=dict(linestyle=\"--\", linewidth=.3, color=\"#7E7E7E\");\n",
    "    #        -         -        -        -         -        -         -        -        -         -        -        -         -   \n",
    "    plt.gca().set_yscale('symlog'); plt.ylim(-0.2, 1E8) \n",
    "    g = sns.stripplot(data=data, x=x, y=y, zorder=0, **str_kws, ax=ax)   \n",
    "    g = sns.boxplot(data=data,x=x, y=y, hue=hue, medianprops=mprops, capprops=cprops, boxprops=bprops, whiskerprops=wprops, **box_kws, zorder=1, ax=ax)    \n",
    "    #        -         -        -        -         -        -         -        -        -         -        -        -         -   \n",
    "    #annot_kws1 = {'pairs':pairs, 'data':data, 'x':x, 'y':y, 'order':order, 'hue':hue, 'hue_order':hue_order}\n",
    "    #annot_params = {\"test\":\"Mann-Whitney\", \"line_width\":1, \"color\":\"#7E7E7E\", \"text_format\":\"star\", 'loc':'inside'}\n",
    "    #        -         -        -        -         -        -         -        -        -         -        -        -         -   \n",
    "    str_kws = {'s':6, 'jitter':.25, 'alpha':0.5, 'dodge':True, 'linewidth':0.2,'edgecolor':'#1E1E1E','palette':palette,\n",
    "               'order':order, 'hue':hue, 'hue_order':hue_order}\n",
    "    box_kws = {'linewidth':0.5, 'width':0.75, 'dodge':True, 'showcaps':True, 'whis':1.5, 'fliersize':0, 'saturation':0.20, \n",
    "               'order':order, 'hue_order':hue_order}\n",
    "    mprops=dict(linestyle='-', linewidth=1, color=\"firebrick\", alpha=0.5); cprops=dict(linestyle=\"-\", alpha=.5, linewidth=.3);\n",
    "    bprops=dict(linestyle=\"-\", alpha=.3, linewidth=.3); wprops=dict(linestyle=\"--\", linewidth=.3, color=\"#7E7E7E\");\n",
    "    #        -         -        -        -         -        -         -        -        -         -        -        -         -   "
   ]
  },
  {
   "cell_type": "code",
   "execution_count": null,
   "id": "c3acfb29-72f9-49b8-915b-10a3fba2b7ef",
   "metadata": {},
   "outputs": [],
   "source": []
  },
  {
   "cell_type": "code",
   "execution_count": null,
   "id": "4616847e-26a0-4b2b-bd29-97c2c388f98a",
   "metadata": {},
   "outputs": [],
   "source": []
  },
  {
   "cell_type": "code",
   "execution_count": null,
   "id": "ffdb7d36-d95a-4dad-9e30-2f5d7f3ad76e",
   "metadata": {},
   "outputs": [],
   "source": []
  }
 ],
 "metadata": {
  "kernelspec": {
   "display_name": "virtualENV",
   "language": "python",
   "name": "virtualenv"
  },
  "language_info": {
   "codemirror_mode": {
    "name": "ipython",
    "version": 3
   },
   "file_extension": ".py",
   "mimetype": "text/x-python",
   "name": "python",
   "nbconvert_exporter": "python",
   "pygments_lexer": "ipython3",
   "version": "3.11.9"
  }
 },
 "nbformat": 4,
 "nbformat_minor": 5
}
