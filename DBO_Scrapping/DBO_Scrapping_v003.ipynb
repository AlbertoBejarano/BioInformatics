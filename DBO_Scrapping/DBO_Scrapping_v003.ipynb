{
 "cells": [
  {
   "cell_type": "code",
   "execution_count": 1,
   "id": "6de74250-a562-473d-a66a-812e0b86dad7",
   "metadata": {},
   "outputs": [],
   "source": [
    "# https://go.drugbank.com/drugs/DB00916"
   ]
  },
  {
   "cell_type": "code",
   "execution_count": 2,
   "id": "614cef8a-9631-480b-ac34-5ecc41b0c6e2",
   "metadata": {},
   "outputs": [],
   "source": [
    "import time; start = time.time()"
   ]
  },
  {
   "cell_type": "code",
   "execution_count": 3,
   "id": "2ba4d928-4ebc-41e5-9e97-9cac7a814a97",
   "metadata": {},
   "outputs": [],
   "source": [
    "import warnings; warnings.filterwarnings(\"ignore\") \n",
    "warnings.filterwarnings(\"ignore\", category=FutureWarning)\n",
    "warnings.filterwarnings(\"ignore\", category=RuntimeWarning)"
   ]
  },
  {
   "cell_type": "code",
   "execution_count": 4,
   "id": "aefd4c0d-d1bd-4495-84fb-7b5c22bc90e0",
   "metadata": {},
   "outputs": [],
   "source": [
    "from bs4 import BeautifulSoup\n",
    "from random import randint\n",
    "from time import sleep\n",
    "from tqdm import tqdm\n",
    "import pandas as pd\n",
    "import requests"
   ]
  },
  {
   "cell_type": "code",
   "execution_count": 5,
   "id": "801b4fe5-26b9-46b8-bad2-91c19355e1c9",
   "metadata": {},
   "outputs": [],
   "source": [
    "def get_dl(soup):\n",
    "    keys, values = [], []\n",
    "    for dl in soup.findAll(\"dl\"):\n",
    "        for dt in dl.findAll(\"dt\"):\n",
    "            keys.append(dt.text.strip())\n",
    "        for dd in dl.findAll(\"dd\"):\n",
    "            values.append(dd.text.strip())\n",
    "    return dict(zip(keys, values))"
   ]
  },
  {
   "cell_type": "code",
   "execution_count": 6,
   "id": "c5a8b129-ae64-44cf-98e9-204604a87e53",
   "metadata": {},
   "outputs": [],
   "source": [
    "cols = ['DrugBank Accession Number', 'InChI Key', 'Generic Name', 'Synonyms', 'Type',\n",
    "        'Groups', 'Summary',  'Mechanism of action']\n",
    "df0 = pd.DataFrame()"
   ]
  },
  {
   "cell_type": "code",
   "execution_count": 7,
   "id": "ac8edd1f-8274-4f38-99cc-77b6b75b0cd7",
   "metadata": {},
   "outputs": [
    {
     "name": "stderr",
     "output_type": "stream",
     "text": [
      "100%|██████████| 999/999 [1:01:22<00:00,  3.69s/it]\n"
     ]
    }
   ],
   "source": [
    "for i in tqdm(range(1,1000)):\n",
    "#     -     -     -     -     -     -     -     -     -     -     -     -     -\n",
    "    string = str(i).zfill(5); sleep(randint(1,5))\n",
    "    DrugBankAccession = str(\"DB\") + string\n",
    "    source_url = \"https://go.drugbank.com/drugs/\" + DrugBankAccession\n",
    "    r = requests.get(source_url); soup = BeautifulSoup(r.text, features='html.parser')\n",
    "#     -     -     -     -     -     -     -     -     -     -     -     -     -\n",
    "    dl_dict = get_dl(soup); #print(dl_dict, \"\\n\")\n",
    "    df = pd.DataFrame([dl_dict]); #col_list = df.columns.tolist(); print(col_list)\n",
    "    df0 = df0.append(pd.DataFrame(df, columns=cols))"
   ]
  },
  {
   "cell_type": "code",
   "execution_count": 10,
   "id": "55194ec9-38d7-4d5b-b6f7-90576ac1e271",
   "metadata": {},
   "outputs": [],
   "source": [
    "df0.dropna(how='all', inplace=True)"
   ]
  },
  {
   "cell_type": "code",
   "execution_count": 11,
   "id": "c033e74d-b898-4492-bef4-42f9e7729916",
   "metadata": {},
   "outputs": [],
   "source": [
    "df0.to_csv('./data/OutputData.csv',sep='\\t', index=False, encoding='utf-8')"
   ]
  },
  {
   "cell_type": "code",
   "execution_count": 9,
   "id": "d3008595-a672-4547-af8b-b97b4dadf039",
   "metadata": {},
   "outputs": [
    {
     "name": "stdout",
     "output_type": "stream",
     "text": [
      "'DBO_Scrapping_v003' script run time: 3683 seconds.\n"
     ]
    }
   ],
   "source": [
    "print(\"'DBO_Scrapping_v003' script run time:\", f'{time.time()-start:.0f}', \"seconds.\")"
   ]
  }
 ],
 "metadata": {
  "kernelspec": {
   "display_name": "Python 3 (ipykernel)",
   "language": "python",
   "name": "python3"
  },
  "language_info": {
   "codemirror_mode": {
    "name": "ipython",
    "version": 3
   },
   "file_extension": ".py",
   "mimetype": "text/x-python",
   "name": "python",
   "nbconvert_exporter": "python",
   "pygments_lexer": "ipython3",
   "version": "3.9.7"
  }
 },
 "nbformat": 4,
 "nbformat_minor": 5
}
