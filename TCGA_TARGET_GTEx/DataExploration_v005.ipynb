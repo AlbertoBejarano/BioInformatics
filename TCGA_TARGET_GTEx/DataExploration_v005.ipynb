{
 "cells": [
  {
   "cell_type": "code",
   "execution_count": null,
   "id": "005875ff-15c4-4441-8e87-20669d5239f4",
   "metadata": {},
   "outputs": [],
   "source": [
    "# A combined cohort of TCGA, TARGET and GTEx samples              # Unifying cancer and normal RNA sequencing data from different sources\n",
    "# https://xenabrowser.net/datapages/?cohort=TCGA%20TARGET%20GTEx  # https://www.nature.com/articles/sdata201861"
   ]
  },
  {
   "cell_type": "code",
   "execution_count": null,
   "id": "a68bdb24-7660-45ad-bdda-4f914987406f",
   "metadata": {},
   "outputs": [],
   "source": [
    "import time; start = time.time()"
   ]
  },
  {
   "cell_type": "code",
   "execution_count": null,
   "id": "ab625323-725d-4f79-b263-d104e577b078",
   "metadata": {},
   "outputs": [],
   "source": [
    "%matplotlib inline\n",
    "%config InlineBackend.figure_format = 'retina'"
   ]
  },
  {
   "cell_type": "code",
   "execution_count": null,
   "id": "3cc07b51-d492-4da4-a6d6-f4cc2d4516c8",
   "metadata": {
    "tags": []
   },
   "outputs": [],
   "source": [
    "import warnings; warnings.filterwarnings(\"ignore\") \n",
    "from tqdm import tqdm\n",
    "import pandas as pd\n",
    "import scipy.stats"
   ]
  },
  {
   "cell_type": "code",
   "execution_count": null,
   "id": "1e4c6165-d881-46cb-b3ac-94aba3781b12",
   "metadata": {},
   "outputs": [],
   "source": [
    "genes_link      = \"https://www.genenames.org/cgi-bin/download/custom?col=gd_app_sym&col=md_ensembl_id&status=Approved&status=Entry%20Withdrawn&hgnc_dbtag=on&order_by=gd_app_sym_sort&format=text&submit=submit\"\n",
    "phenotype_link  = \"https://toil-xena-hub.s3.us-east-1.amazonaws.com/download/TcgaTargetGTEX_phenotype.txt.gz\"\n",
    "#metadata_link    = \"https://toil-xena-hub.s3.us-east-1.amazonaws.com/download/TcgaTargetGtex_expected_count.json\"\n",
    "#data_link       = \"https://toil-xena-hub.s3.us-east-1.amazonaws.com/download/TcgaTargetGtex_expected_count.gz\"\n",
    "data_link       = \"https://toil-xena-hub.s3.us-east-1.amazonaws.com/download/TcgaTargetGtex_rsem_gene_tpm.gz\"\n",
    "#data_link       = \"./data/TcgaTargetGtex_rsem_gene_tpm.gz\""
   ]
  },
  {
   "cell_type": "code",
   "execution_count": null,
   "id": "4a65df49-bf42-49af-a7e7-b2d79982f3a4",
   "metadata": {},
   "outputs": [],
   "source": [
    "#metadata = pd.read_csv(metadata_link, compression=\"gzip\", header=0, sep=\"\\t\", quotechar='\"', error_bad_lines=False)\n",
    "genes_df  = pd.read_csv(genes_link, header=0, sep=\"\\t\", quotechar='\"', error_bad_lines=False, encoding=\"latin-1\")\n",
    "phenotype = pd.read_csv(phenotype_link, compression=\"gzip\", header=0, sep=\"\\t\", quotechar='\"', error_bad_lines=False, encoding=\"latin-1\")"
   ]
  },
  {
   "cell_type": "code",
   "execution_count": null,
   "id": "bd932385-b243-4352-bfb4-29b39a080dd6",
   "metadata": {},
   "outputs": [],
   "source": [
    "columns={\"Ensembl ID(supplied by Ensembl)\":\"EnsemblGeneID\",\"Approved symbol\":\"GeneSymbol\"}\n",
    "genes_df.rename(columns=columns, inplace=True)\n",
    "print(len(genes_df)); genes_df.sample(2)"
   ]
  },
  {
   "cell_type": "code",
   "execution_count": null,
   "id": "ab8268c6-635c-41c7-ac17-7c24cda9b7df",
   "metadata": {},
   "outputs": [],
   "source": [
    "# print(len(phenotype)); phenotype.sample(3)"
   ]
  },
  {
   "cell_type": "code",
   "execution_count": null,
   "id": "80352e1e-3233-4507-8d43-7a852c77e562",
   "metadata": {},
   "outputs": [],
   "source": [
    "phenotype.columns.tolist()"
   ]
  },
  {
   "cell_type": "code",
   "execution_count": null,
   "id": "c9f95a53-7e67-4d4f-9d23-1e5106d44e42",
   "metadata": {},
   "outputs": [],
   "source": [
    "columns={\"sample\":\"SampleID\", \"detailed_category\":\"DetailedCategory\",\"_primary_site\":\"PrimarySite\",\n",
    "         \"_sample_type\":\"SampleType\",\"_study\":\"Study\",\"_gender\":\"Gender\"}\n",
    "phenotype.rename(columns=columns, inplace=True)"
   ]
  },
  {
   "cell_type": "code",
   "execution_count": null,
   "id": "ad97d27f-b57e-48f4-8fc0-868fdfcd769f",
   "metadata": {},
   "outputs": [],
   "source": [
    "SelectedSampleTypes = [\"Primary Tumor\",\"Normal Tissue\",\"Primary Solid Tumor\"]\n",
    "phenotype = phenotype[phenotype.SampleType.isin(SelectedSampleTypes)]"
   ]
  },
  {
   "cell_type": "code",
   "execution_count": null,
   "id": "db2322a2-f537-4090-993d-5568e4520b2e",
   "metadata": {},
   "outputs": [],
   "source": [
    "print(len(phenotype)); phenotype.sample(2)"
   ]
  },
  {
   "cell_type": "code",
   "execution_count": null,
   "id": "8a557e75-7e87-4d1e-bfd1-79a062f7ceea",
   "metadata": {},
   "outputs": [],
   "source": [
    "def function(row):\n",
    "    if row[\"SampleType\"]   == \"Primary Tumor\":\n",
    "        return \"Tumor\"\n",
    "    elif row[\"SampleType\"] == \"Solid Tissue Normal\":\n",
    "        return \"Healthy\"        \n",
    "    elif row[\"SampleType\"] == \"Normal Tissue\":\n",
    "        return \"Healthy\"\n",
    "    else:\n",
    "        return \"NaN\""
   ]
  },
  {
   "cell_type": "code",
   "execution_count": null,
   "id": "aca0cdb2-dfc2-4e37-8cb0-0e9d0f66ee6e",
   "metadata": {},
   "outputs": [],
   "source": [
    "phenotype[\"SampleType2\"] = phenotype.apply(function, axis=1)"
   ]
  },
  {
   "cell_type": "code",
   "execution_count": null,
   "id": "14ededd6-ebc3-4cc3-97b5-8cb4b771e930",
   "metadata": {},
   "outputs": [],
   "source": [
    "print(len(phenotype)); phenotype.sample(2)"
   ]
  },
  {
   "cell_type": "code",
   "execution_count": null,
   "id": "b6b61abb-3701-4485-a1fe-27beeeae17a4",
   "metadata": {},
   "outputs": [],
   "source": [
    "PrimarySite = phenotype.PrimarySite.unique().tolist()\n",
    "PrimarySite = [x for x in PrimarySite if str(x) != 'nan']; print(PrimarySite)"
   ]
  },
  {
   "cell_type": "code",
   "execution_count": null,
   "id": "23c71b3b-bcdc-4735-9578-94d0c042d591",
   "metadata": {},
   "outputs": [],
   "source": [
    "#PrimarySite = [\"Brain\",\"Breast\",\"Spleen\",\"Testis\"]; print(PrimarySite)\n",
    "#phenotype = phenotype[phenotype[\"PrimarySite\"].isin(PrimarySite)]"
   ]
  },
  {
   "cell_type": "code",
   "execution_count": null,
   "id": "2b1a8fa2-80b6-4b3b-9e07-0a450c2e409a",
   "metadata": {},
   "outputs": [],
   "source": [
    "#columns=[\"SampleID\", \"SampleType\", \"SampleType2\", \"Study\", \"PrimarySite\", \"DetailedCategory\"]\n",
    "#phenotype = phenotype[columns].copy()\n",
    "print(len(phenotype)); phenotype.sample(2)"
   ]
  },
  {
   "cell_type": "code",
   "execution_count": null,
   "id": "be21f473-e69e-4e15-9ee6-493bfd172424",
   "metadata": {},
   "outputs": [],
   "source": [
    "columns=[\"SampleID\", \"SampleType2\", \"PrimarySite\"]\n",
    "phenotype2 = phenotype[columns].copy(); phenotype2.sample(2)"
   ]
  },
  {
   "cell_type": "code",
   "execution_count": null,
   "id": "f0bfdc32-9e91-49e4-84c1-3b524712a92d",
   "metadata": {},
   "outputs": [],
   "source": [
    "chunk_size = 50\n",
    "chunk_no   = 1"
   ]
  },
  {
   "cell_type": "code",
   "execution_count": null,
   "id": "34c209d9-7142-49f6-b25e-58b24dec8121",
   "metadata": {},
   "outputs": [],
   "source": [
    "cols1 = ['GeneSymbol','PrimarySite','Avg_Health','Avg_Tumor','Avg_D','MWstatistic','pvalue']\n",
    "stats_df = pd.DataFrame(columns = cols1)\n",
    "#     -     -     -     -     -     -     -     -     -     -     -     -     -     -     -     -     -     -     -     -    \n",
    "cols2 = ['GeneSymbol','PrimarySite','Error']\n",
    "error_df = pd.DataFrame(columns = cols2)"
   ]
  },
  {
   "cell_type": "code",
   "execution_count": null,
   "id": "ea0585d6-6199-4c55-9370-3221535c62c1",
   "metadata": {},
   "outputs": [],
   "source": [
    "%%time\n",
    "for chunk in tqdm(pd.read_csv(data_link, compression='gzip', sep='\\t', chunksize = chunk_size), colour=\"green\"):\n",
    "#     -     -     -     -     -     -     -     -     -     -     -     -     -     -     -     -     -     -     -     -     \n",
    "    print(\"\\x1b[31m\",\"Time:\", f'{time.time()-start:.0f}', \"seconds.\",\"\\x1b[0m\")\n",
    "    chunk.rename(columns={\"sample\":\"EnsemblGeneID\"}, inplace=True)\n",
    "    chunk.EnsemblGeneID = chunk.EnsemblGeneID.str.slice(0,15)\n",
    "    df = pd.merge(chunk, genes_df, on = \"EnsemblGeneID\", how=\"left\")\n",
    "    df.drop([\"EnsemblGeneID\"], axis=1, inplace=True)\n",
    "    df.insert(0,\"GeneSymbol\", df.pop(\"GeneSymbol\"))\n",
    "    genes = df.GeneSymbol.unique().tolist()\n",
    "    cleanedgenes = [x for x in genes if str(x) != 'nan']\n",
    "    #print(cleanedgenes)\n",
    "#     -     -     -     -     -     -     -     -     -     -     -     -     -     -     -     -     -     -     -     - \n",
    "    df0 = pd.melt(df, id_vars=[\"GeneSymbol\"], var_name = \"SampleID\", value_name =\"TPM\")\n",
    "    df0 = df0[df0[\"GeneSymbol\"].notna()]\n",
    "    df1 = pd.merge(df0, phenotype2, on=\"SampleID\", how=\"inner\")\n",
    "    df1.drop(['SampleID'], axis = 1, inplace = True)\n",
    "    df1 = df1[['GeneSymbol', 'PrimarySite', 'SampleType2', 'TPM']]\n",
    "    print(\"Number of PrimarySites\", \"\\x1b[31m\", str(len(df1.PrimarySite.unique())),\"\\x1b[0m\")\n",
    "#     -     -     -     -     -     -     -     -     -     -     -     -     -     -     -     -     -     -     -     -     \n",
    "    for gene in cleanedgenes:\n",
    "        print(\"\\x1b[31m\",gene, \"\\x1b[0m\")\n",
    "        df00 = df1[df1.GeneSymbol == gene]\n",
    "        PrimarySite = df00.PrimarySite.unique().tolist()\n",
    "        PrimarySite = [x for x in PrimarySite if str(x) != 'nan']; #print(PrimarySite)\n",
    "#     -     -     -     -     -     -     -     -     -     -     -     -     -     -     -     -     -     -     -     -         \n",
    "        for site in PrimarySite:\n",
    "            print(site)\n",
    "            df000 = df00[df00.PrimarySite == site]\n",
    "            tumor_df = df000[df000.SampleType2 == \"Tumor\"]    ; Avg_Tumor = tumor_df.TPM.mean()\n",
    "            healt_df = df000[df000.SampleType2 == \"Healthy\"]  ; Avg_Healt = healt_df.TPM.mean()\n",
    "            Avg_D = Avg_Tumor - Avg_Healt\n",
    "            t = tumor_df.TPM.tolist(); h = healt_df.TPM.tolist()\n",
    "#     -     -     -     -     -     -     -     -     -     -     -     -     -     -     -     -     -     -     -     -             \n",
    "            try:\n",
    "                u, p= scipy.stats.mannwhitneyu(t, h)\n",
    "                #print(gene, site,  f\"{Avg_Healt:.3f}\", f\"{Avg_Tumor:.3f}\", f\"{Avg_D:.3f}\", u, f\"{p:.3e}\")\n",
    "                to_append1 = [[gene, site,  f\"{Avg_Healt:.3f}\", f\"{Avg_Tumor:.3f}\", f\"{Avg_D:.3f}\", u, f\"{p:.3e}\"]]\n",
    "                stats_df = stats_df.append(pd.DataFrame(to_append1, columns = cols1), ignore_index = True)\n",
    "            except ValueError as r:\n",
    "                #print(\"\\x1b[31m\", gene, site, str(r),\"\\x1b[0m\")\n",
    "                to_append2 = [[gene, site, r]]\n",
    "                error_df = error_df.append(pd.DataFrame(to_append2, columns = cols2), ignore_index = True)\n",
    "                #break\n",
    "#     -     -     -     -     -     -     -     -     -     -     -     -     -     -     -     -     -     -     -     -                 \n",
    "    chunk_no += 1\n",
    "    if chunk_no == 10:\n",
    "        print(\"\\n  *  *  *  *  *  *  BREAK  *  *  *  *  *  *  \\n\")\n",
    "        break\n",
    "#     -     -     -     -     -     -     -     -     -     -     -     -     -     -     -     -     -     -     -     -          \n",
    "print(\"\\n  *  *  *  *  *  *  THE END  *  *  *  *  *  *  \\n\")"
   ]
  },
  {
   "cell_type": "code",
   "execution_count": null,
   "id": "80faaf95-4af0-4ff0-9478-b0583ebd3e1e",
   "metadata": {},
   "outputs": [],
   "source": [
    "stats_df.to_csv(\"TTG_stats.csv\", sep=\"\\t\", index=False)\n",
    "error_df.to_csv(\"TTG_error_log.csv\", sep=\"\\t\", index=False)"
   ]
  },
  {
   "cell_type": "code",
   "execution_count": null,
   "id": "c91b7f17-55f7-456a-a4c6-48e95b083a04",
   "metadata": {},
   "outputs": [],
   "source": [
    "print(\"\\x1b[31m\",\"'DataExploration_v005' script run time:\", f'{time.time()-start:.0f}', \"seconds.\",\"\\x1b[0m\")"
   ]
  },
  {
   "cell_type": "code",
   "execution_count": null,
   "id": "c3d2968c-9d37-4b73-bbd1-586a62bb89e8",
   "metadata": {},
   "outputs": [],
   "source": []
  },
  {
   "cell_type": "code",
   "execution_count": null,
   "id": "c025fdae-5951-4eb2-bbf0-32a826eef874",
   "metadata": {},
   "outputs": [],
   "source": []
  },
  {
   "cell_type": "code",
   "execution_count": null,
   "id": "1e368c0d-5894-4c8f-a257-b43b416870e9",
   "metadata": {},
   "outputs": [],
   "source": [
    "=   =   =   =   S  T  O  P   =   =   =   = "
   ]
  }
 ],
 "metadata": {
  "kernelspec": {
   "display_name": "Python 3 (ipykernel)",
   "language": "python",
   "name": "python3"
  },
  "language_info": {
   "codemirror_mode": {
    "name": "ipython",
    "version": 3
   },
   "file_extension": ".py",
   "mimetype": "text/x-python",
   "name": "python",
   "nbconvert_exporter": "python",
   "pygments_lexer": "ipython3",
   "version": "3.9.7"
  }
 },
 "nbformat": 4,
 "nbformat_minor": 5
}
