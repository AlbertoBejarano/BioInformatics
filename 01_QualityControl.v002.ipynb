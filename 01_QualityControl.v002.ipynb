{
 "cells": [
  {
   "cell_type": "code",
   "execution_count": null,
   "id": "b69783e5-3378-4c13-93c8-6cf58f7e9362",
   "metadata": {},
   "outputs": [],
   "source": [
    "# Cheng S et al. A pan-cancer single-cell transcriptional atlas of tumor infiltrating myeloid cells. Cell 2021 \n",
    "# https://www.sciencedirect.com/science/article/pii/S0092867421000106\n",
    "# https://www.ncbi.nlm.nih.gov/geo/query/acc.cgi?acc=GSE154763\n",
    "# https://nbisweden.github.io/workshop-scRNAseq/"
   ]
  },
  {
   "cell_type": "code",
   "execution_count": null,
   "id": "523d5010-5681-4443-9e4a-6e8ef3026333",
   "metadata": {},
   "outputs": [],
   "source": [
    "#!mkdir data\n",
    "#!mkdir write\n",
    "#!mkdir figures"
   ]
  },
  {
   "cell_type": "code",
   "execution_count": null,
   "id": "af9826a3-1b6a-4dfd-ab5c-7af527d3d52f",
   "metadata": {},
   "outputs": [],
   "source": [
    "import time; start = time.time()"
   ]
  },
  {
   "cell_type": "code",
   "execution_count": null,
   "id": "002a95b3-763c-448f-b3e1-478159374c3f",
   "metadata": {},
   "outputs": [],
   "source": [
    "import warnings\n",
    "warnings.filterwarnings(\"ignore\", category=FutureWarning)\n",
    "warnings.filterwarnings(\"ignore\", category=RuntimeWarning)"
   ]
  },
  {
   "cell_type": "code",
   "execution_count": null,
   "id": "c5c4f69b-a318-4829-95aa-fa74da8788aa",
   "metadata": {},
   "outputs": [],
   "source": [
    "from matplotlib.pyplot import rc_context\n",
    "import matplotlib.pyplot as plt\n",
    "#import sc_toolbox.api as sct\n",
    "import seaborn as sns\n",
    "import anndata\n",
    "import pandas as pd\n",
    "import scanpy as sc\n",
    "import numpy as np\n",
    "sc.logging.print_version_and_date()"
   ]
  },
  {
   "cell_type": "code",
   "execution_count": null,
   "id": "68892a92-8561-4f2b-ac86-3cc77d727cfa",
   "metadata": {},
   "outputs": [],
   "source": [
    "sc.settings.set_figure_params(scanpy=True, dpi=150, dpi_save=150, color_map='coolwarm',facecolor='white',\n",
    "                             format='png', transparent=False, frameon=False, vector_friendly=True, fontsize=14)\n",
    "sc.settings.verbosity = 0             # verbosity: errors (0), warnings (1), info (2), hints (3)\n",
    "sc.logging.print_header()"
   ]
  },
  {
   "cell_type": "markdown",
   "id": "ce0d2ef9-1991-45d0-ad66-35a883ec4d4c",
   "metadata": {},
   "source": [
    "#   =   =   =   =    =   =   =   =   1. Get Data   =   =   =   =    =   =   =   =   "
   ]
  },
  {
   "cell_type": "code",
   "execution_count": null,
   "id": "bee1e4ec-6ae1-45e0-b2bc-fb7068b03e34",
   "metadata": {},
   "outputs": [],
   "source": [
    "results_file  = \"./write/pbmc3k.h5ad\"          # the file that will store the analysis results\n",
    "data_file     = \"./data/GSE154763_UCEC_norm_expression.csv.gz\"\n",
    "metadata_file = \"./data/GSE154763_UCEC_metadata.csv.gz\""
   ]
  },
  {
   "cell_type": "code",
   "execution_count": null,
   "id": "899cc1ac-2646-47d3-9bd5-8393acd95260",
   "metadata": {},
   "outputs": [],
   "source": [
    "%%time\n",
    "UCEC     = pd.read_csv(data_file, index_col=0)\n",
    "cellinfo = pd.read_csv(metadata_file, index_col=0)\n",
    "geneinfo = pd.DataFrame(UCEC.columns, index=UCEC.columns, columns=['genes_index'])"
   ]
  },
  {
   "cell_type": "code",
   "execution_count": null,
   "id": "3372e41e-0d58-4a67-b443-bf4180f6741d",
   "metadata": {},
   "outputs": [],
   "source": [
    "%%time\n",
    "adata = sc.AnnData(UCEC, obs=cellinfo, var = geneinfo)"
   ]
  },
  {
   "cell_type": "code",
   "execution_count": null,
   "id": "27b3c41b-0703-436e-ab1a-508edd2c7241",
   "metadata": {},
   "outputs": [],
   "source": [
    "adata.var_names_make_unique()  # unnecessary if using `var_names='gene_ids'` in `sc.read_10x_mtx`"
   ]
  },
  {
   "cell_type": "markdown",
   "id": "d8e33fd5-9262-4486-87ac-256094490ab5",
   "metadata": {},
   "source": [
    "#   =   =   =   =    =   =   =   =   2. Create One Merged Object   =   =   =   =    =   =   =   =   "
   ]
  },
  {
   "cell_type": "code",
   "execution_count": null,
   "id": "ca7ee82d-4832-406a-b10f-64924bf33d15",
   "metadata": {},
   "outputs": [],
   "source": [
    "# merge into one object.\n",
    "#adata = adata.concatenate(adata1, adata2)"
   ]
  },
  {
   "cell_type": "code",
   "execution_count": null,
   "id": "0bf35563-6c95-4e9a-b693-901e420d5703",
   "metadata": {},
   "outputs": [],
   "source": [
    "adata"
   ]
  },
  {
   "cell_type": "code",
   "execution_count": null,
   "id": "0ac3444e-a97b-4e4f-a34c-8e2cc3ecc710",
   "metadata": {},
   "outputs": [],
   "source": [
    "adata.obs.head(3)"
   ]
  },
  {
   "cell_type": "code",
   "execution_count": null,
   "id": "c70831ea-cb8b-4782-86d2-e4e31f91ddb6",
   "metadata": {},
   "outputs": [],
   "source": [
    "adata.obs.patient.value_counts()"
   ]
  },
  {
   "cell_type": "markdown",
   "id": "c7d67bfa-3772-4489-b4a2-2c450f47b882",
   "metadata": {},
   "source": [
    "#   =   =   =   =    =   =   =   =   3. Quality Control   =   =   =   =    =   =   =   =   "
   ]
  },
  {
   "cell_type": "code",
   "execution_count": null,
   "id": "fb84ce4a-6857-4ef0-8c03-a5823f4e50be",
   "metadata": {},
   "outputs": [],
   "source": [
    "adata.var['mt']   = adata.var_names.str.startswith('MT-')           # annotate mitochondrial genes\n",
    "adata.var['ribo'] = adata.var_names.str.startswith((\"RPS\",\"RPL\"))   # annotate ribosomal genes\n",
    "adata.var['hb']   = adata.var_names.str.contains((\"^HB[^(P)]\"))     # annotate hemoglobin genes.\n",
    "adata.var.head(3)"
   ]
  },
  {
   "cell_type": "code",
   "execution_count": null,
   "id": "9f2be70d-5980-48ae-a4fe-3bd2b467e9ec",
   "metadata": {},
   "outputs": [],
   "source": [
    "# Calculate quality control metrics.\n",
    "sc.pp.calculate_qc_metrics(adata, qc_vars=['mt','ribo','hb'], percent_top=None, log1p=False, inplace=True)"
   ]
  },
  {
   "cell_type": "code",
   "execution_count": null,
   "id": "5578afc1-cca5-48db-89d0-d1abc569fa38",
   "metadata": {},
   "outputs": [],
   "source": [
    "mito_genes = adata.var_names.str.startswith('MT-')\n",
    "# for each cell compute fraction of counts in mito genes vs. all genes\n",
    "# the `.A1` is only necessary as X is sparse (to transform to a dense array after summing)\n",
    "adata.obs['percent_mt2'] = np.sum(adata[:, mito_genes].X, axis=1) / np.sum(adata.X, axis=1)\n",
    "# add the total counts per cell as observations-annotation to adata\n",
    "adata.obs['n_counts'] = adata.X.sum(axis=1)"
   ]
  },
  {
   "cell_type": "code",
   "execution_count": null,
   "id": "171b3adf-d915-4cf8-a37a-8d7703bcd47e",
   "metadata": {},
   "outputs": [],
   "source": [
    "adata"
   ]
  },
  {
   "cell_type": "markdown",
   "id": "3af7eb3b-dc0b-4ebc-a48b-3b3659977a2d",
   "metadata": {},
   "source": [
    "#   =   =   =   =    =   =   =   =   4. Plot Quality Control Metrics   =   =   =   =    =   =   =   =   "
   ]
  },
  {
   "cell_type": "code",
   "execution_count": null,
   "id": "a378af7c-5943-4719-a3df-86a44deb5db7",
   "metadata": {},
   "outputs": [],
   "source": [
    "with plt.rc_context():  # Use this to set figure params like size and dpi\n",
    "    sc.pl.violin(adata, ['n_genes','n_genes_by_counts', 'total_counts','total_counts_mt', 'pct_counts_mt'],\n",
    "                 size=3, jitter=0.35, multi_panel=True, show=False)\n",
    "    plt.tight_layout()\n",
    "    plt.savefig(\"./figures/01a.QC_ViolinPlots.png\", bbox_inches=\"tight\")"
   ]
  },
  {
   "cell_type": "code",
   "execution_count": null,
   "id": "20cdbbed-4559-4702-8769-6a5adebdc479",
   "metadata": {},
   "outputs": [],
   "source": [
    "sc.pl.violin(adata, ['n_genes','n_genes_by_counts'], size=3, jitter=0.4, groupby='patient', rotation= 45)"
   ]
  },
  {
   "cell_type": "code",
   "execution_count": null,
   "id": "af123bf3-2348-4712-bfa8-d046c7797947",
   "metadata": {},
   "outputs": [],
   "source": [
    "fig,(ax1) = plt.subplots(1,1, figsize=(15,4))\n",
    "ax1 = sns.histplot(adata.obs[\"total_counts\"], bins=100, kde=False, element=\"step\", fill=False, ax=ax1)\n",
    "#plt.savefig(\"test.png\", bbox_inches=\"tight\")"
   ]
  },
  {
   "cell_type": "code",
   "execution_count": null,
   "id": "bd69b9b8-0dea-4cd0-a41a-11ab207d8c0d",
   "metadata": {},
   "outputs": [],
   "source": [
    "# https://stackoverflow.com/questions/67157280/using-seaborn-displot-i-am-unable-to-specify-the-hue-to-separate-three-categorie"
   ]
  },
  {
   "cell_type": "code",
   "execution_count": null,
   "id": "9b0ae989-e664-498f-a8a3-d99d6774ae3b",
   "metadata": {},
   "outputs": [],
   "source": [
    "# = = = = = = = = 5. Filtering = = = = = = = ="
   ]
  },
  {
   "cell_type": "code",
   "execution_count": null,
   "id": "c5af5d35-199f-4dc6-a99f-96c141162d11",
   "metadata": {},
   "outputs": [],
   "source": [
    "sc.pp.filter_cells(adata, min_genes = 200) # Filter cell outliers based on counts and numbers of genes expressed.\n",
    "sc.pp.filter_genes(adata, min_cells = 3)   # Filter genes based on number of cells or counts.\n",
    "print(adata.n_obs, adata.n_vars)"
   ]
  },
  {
   "cell_type": "code",
   "execution_count": null,
   "id": "6ee6b673-c902-42f7-8abb-f56f574eac2a",
   "metadata": {},
   "outputs": [],
   "source": [
    "# Preprocessing. Show those genes that yield the highest fraction of counts in each single cell, across all cells.\n",
    "with plt.rc_context():  # Use this to set figure params like size and dpi\n",
    "    sc.pl.highest_expr_genes(adata, n_top=15, show=False)\n",
    "    plt.savefig(\"./figures/01a.HighestFractionCounts.png\", bbox_inches=\"tight\")"
   ]
  },
  {
   "cell_type": "code",
   "execution_count": null,
   "id": "387366d5-28e9-4ff4-abf3-e736d8ad7736",
   "metadata": {},
   "outputs": [],
   "source": [
    "# Remove cells that have too many mitochondrial genes expressed or too many total counts:\n",
    "fig,(ax1,ax2,ax3,ax4) = plt.subplots(1,4, figsize=(15,4))\n",
    "ax1 = sns.histplot(adata.obs[\"total_counts\"], bins=50, kde=False, element=\"step\", fill=False, ax=ax1)\n",
    "ax2 = sc.pl.scatter(adata, x='total_counts', y='pct_counts_mt', color='batch',     show=False,  legend_loc='right margin',  ax=ax2)\n",
    "ax3 = sc.pl.scatter(adata, x='total_counts', y='n_genes_by_counts', color='batch', show=False,  legend_loc='right margin',  ax=ax3)\n",
    "plt.tight_layout()\n",
    "plt.savefig(\"./figures/01c.QC.png\", bbox_inches=\"tight\")"
   ]
  },
  {
   "cell_type": "code",
   "execution_count": null,
   "id": "75d34e6b-c031-4452-8eff-bdb9533ce77d",
   "metadata": {},
   "outputs": [],
   "source": [
    "adata = adata[adata.obs['pct_counts_mt'] < 20, :]   # filter for percent mito\n",
    "adata = adata[adata.obs['pct_counts_ribo'] > 5, :]   # filter for percent ribo > 0.05\n",
    "print(\"Remaining cells %d\"%adata.n_obs)"
   ]
  },
  {
   "cell_type": "code",
   "execution_count": null,
   "id": "361f3134-082d-44b2-9c10-8d317705343d",
   "metadata": {},
   "outputs": [],
   "source": [
    "malat1 = adata.var_names.str.startswith('MALAT1')\n",
    "# we need to redefine the mito_genes since they were first \n",
    "# calculated on the full object before removing low expressed genes.\n",
    "mito_genes = adata.var_names.str.startswith('MT-')\n",
    "hb_genes = adata.var_names.str.contains('^HB[^(P)]')\n",
    "remove = np.add(mito_genes, malat1)\n",
    "remove = np.add(remove, hb_genes)\n",
    "keep = np.invert(remove)\n",
    "adata = adata[:,keep]\n",
    "print(adata.n_obs, adata.n_vars)"
   ]
  },
  {
   "cell_type": "code",
   "execution_count": null,
   "id": "19da9bd2-70e8-4ad2-a269-45ebca199ca5",
   "metadata": {},
   "outputs": [],
   "source": []
  },
  {
   "cell_type": "code",
   "execution_count": null,
   "id": "181758b2-fb53-4918-938c-7ab4c1e906b2",
   "metadata": {},
   "outputs": [],
   "source": [
    "print('Total number of observations before cell filter: {:d}'.format(adata.n_obs))\n",
    "adata = adata[adata.obs.n_genes_by_counts < 2500, :]\n",
    "adata = adata[adata.obs.pct_counts_mt < 5, :]\n",
    "print('Total number of observations after cell filter: {:d}'.format(adata.n_obs))"
   ]
  },
  {
   "cell_type": "code",
   "execution_count": null,
   "id": "9b1230c3-cf0e-4490-a2f6-139ba38aff94",
   "metadata": {},
   "outputs": [],
   "source": [
    "sc.pp.normalize_total(adata, target_sum=1e4) # Normalize counts per cell.\n",
    "sc.pp.log1p(adata)                           # Logarithmize the data."
   ]
  },
  {
   "cell_type": "code",
   "execution_count": null,
   "id": "12d1c6af-9207-45a5-8b1b-3907160390e1",
   "metadata": {},
   "outputs": [],
   "source": [
    "sc.pp.highly_variable_genes(adata, min_mean=0.0125, max_mean=3, min_disp=0.5)    # Identify highly-variable genes.\n",
    "adata = adata[:, adata.var.highly_variable]                                      # Actually do the filtering"
   ]
  },
  {
   "cell_type": "code",
   "execution_count": null,
   "id": "05583107-6fc4-4709-b12b-d26ce3e3290e",
   "metadata": {},
   "outputs": [],
   "source": [
    "with plt.rc_context():  # Use this to set figure params like size and dpi\n",
    "    sc.pl.highly_variable_genes(adata, highly_variable_genes=True, log=False, show=False)\n",
    "    plt.savefig(\"./figures/01d.HighlyVariableGenes.png\", bbox_inches=\"tight\", log=True)"
   ]
  },
  {
   "cell_type": "code",
   "execution_count": null,
   "id": "68ee4875-3a42-4bb1-816f-7ef124c23f61",
   "metadata": {},
   "outputs": [],
   "source": [
    "# adata.X = adata.obsm['raw'].copy()"
   ]
  },
  {
   "cell_type": "code",
   "execution_count": null,
   "id": "abdcfc8f-f6f4-4940-a2ee-89a89ff62eb3",
   "metadata": {},
   "outputs": [],
   "source": [
    "adata.raw = adata"
   ]
  },
  {
   "cell_type": "code",
   "execution_count": null,
   "id": "7d5c1a4e-2f3c-4a69-881f-099513ae4b9d",
   "metadata": {},
   "outputs": [],
   "source": [
    "print('Total number of observations: {:d}'.format(adata.n_obs))\n",
    "print('Number of genes after cell filter: {:d}'.format(adata.n_vars))"
   ]
  },
  {
   "cell_type": "code",
   "execution_count": null,
   "id": "24118eea-e4e7-45ba-bd04-910bf4c7ccf2",
   "metadata": {},
   "outputs": [],
   "source": [
    "print('Total number of observations: {:d}'.format(adata.n_obs))\n",
    "print('Number of genes after cell filter: {:d}'.format(adata.n_vars))"
   ]
  },
  {
   "cell_type": "code",
   "execution_count": null,
   "id": "2b86cf8f-bb49-47c5-a290-9443c02636cc",
   "metadata": {},
   "outputs": [],
   "source": [
    "#  Regress out effects of total counts per cell and the % mitochondrial genes expressed.\n",
    "sc.pp.regress_out(adata, ['total_counts', 'pct_counts_mt'])\n",
    "sc.pp.scale(adata, max_value=10)   # Scale each gene to unit variance. Clip values exceeding standard deviation 10. "
   ]
  },
  {
   "cell_type": "code",
   "execution_count": null,
   "id": "d2b3f4b1-11ad-4044-85b1-dd9f9a7e998e",
   "metadata": {},
   "outputs": [],
   "source": [
    "adata.shape"
   ]
  },
  {
   "cell_type": "code",
   "execution_count": null,
   "id": "609aa69d-89f1-412d-8e6c-dee9c3c37770",
   "metadata": {},
   "outputs": [],
   "source": [
    "adata"
   ]
  },
  {
   "cell_type": "code",
   "execution_count": null,
   "id": "12770b7b-1077-45e5-ae45-8e9d4f1ab816",
   "metadata": {},
   "outputs": [],
   "source": [
    "# = = = = = = = = 6. Sample sex = = = = = = = ="
   ]
  },
  {
   "cell_type": "code",
   "execution_count": 41,
   "id": "2321fe88-2291-408b-9708-656bb50ec425",
   "metadata": {},
   "outputs": [],
   "source": [
    "annot = sc.queries.biomart_annotations(\"hsapiens\",\n",
    "        [\"ensembl_gene_id\", \"external_gene_name\", \"start_position\", \"end_position\", \"chromosome_name\"],\n",
    "    ).set_index(\"external_gene_name\")\n",
    "#>>> adata.var[annot.columns] = annot"
   ]
  },
  {
   "cell_type": "code",
   "execution_count": 42,
   "id": "7bc0dcda-d597-47af-b268-9f46a9e8439b",
   "metadata": {},
   "outputs": [
    {
     "data": {
      "text/plain": [
       "Index([], dtype='object')"
      ]
     },
     "execution_count": 42,
     "metadata": {},
     "output_type": "execute_result"
    }
   ],
   "source": [
    "chrY_genes = adata.var_names.intersection(annot.index[annot.chromosome_name == \"Y\"])\n",
    "chrY_genes"
   ]
  },
  {
   "cell_type": "code",
   "execution_count": 44,
   "id": "40450d12-4c5b-4684-a195-eb654125184f",
   "metadata": {},
   "outputs": [
    {
     "name": "stderr",
     "output_type": "stream",
     "text": [
      "C:\\Users\\alber\\AppData\\Local\\Temp/ipykernel_1016/441416070.py:1: ImplicitModificationWarning: Trying to modify attribute `.obs` of view, initializing view as actual.\n",
      "  adata.obs['percent_chrY'] = np.sum(\n"
     ]
    }
   ],
   "source": [
    "adata.obs['percent_chrY'] = np.sum(\n",
    "    adata[:, chrY_genes].X, axis=1) / np.sum(adata.X, axis=1) * 100"
   ]
  },
  {
   "cell_type": "code",
   "execution_count": 45,
   "id": "65200fc4-91b6-4d5c-bade-486d12481969",
   "metadata": {},
   "outputs": [
    {
     "ename": "AttributeError",
     "evalue": "'numpy.ndarray' object has no attribute 'toarray'",
     "output_type": "error",
     "traceback": [
      "\u001b[1;31m---------------------------------------------------------------------------\u001b[0m",
      "\u001b[1;31mAttributeError\u001b[0m                            Traceback (most recent call last)",
      "\u001b[1;32m~\\AppData\\Local\\Temp/ipykernel_1016/129023864.py\u001b[0m in \u001b[0;36m<module>\u001b[1;34m\u001b[0m\n\u001b[0;32m      1\u001b[0m \u001b[1;31m# color inputs must be from either .obs or .var, so add in XIST expression to obs.\u001b[0m\u001b[1;33m\u001b[0m\u001b[1;33m\u001b[0m\u001b[0m\n\u001b[1;32m----> 2\u001b[1;33m \u001b[0madata\u001b[0m\u001b[1;33m.\u001b[0m\u001b[0mobs\u001b[0m\u001b[1;33m[\u001b[0m\u001b[1;34m\"XIST-counts\"\u001b[0m\u001b[1;33m]\u001b[0m \u001b[1;33m=\u001b[0m \u001b[0madata\u001b[0m\u001b[1;33m.\u001b[0m\u001b[0mX\u001b[0m\u001b[1;33m[\u001b[0m\u001b[1;33m:\u001b[0m\u001b[1;33m,\u001b[0m\u001b[0madata\u001b[0m\u001b[1;33m.\u001b[0m\u001b[0mvar_names\u001b[0m\u001b[1;33m.\u001b[0m\u001b[0mstr\u001b[0m\u001b[1;33m.\u001b[0m\u001b[0mmatch\u001b[0m\u001b[1;33m(\u001b[0m\u001b[1;34m'XIST'\u001b[0m\u001b[1;33m)\u001b[0m\u001b[1;33m]\u001b[0m\u001b[1;33m.\u001b[0m\u001b[0mtoarray\u001b[0m\u001b[1;33m(\u001b[0m\u001b[1;33m)\u001b[0m\u001b[1;33m\u001b[0m\u001b[1;33m\u001b[0m\u001b[0m\n\u001b[0m\u001b[0;32m      3\u001b[0m \u001b[1;33m\u001b[0m\u001b[0m\n\u001b[0;32m      4\u001b[0m \u001b[0msc\u001b[0m\u001b[1;33m.\u001b[0m\u001b[0mpl\u001b[0m\u001b[1;33m.\u001b[0m\u001b[0mscatter\u001b[0m\u001b[1;33m(\u001b[0m\u001b[0madata\u001b[0m\u001b[1;33m,\u001b[0m \u001b[0mx\u001b[0m\u001b[1;33m=\u001b[0m\u001b[1;34m'XIST-counts'\u001b[0m\u001b[1;33m,\u001b[0m \u001b[0my\u001b[0m\u001b[1;33m=\u001b[0m\u001b[1;34m'percent_chrY'\u001b[0m\u001b[1;33m,\u001b[0m \u001b[0mcolor\u001b[0m\u001b[1;33m=\u001b[0m\u001b[1;34m\"sample\"\u001b[0m\u001b[1;33m)\u001b[0m\u001b[1;33m\u001b[0m\u001b[1;33m\u001b[0m\u001b[0m\n",
      "\u001b[1;31mAttributeError\u001b[0m: 'numpy.ndarray' object has no attribute 'toarray'"
     ]
    }
   ],
   "source": [
    "# color inputs must be from either .obs or .var, so add in XIST expression to obs.\n",
    "adata.obs[\"XIST-counts\"] = adata.X[:,adata.var_names.str.match('XIST')].toarray()\n",
    "\n",
    "sc.pl.scatter(adata, x='XIST-counts', y='percent_chrY', color=\"sample\")"
   ]
  },
  {
   "cell_type": "code",
   "execution_count": null,
   "id": "5e218253-b482-40b0-9419-b9d63b1ab131",
   "metadata": {},
   "outputs": [],
   "source": [
    "sc.pl.violin(adata, [\"XIST-counts\", \"percent_chrY\"], jitter=0.4, groupby = 'sample', rotation= 45)"
   ]
  },
  {
   "cell_type": "code",
   "execution_count": null,
   "id": "c41acefe-00db-49dc-b11c-8962c0cc5e6b",
   "metadata": {},
   "outputs": [],
   "source": [
    "# = = = = = = = = 7. Calculate cell-cycle scores = = = = = = = ="
   ]
  },
  {
   "cell_type": "code",
   "execution_count": null,
   "id": "360e4a1b-dc98-43fb-9ab8-08285a315474",
   "metadata": {},
   "outputs": [],
   "source": []
  },
  {
   "cell_type": "code",
   "execution_count": null,
   "id": "92d2ed65-7ab1-4ef3-9113-b8e055d56c9a",
   "metadata": {},
   "outputs": [],
   "source": []
  },
  {
   "cell_type": "code",
   "execution_count": null,
   "id": "9666244e-d753-4052-991c-044ed2a7e23a",
   "metadata": {},
   "outputs": [],
   "source": [
    "adata.write(results_file)   # Save the result."
   ]
  },
  {
   "cell_type": "code",
   "execution_count": null,
   "id": "9638af86-392f-4aea-9e7e-d3fb632c982a",
   "metadata": {},
   "outputs": [],
   "source": [
    "print(\"'01_QualityControl.v001' script run time:\", f'{time.time()-start:.0f}', \"seconds.\")"
   ]
  },
  {
   "cell_type": "code",
   "execution_count": null,
   "id": "a46f08a9-784a-4e25-9e02-06e7c43e3190",
   "metadata": {},
   "outputs": [],
   "source": [
    "#   =   =   =   =    =   =   =   =   STOP   =   =   =   =    =   =   =   =   "
   ]
  }
 ],
 "metadata": {
  "kernelspec": {
   "display_name": "Python 3 (ipykernel)",
   "language": "python",
   "name": "python3"
  },
  "language_info": {
   "codemirror_mode": {
    "name": "ipython",
    "version": 3
   },
   "file_extension": ".py",
   "mimetype": "text/x-python",
   "name": "python",
   "nbconvert_exporter": "python",
   "pygments_lexer": "ipython3",
   "version": "3.9.7"
  }
 },
 "nbformat": 4,
 "nbformat_minor": 5
}
