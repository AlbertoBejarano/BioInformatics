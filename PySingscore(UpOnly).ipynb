{
 "cells": [
  {
   "cell_type": "code",
   "execution_count": 1,
   "id": "97ec092b-5ef3-4272-a398-0dcfc0ae8b08",
   "metadata": {},
   "outputs": [],
   "source": [
    "# https://github.com/DavisLaboratory/PySingscore/wiki/Tutorial\n",
    "# https://github.com/DavisLaboratory/PySingscore/blob/master/singscore/test/test.py"
   ]
  },
  {
   "cell_type": "code",
   "execution_count": 2,
   "id": "3937f3c4-3163-4e6f-98ba-73ab7e36d659",
   "metadata": {},
   "outputs": [],
   "source": [
    "# To install this package with conda run one of the following:\n",
    "# !pip install git+https://github.com/krystihoran/singscore\n",
    "# !pip install git+https://github.com/DavisLaboratory/PySingscore\n",
    "# !conda install -c bioconda bioconductor-singscore\n",
    "# !conda install -c bioconda/label/gcc7 bioconductor-singscore "
   ]
  },
  {
   "cell_type": "code",
   "execution_count": 3,
   "id": "8cd9a502-9d1d-4c7c-bdcc-28d0b58068d8",
   "metadata": {},
   "outputs": [],
   "source": [
    "from singscore.singscore import score,rank, permutate, empiricalpval, plotrankdist, nulldistribution, plotdispersion\n",
    "import matplotlib.pyplot as plt \n",
    "import pandas.testing\n",
    "import pandas as pd\n",
    "import warnings\n",
    "warnings.filterwarnings(\"ignore\")\n",
    "import unittest\n",
    "import os"
   ]
  },
  {
   "cell_type": "code",
   "execution_count": 4,
   "id": "6468ea2a-5279-4c4e-871f-341c8ff837aa",
   "metadata": {},
   "outputs": [],
   "source": [
    "# !activate myenv\n",
    "# !conda install numpy scipy statsmodels pandas matplotlib seaborn"
   ]
  },
  {
   "cell_type": "code",
   "execution_count": 5,
   "id": "b72e6fd9-b4c2-4008-8f75-79bc069530aa",
   "metadata": {},
   "outputs": [],
   "source": [
    "data = pd.read_csv(open('./Data/Input/Sample_Symbol.txt', 'r'), header ='infer', sep='\\t', error_bad_lines=False)\n",
    "data = data.set_index(keys='GeneID')"
   ]
  },
  {
   "cell_type": "code",
   "execution_count": 6,
   "id": "ec62b329-4dc7-4770-a2c5-acce440caf09",
   "metadata": {},
   "outputs": [],
   "source": [
    "#sigs = pd.read_csv(open('./Data/Input/Signature_Symbol.txt', 'r'), header='infer', sep='\\t', error_bad_lines=False)"
   ]
  },
  {
   "cell_type": "code",
   "execution_count": 7,
   "id": "35185db1-070d-40a0-a79b-17e73db85064",
   "metadata": {},
   "outputs": [],
   "source": [
    "sigs = open(\"./Data/Input/Signature_symbol_(2).txt\").read().split()"
   ]
  },
  {
   "cell_type": "code",
   "execution_count": 8,
   "id": "ad43cb20-3535-4a24-9bca-7081b1bcabdf",
   "metadata": {},
   "outputs": [],
   "source": [
    "scored_data = score(up_gene=sigs, sample=data, norm_method='theoretical', full_data=True)"
   ]
  },
  {
   "cell_type": "code",
   "execution_count": 9,
   "id": "ad744bfe-ac01-4339-b59e-88dea206b560",
   "metadata": {},
   "outputs": [],
   "source": [
    "scored_data = round(scored_data,3)\n",
    "scored_data.to_csv(\"./Data/Output/ScoredData.txt\", sep=\"\\t\", encoding=\"utf-8\")"
   ]
  },
  {
   "cell_type": "code",
   "execution_count": null,
   "id": "a44e5313-ba5b-4326-b0eb-38a38dd3a9ef",
   "metadata": {},
   "outputs": [],
   "source": []
  }
 ],
 "metadata": {
  "kernelspec": {
   "display_name": "Python 3",
   "language": "python",
   "name": "python3"
  },
  "language_info": {
   "codemirror_mode": {
    "name": "ipython",
    "version": 3
   },
   "file_extension": ".py",
   "mimetype": "text/x-python",
   "name": "python",
   "nbconvert_exporter": "python",
   "pygments_lexer": "ipython3",
   "version": "3.8.8"
  }
 },
 "nbformat": 4,
 "nbformat_minor": 5
}
