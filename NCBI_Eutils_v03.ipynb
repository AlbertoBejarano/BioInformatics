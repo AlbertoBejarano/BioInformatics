{
 "cells": [
  {
   "cell_type": "code",
   "execution_count": 1,
   "id": "e7a3c591-bb54-464d-abe4-a7efbee1df10",
   "metadata": {},
   "outputs": [],
   "source": [
    "# Modified from: https://github.com/britt-allen/ecfr_xml_parsing/blob/master/ecfr_parsing_notebook_with_beautiful_soup.ipynb\n",
    "# https://towardsdatascience.com/scraping-multiple-urls-with-python-tutorial-2b74432d085f"
   ]
  },
  {
   "cell_type": "code",
   "execution_count": 2,
   "id": "a2ea3540-a2cd-4134-acf3-300be46722d3",
   "metadata": {},
   "outputs": [],
   "source": [
    "import warnings; warnings.filterwarnings(\"ignore\")\n",
    "from bs4 import BeautifulSoup as bs\n",
    "from tqdm.notebook import tqdm_notebook\n",
    "from random import randint\n",
    "from time import sleep\n",
    "import pandas as pd\n",
    "import numpy as np\n",
    "import requests\n",
    "import time"
   ]
  },
  {
   "cell_type": "code",
   "execution_count": 3,
   "id": "c830a6e1-9637-4733-b88a-c9a941f33d27",
   "metadata": {},
   "outputs": [],
   "source": [
    "ncbi_link = \"https://eutils.ncbi.nlm.nih.gov/entrez/eutils/esummary.fcgi?db=gene&id=\""
   ]
  },
  {
   "cell_type": "code",
   "execution_count": 4,
   "id": "ddd3fa97-3f6a-40a0-ade0-1b82e6a66307",
   "metadata": {},
   "outputs": [],
   "source": [
    "genelist_link = \"https://www.genenames.org/cgi-bin/download/custom?col=gd_app_sym&col=md_eg_id&status=Approved&status=Entry%20Withdrawn&hgnc_dbtag=on&limit=2000&order_by=gd_app_sym_sort&format=text&submit=submit\"\n",
    "#genelist_link = \"https://www.genenames.org/cgi-bin/download/custom?col=gd_app_sym&col=md_eg_id&status=Approved&status=Entry%20Withdrawn&hgnc_dbtag=on&order_by=gd_app_sym_sort&format=text&submit=submit\""
   ]
  },
  {
   "cell_type": "code",
   "execution_count": 5,
   "id": "21896826-9e90-4411-8320-042a949c78bc",
   "metadata": {},
   "outputs": [
    {
     "data": {
      "text/html": [
       "<div>\n",
       "<style scoped>\n",
       "    .dataframe tbody tr th:only-of-type {\n",
       "        vertical-align: middle;\n",
       "    }\n",
       "\n",
       "    .dataframe tbody tr th {\n",
       "        vertical-align: top;\n",
       "    }\n",
       "\n",
       "    .dataframe thead th {\n",
       "        text-align: right;\n",
       "    }\n",
       "</style>\n",
       "<table border=\"1\" class=\"dataframe\">\n",
       "  <thead>\n",
       "    <tr style=\"text-align: right;\">\n",
       "      <th></th>\n",
       "      <th>Approved symbol</th>\n",
       "      <th>NCBI Gene ID(supplied by NCBI)</th>\n",
       "    </tr>\n",
       "  </thead>\n",
       "  <tbody>\n",
       "    <tr>\n",
       "      <th>176</th>\n",
       "      <td>ABO</td>\n",
       "      <td>28.0</td>\n",
       "    </tr>\n",
       "    <tr>\n",
       "      <th>1517</th>\n",
       "      <td>APOOP3</td>\n",
       "      <td>100131528.0</td>\n",
       "    </tr>\n",
       "    <tr>\n",
       "      <th>90</th>\n",
       "      <td>ABCB10P4</td>\n",
       "      <td>100132289.0</td>\n",
       "    </tr>\n",
       "    <tr>\n",
       "      <th>46</th>\n",
       "      <td>AASDH</td>\n",
       "      <td>132949.0</td>\n",
       "    </tr>\n",
       "    <tr>\n",
       "      <th>729</th>\n",
       "      <td>AGMO</td>\n",
       "      <td>392636.0</td>\n",
       "    </tr>\n",
       "  </tbody>\n",
       "</table>\n",
       "</div>"
      ],
      "text/plain": [
       "     Approved symbol  NCBI Gene ID(supplied by NCBI)\n",
       "176              ABO                            28.0\n",
       "1517          APOOP3                     100131528.0\n",
       "90          ABCB10P4                     100132289.0\n",
       "46             AASDH                        132949.0\n",
       "729             AGMO                        392636.0"
      ]
     },
     "execution_count": 5,
     "metadata": {},
     "output_type": "execute_result"
    }
   ],
   "source": [
    "df_genelist = pd.read_csv(genelist_link, header=0, sep=\"\\t\", error_bad_lines=False)\n",
    "df_genelist.sample(5)"
   ]
  },
  {
   "cell_type": "code",
   "execution_count": 6,
   "id": "4afd597f-f1c3-490c-9850-b1ccc1d607ce",
   "metadata": {},
   "outputs": [],
   "source": [
    "genelist = df_genelist['NCBI Gene ID(supplied by NCBI)'].fillna(0).astype(int).tolist()\n",
    "genelist = [x for x in genelist if str(x) != 'nan']\n",
    "genelist = [x for x in genelist if str(x) != '0']\n",
    "#print(genelist)"
   ]
  },
  {
   "cell_type": "code",
   "execution_count": 7,
   "id": "19ae2f84-33dc-48ad-b062-c3aac8856604",
   "metadata": {},
   "outputs": [],
   "source": [
    "bs_data  = []\n",
    "bs_error = []"
   ]
  },
  {
   "cell_type": "code",
   "execution_count": 8,
   "id": "71a6f38a-3334-46ac-9543-bcf047043afc",
   "metadata": {},
   "outputs": [
    {
     "data": {
      "application/vnd.jupyter.widget-view+json": {
       "model_id": "37cd5cdc10c048c7a5e09380f4f52173",
       "version_major": 2,
       "version_minor": 0
      },
      "text/plain": [
       "Progress:   0%|          | 0/200 [00:00<?, ?it/s]"
      ]
     },
     "metadata": {},
     "output_type": "display_data"
    },
    {
     "name": "stdout",
     "output_type": "stream",
     "text": [
      "Done!!!\n"
     ]
    }
   ],
   "source": [
    "for i in tqdm_notebook(genelist, desc = 'Progress: '):\n",
    "    try:\n",
    "        url_link = str(ncbi_link + str(i)); r = requests.get(url_link)\n",
    "        soup = bs(r.content,'xml')\n",
    "        name_bs = soup.find(\"Name\").text\n",
    "        description_bs = soup.find(\"Description\").text\n",
    "        species_bs = soup.find(\"ScientificName\").text\n",
    "        aliases_bs = soup.find(\"OtherAliases\").text\n",
    "        summary_bs = soup.find(\"Summary\").text\n",
    "        #print(i, '\\t\\t\\t', name_bs, '\\t\\t\\t', species_bs, '\\t\\t\\t', description_bs)\n",
    "        bs_data.append({'UID': i, 'ScientificName': species_bs, 'Description': description_bs,\n",
    "                        'Name': name_bs, 'Summary': summary_bs})\n",
    "\n",
    "    except AttributeError:\n",
    "        bs_error.append({'UID': i, 'Error': 'Error'})\n",
    "        bs_data.append({'UID': i, 'ScientificName': \"Error\", 'Description': \"Error\",\n",
    "                        'Name': \"Error\",'Summary': \"Error\"})\n",
    "        \n",
    "print(\"Done!!!\")"
   ]
  },
  {
   "cell_type": "code",
   "execution_count": 9,
   "id": "cc795193-5271-4494-8da7-1948e64b6515",
   "metadata": {},
   "outputs": [],
   "source": [
    "df_bs = pd.DataFrame(data=bs_data, columns=['UID','ScientificName','Name','Description','Summary'])\n",
    "df_bs.rename(columns={'Name':'GeneSymbol','Summary':'GeneSummary'}, inplace=True)\n",
    "df_error = pd.DataFrame(data=bs_error, columns=['UID','Error'])"
   ]
  },
  {
   "cell_type": "code",
   "execution_count": 10,
   "id": "be15aad4-62db-4b2a-8fbb-a519b799125d",
   "metadata": {},
   "outputs": [],
   "source": [
    "df_bs.to_csv('./OutputData/NCBI_Eutils_v03_output.csv',      index=False, sep='\\t')\n",
    "df_error.to_csv('./OutputData/NCBI_Eutils_v03_errorlog.csv', index=False, sep='\\t')"
   ]
  }
 ],
 "metadata": {
  "kernelspec": {
   "display_name": "Python 3 (ipykernel)",
   "language": "python",
   "name": "python3"
  },
  "language_info": {
   "codemirror_mode": {
    "name": "ipython",
    "version": 3
   },
   "file_extension": ".py",
   "mimetype": "text/x-python",
   "name": "python",
   "nbconvert_exporter": "python",
   "pygments_lexer": "ipython3",
   "version": "3.9.7"
  }
 },
 "nbformat": 4,
 "nbformat_minor": 5
}
