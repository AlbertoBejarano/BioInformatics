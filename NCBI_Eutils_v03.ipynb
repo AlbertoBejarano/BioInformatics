{
 "cells": [
  {
   "cell_type": "code",
   "execution_count": null,
   "id": "e7a3c591-bb54-464d-abe4-a7efbee1df10",
   "metadata": {},
   "outputs": [],
   "source": [
    "# Modified from: https://github.com/britt-allen/ecfr_xml_parsing/blob/master/ecfr_parsing_notebook_with_beautiful_soup.ipynb\n",
    "# https://towardsdatascience.com/scraping-multiple-urls-with-python-tutorial-2b74432d085f"
   ]
  },
  {
   "cell_type": "code",
   "execution_count": null,
   "id": "a2ea3540-a2cd-4134-acf3-300be46722d3",
   "metadata": {},
   "outputs": [],
   "source": [
    "import warnings; warnings.filterwarnings(\"ignore\")\n",
    "from bs4 import BeautifulSoup as bs\n",
    "from tqdm.notebook import tqdm_notebook\n",
    "from random import randint\n",
    "from time import sleep\n",
    "import pandas as pd\n",
    "import numpy as np\n",
    "import requests\n",
    "import time"
   ]
  },
  {
   "cell_type": "code",
   "execution_count": null,
   "id": "c830a6e1-9637-4733-b88a-c9a941f33d27",
   "metadata": {},
   "outputs": [],
   "source": [
    "ncbi_link = \"https://eutils.ncbi.nlm.nih.gov/entrez/eutils/esummary.fcgi?db=gene&id=\""
   ]
  },
  {
   "cell_type": "code",
   "execution_count": null,
   "id": "ddd3fa97-3f6a-40a0-ade0-1b82e6a66307",
   "metadata": {},
   "outputs": [],
   "source": [
    "#genelist_link = \"https://www.genenames.org/cgi-bin/download/custom?col=gd_app_sym&col=md_eg_id&status=Approved&status=Entry%20Withdrawn&hgnc_dbtag=on&limit=100&order_by=gd_app_sym_sort&format=text&submit=submit\"\n",
    "genelist_link = \"https://www.genenames.org/cgi-bin/download/custom?col=gd_app_sym&col=md_eg_id&status=Approved&status=Entry%20Withdrawn&hgnc_dbtag=on&order_by=gd_app_sym_sort&format=text&submit=submit\""
   ]
  },
  {
   "cell_type": "code",
   "execution_count": null,
   "id": "21896826-9e90-4411-8320-042a949c78bc",
   "metadata": {},
   "outputs": [],
   "source": [
    "df_genelist = pd.read_csv(genelist_link, header=0, sep=\"\\t\", error_bad_lines=False)\n",
    "df_genelist"
   ]
  },
  {
   "cell_type": "code",
   "execution_count": null,
   "id": "4afd597f-f1c3-490c-9850-b1ccc1d607ce",
   "metadata": {},
   "outputs": [],
   "source": [
    "genelist = df_genelist['NCBI Gene ID(supplied by NCBI)'].fillna(0).astype(int).tolist()\n",
    "genelist = [x for x in genelist if str(x) != 'nan']\n",
    "genelist = [x for x in genelist if str(x) != '0']\n",
    "print(genelist)"
   ]
  },
  {
   "cell_type": "code",
   "execution_count": null,
   "id": "7a5dabdd-02c0-472d-8cb7-5ffecbb8abe4",
   "metadata": {},
   "outputs": [],
   "source": []
  },
  {
   "cell_type": "code",
   "execution_count": null,
   "id": "676ce216-d5b4-4815-9404-4455e8985f45",
   "metadata": {},
   "outputs": [],
   "source": [
    "bs_data = []\n",
    "\n",
    "for i in tqdm_notebook(genelist, desc = 'Progress: '):\n",
    "    try:\n",
    "        url_link = str(ncbi_link + str(i)); r = requests.get(url_link)\n",
    "        soup = bs(r.content,'xml')\n",
    "        name_bs = soup.find(\"Name\").text\n",
    "        description_bs = soup.find(\"Description\").text\n",
    "        species_bs = soup.find(\"ScientificName\").text\n",
    "        aliases_bs = soup.find(\"OtherAliases\").text\n",
    "        summary_bs = soup.find(\"Summary\").text\n",
    "        \n",
    "        #print(i, '\\t\\t\\t', name_bs, '\\t\\t\\t', species_bs, '\\t\\t\\t', description_bs)\n",
    "\n",
    "        bs_data.append({'UID': i,\n",
    "                        'ScientificName': species_bs,\n",
    "                        'Description': description_bs,\n",
    "                        'Name': name_bs,\n",
    "                        'Summary': summary_bs})\n",
    "\n",
    "    except AttributeError:\n",
    "        print(\"Gene Number: \" + str(i) + \" Error!!!\")\n",
    "        \n",
    "print(\"Done!!!\")"
   ]
  },
  {
   "cell_type": "code",
   "execution_count": null,
   "id": "cc795193-5271-4494-8da7-1948e64b6515",
   "metadata": {},
   "outputs": [],
   "source": [
    "df_bs = pd.DataFrame(data=bs_data, columns=['UID', 'ScientificName', 'Name','Description', 'Summary'])"
   ]
  },
  {
   "cell_type": "code",
   "execution_count": null,
   "id": "be15aad4-62db-4b2a-8fbb-a519b799125d",
   "metadata": {},
   "outputs": [],
   "source": [
    "df_bs.to_csv(\"output.csv\", index=False, sep ='\\t')"
   ]
  }
 ],
 "metadata": {
  "kernelspec": {
   "display_name": "Python 3 (ipykernel)",
   "language": "python",
   "name": "python3"
  },
  "language_info": {
   "codemirror_mode": {
    "name": "ipython",
    "version": 3
   },
   "file_extension": ".py",
   "mimetype": "text/x-python",
   "name": "python",
   "nbconvert_exporter": "python",
   "pygments_lexer": "ipython3",
   "version": "3.9.7"
  }
 },
 "nbformat": 4,
 "nbformat_minor": 5
}
