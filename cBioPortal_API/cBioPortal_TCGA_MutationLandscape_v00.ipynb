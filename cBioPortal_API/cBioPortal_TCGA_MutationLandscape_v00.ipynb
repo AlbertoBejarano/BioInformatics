{
 "cells": [
  {
   "cell_type": "code",
   "execution_count": 1,
   "id": "14d077a2-7d4b-416a-a85d-eb2899c874d9",
   "metadata": {},
   "outputs": [
    {
     "name": "stdout",
     "output_type": "stream",
     "text": [
      "June 07, 2024 21:19:03\n"
     ]
    }
   ],
   "source": [
    "# cBioPortal_GeneExprMutation.v001\n",
    "# Alberto Bejarano (2024)\n",
    "import time; start = time.time()\n",
    "from datetime import datetime; print(datetime.now().strftime(\"%B %d, %Y %H:%M:%S\"))"
   ]
  },
  {
   "cell_type": "code",
   "execution_count": 2,
   "id": "7b08ac1c-bad9-41a1-9ea8-ed8c4e3bfd83",
   "metadata": {},
   "outputs": [],
   "source": [
    "# https://pybioportal.readthedocs.io/en/latest/index.html\n",
    "# https://github.com/Matteo-Valerio/pyBioPortal/tree/master/examples\n",
    "# https://github.com/LLCampos/pybioportal\n",
    "# https://pypi.org/project/pybioportal/\n",
    "# https://www.biostars.org/p/106127/\n",
    "# https://docs.cbioportal.org/user-guide/faq/#what-are-mrna-and-microrna-z-scores\n",
    "# https://www.ebi.ac.uk/gxa/FAQ.html"
   ]
  },
  {
   "cell_type": "code",
   "execution_count": 3,
   "id": "7c539272-a15a-4ce8-aed1-9b1c42e6c4a9",
   "metadata": {},
   "outputs": [],
   "source": [
    "#!pip install pybioportal\n",
    "#!conda install -c matteo.valerio pybioportal\n",
    "#!pip install autograd"
   ]
  },
  {
   "cell_type": "code",
   "execution_count": 4,
   "id": "01a47069-7b75-4195-b997-2e9fa24a24e6",
   "metadata": {},
   "outputs": [],
   "source": [
    "#%config InlineBackend.figure_format = \"retina\"\n",
    "#%matplotlib inline"
   ]
  },
  {
   "cell_type": "code",
   "execution_count": 5,
   "id": "39a5953b-ff5c-41f9-8092-acdcf0a00c33",
   "metadata": {},
   "outputs": [],
   "source": [
    "from pybioportal import server_running_status as srs\n",
    "from pybioportal import molecular_profiles as mf\n",
    "from pybioportal import molecular_data as md\n",
    "from pybioportal import mutations as mts\n",
    "from pybioportal import samples as sp\n",
    "#          -          -          -          -          -          -          -          -          -          -          -  \n",
    "import pandas as pd\n",
    "pd.set_option('display.precision', 2)\n",
    "pd.set_option('display.max_columns', 200)\n",
    "pd.set_option('display.width', 1000)\n",
    "pd.options.display.float_format = '{:.3f}'.format\n",
    "pd.set_option('display.precision', 3)\n",
    "\n",
    "#        -         -        -        -         -        -         -        -        -         -\n",
    "import warnings; warnings.filterwarnings(\"ignore\")\n",
    "#from scipy.stats import mannwhitneyu, normaltest\n",
    "#from statannotations.Annotator import Annotator\n",
    "#from statannot import add_stat_annotation\n",
    "import matplotlib.pyplot as plt\n",
    "import matplotlib.transforms\n",
    "import autograd.numpy as np\n",
    "import seaborn as sns"
   ]
  },
  {
   "cell_type": "code",
   "execution_count": 6,
   "id": "9b35a7ab-cbf6-4a06-8705-3709805abc3a",
   "metadata": {},
   "outputs": [
    {
     "data": {
      "text/html": [
       "<div>\n",
       "<style scoped>\n",
       "    .dataframe tbody tr th:only-of-type {\n",
       "        vertical-align: middle;\n",
       "    }\n",
       "\n",
       "    .dataframe tbody tr th {\n",
       "        vertical-align: top;\n",
       "    }\n",
       "\n",
       "    .dataframe thead th {\n",
       "        text-align: right;\n",
       "    }\n",
       "</style>\n",
       "<table border=\"1\" class=\"dataframe\">\n",
       "  <thead>\n",
       "    <tr style=\"text-align: right;\">\n",
       "      <th></th>\n",
       "      <th>status</th>\n",
       "    </tr>\n",
       "  </thead>\n",
       "  <tbody>\n",
       "    <tr>\n",
       "      <th>0</th>\n",
       "      <td>UP</td>\n",
       "    </tr>\n",
       "  </tbody>\n",
       "</table>\n",
       "</div>"
      ],
      "text/plain": [
       "  status\n",
       "0     UP"
      ]
     },
     "execution_count": 6,
     "metadata": {},
     "output_type": "execute_result"
    }
   ],
   "source": [
    "srs.get_server_status()"
   ]
  },
  {
   "cell_type": "code",
   "execution_count": 7,
   "id": "4678fbae-c950-4575-9617-b9f4a04da909",
   "metadata": {},
   "outputs": [],
   "source": [
    "GenesOfInterest = [\"PDCD1\", \"CD274\", \"CTLA4\"]\n",
    "GenesOfInterest = [\"5133\", \"29126\", \"1493\"]\n",
    "GenesOfInterest = [\"PDCD1\", \"CD274\", \"CTLA4\"]\n",
    "GenesOfInterest = ['EGFR', 'ERBB2', 'PTEN', 'CCND1', 'TP53', 'CDKN1B', 'KRAS', 'NRAS', 'HRAS', 'BRAF', 'PIK3CA', 'TTN']\n",
    "\n",
    "GenesOfInterest = ['TP53', 'TTN']"
   ]
  },
  {
   "cell_type": "code",
   "execution_count": 8,
   "id": "8d684e79-313d-4fe0-9804-6bf6eca6a056",
   "metadata": {},
   "outputs": [
    {
     "data": {
      "text/html": [
       "<div>\n",
       "<style scoped>\n",
       "    .dataframe tbody tr th:only-of-type {\n",
       "        vertical-align: middle;\n",
       "    }\n",
       "\n",
       "    .dataframe tbody tr th {\n",
       "        vertical-align: top;\n",
       "    }\n",
       "\n",
       "    .dataframe thead th {\n",
       "        text-align: right;\n",
       "    }\n",
       "</style>\n",
       "<table border=\"1\" class=\"dataframe\">\n",
       "  <thead>\n",
       "    <tr style=\"text-align: right;\">\n",
       "      <th></th>\n",
       "      <th>ApprovedSymbol</th>\n",
       "      <th>entrezGeneId</th>\n",
       "    </tr>\n",
       "  </thead>\n",
       "  <tbody>\n",
       "    <tr>\n",
       "      <th>45970</th>\n",
       "      <td>TTN</td>\n",
       "      <td>7273</td>\n",
       "    </tr>\n",
       "  </tbody>\n",
       "</table>\n",
       "</div>"
      ],
      "text/plain": [
       "      ApprovedSymbol  entrezGeneId\n",
       "45970            TTN          7273"
      ]
     },
     "execution_count": 8,
     "metadata": {},
     "output_type": "execute_result"
    }
   ],
   "source": [
    "genes_df = pd.read_csv(\"./metadata/HGNC_table.txt\", header=0, sep='\\t', quotechar='\"', on_bad_lines=\"warn\")\n",
    "genes_df = genes_df.dropna(subset=['NCBI Gene ID'])\n",
    "genes_df[\"NCBI Gene ID\"] = genes_df[\"NCBI Gene ID\"].astype(int)\n",
    "genes_df = genes_df[genes_df[\"Approved symbol\"].isin(GenesOfInterest)]\n",
    "genes_df = genes_df[['Approved symbol', 'NCBI Gene ID']].copy()\n",
    "genes_df.rename({'NCBI Gene ID':'entrezGeneId', 'Approved symbol':'ApprovedSymbol'},axis=1,inplace=True)\n",
    "genes_df.sample()"
   ]
  },
  {
   "cell_type": "code",
   "execution_count": 9,
   "id": "38bc796c-c503-426a-b7a4-8694b2dca56d",
   "metadata": {},
   "outputs": [
    {
     "name": "stdout",
     "output_type": "stream",
     "text": [
      "['TP53', 'TTN']\n"
     ]
    }
   ],
   "source": [
    "genes = sorted(genes_df['ApprovedSymbol'].astype(str).unique().tolist()); print(genes)"
   ]
  },
  {
   "cell_type": "code",
   "execution_count": 10,
   "id": "a53a7687-b889-41fa-bf30-9ac558168ebd",
   "metadata": {},
   "outputs": [
    {
     "name": "stdout",
     "output_type": "stream",
     "text": [
      "['7157', '7273']\n"
     ]
    }
   ],
   "source": [
    "NCBIgenes = sorted(genes_df['entrezGeneId'].astype(str).unique().tolist()); print(NCBIgenes)"
   ]
  },
  {
   "cell_type": "code",
   "execution_count": 11,
   "id": "5b18ee78-9c20-4764-8f67-7814d1ad533f",
   "metadata": {},
   "outputs": [
    {
     "ename": "NameError",
     "evalue": "name 'df_exp' is not defined",
     "output_type": "error",
     "traceback": [
      "\u001b[1;31m---------------------------------------------------------------------------\u001b[0m",
      "\u001b[1;31mNameError\u001b[0m                                 Traceback (most recent call last)",
      "Cell \u001b[1;32mIn[11], line 1\u001b[0m\n\u001b[1;32m----> 1\u001b[0m molecular_profiles01 \u001b[38;5;241m=\u001b[39m df_exp\u001b[38;5;241m.\u001b[39mmolecularProfileId\u001b[38;5;241m.\u001b[39munique()\u001b[38;5;241m.\u001b[39mtolist()\n\u001b[0;32m      2\u001b[0m \u001b[38;5;28mprint\u001b[39m(\u001b[38;5;28mlen\u001b[39m(molecular_profiles01)); \u001b[38;5;28mprint\u001b[39m(\u001b[38;5;124m'\u001b[39m\u001b[38;5;130;01m\\033\u001b[39;00m\u001b[38;5;124m[33m\u001b[39m\u001b[38;5;124m'\u001b[39m, \u001b[38;5;28msorted\u001b[39m(molecular_profiles01), \u001b[38;5;124m'\u001b[39m\u001b[38;5;130;01m\\033\u001b[39;00m\u001b[38;5;124m[0m\u001b[39m\u001b[38;5;124m'\u001b[39m)\n",
      "\u001b[1;31mNameError\u001b[0m: name 'df_exp' is not defined"
     ]
    }
   ],
   "source": [
    "molecular_profiles01 = df_exp.molecularProfileId.unique().tolist()\n",
    "print(len(molecular_profiles01)); print('\\033[33m', sorted(molecular_profiles01), '\\033[0m')"
   ]
  },
  {
   "cell_type": "code",
   "execution_count": null,
   "id": "8f85d47a-b3e8-4629-be70-52829f321b8a",
   "metadata": {},
   "outputs": [],
   "source": [
    "molecular_profiles02 = df_mut.molecularProfileId.unique().tolist()\n",
    "print(len(molecular_profiles02)); print('\\033[33m', sorted(molecular_profiles02), '\\033[0m')"
   ]
  },
  {
   "cell_type": "code",
   "execution_count": null,
   "id": "4492613b-26e8-4d9c-b854-d8e17495dd9a",
   "metadata": {},
   "outputs": [],
   "source": [
    "#molecular_profiles02 = ['acc_tcga_mutations']"
   ]
  },
  {
   "cell_type": "code",
   "execution_count": null,
   "id": "d7e68df2-c456-4ce4-855e-c1722143152d",
   "metadata": {},
   "outputs": [],
   "source": [
    "%%time\n",
    "exp_data = md.fetch_molecular_data(entrez_gene_ids=NCBIgenes, molecular_profile_ids=molecular_profiles01)\n",
    "exp_data = exp_data[['sampleId', 'entrezGeneId', 'studyId', 'value']].copy()\n",
    "exp_data.sample(3)"
   ]
  },
  {
   "cell_type": "code",
   "execution_count": null,
   "id": "0733379a-63fd-41d3-8e7c-d7ee978f5b48",
   "metadata": {},
   "outputs": [],
   "source": [
    "%%time\n",
    "mut_data = mts.fetch_muts_in_multiple_mol_profs(entrez_gene_ids=NCBIgenes, molecular_profile_ids=molecular_profiles02)\n",
    "mut_data = mut_data[['sampleId', 'entrezGeneId', 'studyId', 'mutationType']].copy()\n",
    "mut_data.sample(5)"
   ]
  },
  {
   "cell_type": "code",
   "execution_count": null,
   "id": "a6efcd77-157a-47eb-9111-055b336a252c",
   "metadata": {},
   "outputs": [],
   "source": [
    "#mutationStatuss = mut_data.mutationStatus.unique().tolist(); print('\\033[33m', sorted(mutationStatuss), '\\033[0m')"
   ]
  },
  {
   "cell_type": "code",
   "execution_count": null,
   "id": "3013853c-386c-4729-be6c-6ce5d056c14a",
   "metadata": {},
   "outputs": [],
   "source": [
    "data = pd.merge(exp_data, mut_data, on=['studyId', 'sampleId', 'entrezGeneId'], how='left')\n",
    "data = pd.merge(data, genes_df, on='entrezGeneId', how='inner')"
   ]
  },
  {
   "cell_type": "code",
   "execution_count": null,
   "id": "a3835c75-f588-42c8-809f-bebf6d28b09f",
   "metadata": {},
   "outputs": [],
   "source": [
    "sampl_data = sp.fetch_samples(sample_list_ids=molecular_profiles01)\n",
    "sampl_data = sampl_data[['sampleId', 'sampleType']].copy()\n",
    "sampl_data.sample()"
   ]
  },
  {
   "cell_type": "code",
   "execution_count": null,
   "id": "6261537b-e73d-4bed-952d-b215cbea283f",
   "metadata": {},
   "outputs": [],
   "source": [
    "data = pd.merge(data, sampl_data, on='sampleId', how='left')\n",
    "data = data[['sampleId', 'studyId', 'sampleType', 'ApprovedSymbol', 'mutationType', 'value']].copy()\n",
    "data['studyId'] = data['studyId'].str.replace('_tcga', '')"
   ]
  },
  {
   "cell_type": "code",
   "execution_count": null,
   "id": "c7577b16-088d-49bd-a5af-1d897490e8e8",
   "metadata": {},
   "outputs": [],
   "source": [
    "data.fillna('No_Mutation', inplace=True)\n",
    "mutationTypes = data.mutationType.unique().tolist(); print('\\033[33m', mutationTypes, '\\033[0m')"
   ]
  },
  {
   "cell_type": "code",
   "execution_count": null,
   "id": "f796c7b0-07f4-4cd0-b663-af9efd091179",
   "metadata": {},
   "outputs": [],
   "source": [
    "data.mutationType.value_counts()"
   ]
  },
  {
   "cell_type": "code",
   "execution_count": null,
   "id": "38f216e1-6849-491b-bdc2-785b1550d070",
   "metadata": {},
   "outputs": [],
   "source": [
    "data.sampleType.value_counts()"
   ]
  },
  {
   "cell_type": "code",
   "execution_count": null,
   "id": "592672e9-0e21-4fe1-b631-abe7f28f1963",
   "metadata": {},
   "outputs": [],
   "source": [
    "impact_mapping = {\n",
    "    'No_Mutation':            'No_impact',\n",
    "    \n",
    "    'Translation_Start_Site': 'Severe',  \n",
    "    'Nonsense_Mutation':      'Severe',\n",
    "    'Frame_Shift_Del':        'Severe',\n",
    "    'Frame_Shift_Ins':        'Severe',\n",
    "    \n",
    "    'Missense_Mutation':      'Moderate',\n",
    "    'Splice_Region':          'Moderate',\n",
    "    'Splice_Site':            'Moderate',\n",
    "    \n",
    "    'In_Frame_Del':           'Mild',\n",
    "    'In_Frame_Ins':           'Mild',\n",
    "\n",
    "}\n",
    "\n",
    "data['impact'] = data['mutationType'].map(impact_mapping)"
   ]
  },
  {
   "cell_type": "code",
   "execution_count": null,
   "id": "0b164981-14f6-4d8a-b39d-bca1569b3f52",
   "metadata": {},
   "outputs": [],
   "source": [
    "data_log2 = data.apply(lambda x: np.log2(x + 1) if np.issubdtype(x.dtype, np.number)else x)"
   ]
  },
  {
   "cell_type": "code",
   "execution_count": null,
   "id": "d290462d-dc16-4bde-b80b-a7f03d08903a",
   "metadata": {},
   "outputs": [],
   "source": [
    "data_log2.sample(10)"
   ]
  },
  {
   "cell_type": "code",
   "execution_count": null,
   "id": "c872d20a-b5fd-4624-89a9-468c8ed39b9b",
   "metadata": {},
   "outputs": [],
   "source": [
    "hue_order = mutationTypes"
   ]
  },
  {
   "cell_type": "code",
   "execution_count": null,
   "id": "ac16ec88-750e-4b89-be98-da3dcb3a3ebf",
   "metadata": {},
   "outputs": [],
   "source": [
    "genes = data_log2.ApprovedSymbol.unique().tolist(); print(genes)"
   ]
  },
  {
   "cell_type": "code",
   "execution_count": null,
   "id": "a85a127c-ad94-4b88-89d4-7d3b1fd61db1",
   "metadata": {},
   "outputs": [],
   "source": [
    "mutationType_palette = {'No_Mutation':'#00FF00',\n",
    "                        'Frame_Shift_Del':'#e76f51',    'Frame_Shift_Ins':'#f4a261',\n",
    "                        'In_Frame_Del':'#e76f51',       'In_Frame_Ins':'#e76f51',\n",
    "                        'Missense_Mutation':'#06d6a0',\n",
    "                        'Nonsense_Mutation':'#06d6a0', \n",
    "                        'Nonstop_Mutation':'#598392', \n",
    "                        'Splice_Site':'#598392',        'Splice_Region':'#598392',\n",
    "                         'Translation_Start_Site':'#e76f51'\n",
    "                       }"
   ]
  },
  {
   "cell_type": "code",
   "execution_count": null,
   "id": "96296260-1012-417e-a2a7-d5602b139c8a",
   "metadata": {},
   "outputs": [],
   "source": [
    "Impact_palette = {'No_impact': '#7E7E7E',\n",
    "                   'Severe':    '#FF0000',\n",
    "                   'Moderate':  '#598392',\n",
    "                   'Mild':      '#598392',\n",
    "                       }"
   ]
  },
  {
   "cell_type": "code",
   "execution_count": null,
   "id": "3ac4ddc8-658e-47f4-8ca1-547809d567c9",
   "metadata": {},
   "outputs": [],
   "source": [
    "for gene in sorted(genes):\n",
    "    fig, ax  = plt.subplots(figsize=(25/2.54, 10/2.54), dpi=150)\n",
    "    df02 = data_log2.loc[data_log2.ApprovedSymbol == gene]; n = len(df02)\n",
    "    df02 = df02.dropna(axis=0, how='any')\n",
    "    #          -          -          -          -          -          -          -          -          -          -          -          -          -          -       \n",
    "    median_df  = df02.groupby(['studyId'])['value'].median().sort_values(ascending=False).reset_index()\n",
    "    indication_list = median_df.studyId.unique().tolist(); # print(indication_list)\n",
    "    #          -          -          -          -          -          -          -          -          -          -          -          -          -          -\n",
    "    data = df02; x='studyId'; y='value'; hue=\"impact\"; order=indication_list; palette=mutationType_palette\n",
    "    #          -          -          -          -          -          -          -          -          -          -          -          -          -          - \n",
    "    str_kws = {'s':5, 'jitter':.45, 'alpha':0.5, 'dodge':True, 'linewidth':0.2,'edgecolor':'#1E1E1E', 'palette': palette,\n",
    "               'order':indication_list, 'hue_order':hue_order}\n",
    "    box_kws = {'linewidth':0.5, 'width':0.75, 'dodge':True, 'showcaps':True, 'whis':1.5, 'fliersize':0, 'saturation':0.20, \n",
    "               'order':indication_list, 'hue_order':hue_order}\n",
    "    #          -          -          -          -          -          -          -          -          -          -          -          -          -          -  \n",
    "    medianprops=dict(linestyle='-', linewidth=1, color=\"firebrick\", alpha=0.5); capprops=dict(linestyle=\"-\", alpha=.5, linewidth=.3);\n",
    "    boxprops=dict(linestyle=\"-\", alpha=.3, linewidth=.3); whiskerprops=dict(linestyle=\"--\", linewidth=.3, color=\"#7E7E7E\");\n",
    "    #          -          -          -          -          -          -          -          -          -          -          -          -          -          -    \n",
    "    g = sns.stripplot(data=data, x=x, y=y, hue=hue, **str_kws, zorder=0, ax=ax)\n",
    "    g = sns.boxplot(data=data,   x=x, y=y, hue=hue, medianprops=medianprops, \n",
    "                    capprops=capprops, boxprops=boxprops, whiskerprops=whiskerprops, **box_kws, zorder=1, ax=ax)\n",
    "    #          -          -          -          -          -          -          -          -          -          -          -          -          -          -   \n",
    "    ax.set_title(gene, fontsize=14, color=\"#7E7E7E\", pad=10)\n",
    "    plt.xlabel(\"\", fontsize=0); plt.ylabel(\"Gene Expression log2[TPM+1]\", fontsize=6, color=\"#7E7E7E\", labelpad=5)\n",
    "    #          -          -          -          -          -          -          -          -          -          -          -          -          -          -    \n",
    "    ax.set_ylim(-.9, 15); ax.set_yscale('linear'); sns.despine(left=True, bottom=True)   \n",
    "    #          -          -          -          -          -          -          -          -          -          -          -          -          -          -        \n",
    "    ax.tick_params(axis=\"x\", colors=\"#cfcfcf\", pad=0, length=2); ax.tick_params(axis=\"y\", colors=\"#cfcfcf\", pad=0, length=3)\n",
    "    plt.xticks(fontsize=10, color=\"#7E7E7E\", rotation=60, ha=\"center\"); ax.tick_params(axis='x', which='major', pad=5)\n",
    "    plt.yticks(fontsize=10, color=\"#7E7E7E\", rotation=0, ha=\"center\"); ax.tick_params(axis='y', which='major', pad=8)\n",
    "    #          -          -          -          -          -          -          -          -          -          -          -          -          -          -  \n",
    "    kws_lines = {\"ls\":\"--\", \"alpha\":0.3, \"linewidth\":.5}\n",
    "    plt.axhline(y=3.46, color=\"g\", **kws_lines); plt.axhline(y=6.67, color=\"orange\", **kws_lines); plt.axhline(y=9.97, color=\"red\", **kws_lines)\n",
    "    kws_box   = {'lw':.2, 'alpha':0.04, 'edgecolor':None}\n",
    "    plt.axhspan(-1, 3.46, color='green', **kws_box); plt.axhspan(3.46, 6.67, color='orange', **kws_box); plt.axhspan(6.67, 15, color='red', **kws_box)\n",
    "    #          -          -          -          -          -          -          -          -          -          -          -          -          -          -       \n",
    "    #annot_kws1 = {'pairs':pairs, 'data':data, 'x':x, 'y':y, 'order':order, 'hue':hue, 'hue_order':hue_order}\n",
    "    #annot_params = {\"test\":\"Mann-Whitney\", \"line_width\":0.5, \"color\":\"#7E7E7E\", \"text_format\":\"star\", 'loc':'inside'}\n",
    "    #try:\n",
    "    #    ax, test_results = Annotator(ax, **annot_kws1).reset_configuration().configure(**annot_params, verbose=0).apply_and_annotate()\n",
    "    #except Exception as inst:\n",
    "    #    print(inst) \n",
    "    #          -          -          -          -          -          -          -          -          -          -          -          -          -          -   \n",
    "    handles, labels = ax.get_legend_handles_labels()\n",
    "    plt.legend(handles[0:2],labels[0:2],fontsize=6,bbox_to_anchor=(1.02,1),loc=2,borderaxespad=0.1)\n",
    "    plt.legend([],[],frameon=False)\n",
    "    #          -          -          -          -          -          -          -          -          -          -          -          -          -          -       \n",
    "    plt.tight_layout(); plt.show(); #plt.close()\n",
    "    #plt.savefig(\"tcga.png\", format=\"png\", bbox_inches=\"tight\", dpi=300)"
   ]
  },
  {
   "cell_type": "code",
   "execution_count": null,
   "id": "b58e6597-2af1-4963-857b-a72b7f836d87",
   "metadata": {},
   "outputs": [],
   "source": [
    "print(\"'cBioPortal_TCGA_MutationLandscape_v01' script run time:\", f'{time.time()-start:.0f}', \"seconds.\")"
   ]
  },
  {
   "cell_type": "code",
   "execution_count": null,
   "id": "8014d432-2197-4dfa-bd43-c8da831fa56a",
   "metadata": {},
   "outputs": [],
   "source": []
  },
  {
   "cell_type": "code",
   "execution_count": null,
   "id": "e0db7de0-8061-4e59-b87f-33334b6ee4d8",
   "metadata": {},
   "outputs": [],
   "source": []
  },
  {
   "cell_type": "markdown",
   "id": "67218aba-d59a-4013-9dda-1b1815e270e3",
   "metadata": {},
   "source": [
    "# "
   ]
  }
 ],
 "metadata": {
  "kernelspec": {
   "display_name": "Python 3 (ipykernel)",
   "language": "python",
   "name": "python3"
  },
  "language_info": {
   "codemirror_mode": {
    "name": "ipython",
    "version": 3
   },
   "file_extension": ".py",
   "mimetype": "text/x-python",
   "name": "python",
   "nbconvert_exporter": "python",
   "pygments_lexer": "ipython3",
   "version": "3.11.9"
  }
 },
 "nbformat": 4,
 "nbformat_minor": 5
}
