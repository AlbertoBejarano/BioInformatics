{
 "cells": [
  {
   "cell_type": "code",
   "execution_count": 1,
   "id": "9b466129-2fc1-4743-b476-ec9e896c21ed",
   "metadata": {},
   "outputs": [],
   "source": [
    "# https://docs.cbioportal.org/web-api-and-clients/\n",
    "# https://www.cbioportal.org/api/swagger-ui/index.html\n",
    "# https://waldronlab.io/cBioPortalData/articles/cBioPortalData.html\n",
    "# https://github.com/mskcc/cbsp-hackathon/blob/master/0-introduction/cbsp_hackathon.ipynb\n",
    "# cBioPortal Codebook: https://github.com/cBioPortal/codebook\n",
    "# https://pybioportal.readthedocs.io/en/latest/molecular_data.html"
   ]
  },
  {
   "cell_type": "code",
   "execution_count": 2,
   "id": "7b08ac1c-bad9-41a1-9ea8-ed8c4e3bfd83",
   "metadata": {},
   "outputs": [],
   "source": [
    "#!conda install bravado\n",
    "# !pip install bravado\n",
    "#!conda install bravado"
   ]
  },
  {
   "cell_type": "code",
   "execution_count": 3,
   "id": "def72495-0749-4076-99e1-c87076c62c0d",
   "metadata": {},
   "outputs": [],
   "source": [
    "#import sys\n",
    "#!{sys.executable} -m pip install jupyter_dash"
   ]
  },
  {
   "cell_type": "code",
   "execution_count": 5,
   "id": "61554978-f52f-49a3-b013-e22561e573de",
   "metadata": {},
   "outputs": [],
   "source": [
    "from bravado.client import SwaggerClient\n",
    "from dash import jupyter_dash as dash\n",
    "dash.default_mode=\"tab\"\n",
    "from dash import dcc, html\n",
    "from dash.dependencies import Input, Output"
   ]
  },
  {
   "cell_type": "code",
   "execution_count": 6,
   "id": "0a953226-a8a0-436e-a853-f6713a57f834",
   "metadata": {},
   "outputs": [],
   "source": [
    "%config Completer.use_jedi = False"
   ]
  },
  {
   "cell_type": "code",
   "execution_count": 7,
   "id": "ef0a886a-da99-4f15-88a0-15d230d5cc2a",
   "metadata": {},
   "outputs": [],
   "source": [
    "cbioportal = SwaggerClient.from_url('https://www.cbioportal.org/api/v2/api-docs',\n",
    "             config={\"validate_requests\":False,\"validate_responses\":False,\"validate_swagger_spec\":False})                       "
   ]
  },
  {
   "cell_type": "code",
   "execution_count": 8,
   "id": "8ba02958-3fa9-4102-a8d4-6efb49c2c72b",
   "metadata": {},
   "outputs": [
    {
     "name": "stdout",
     "output_type": "stream",
     "text": [
      "SwaggerClient(https://www.cbioportal.org/api)\n"
     ]
    }
   ],
   "source": [
    "print(cbioportal)"
   ]
  },
  {
   "cell_type": "code",
   "execution_count": 9,
   "id": "64893166-8ee6-4a1a-9a70-332b2b3c7936",
   "metadata": {},
   "outputs": [
    {
     "data": {
      "text/plain": [
       "['Cancer_Types',\n",
       " 'Clinical_Attributes',\n",
       " 'Clinical_Data',\n",
       " 'Copy_Number_Segments',\n",
       " 'Discrete_Copy_Number_Alterations',\n",
       " 'Gene_Panel_Data',\n",
       " 'Gene_Panels',\n",
       " 'Generic_Assay_Data',\n",
       " 'Generic_Assays',\n",
       " 'Genes',\n",
       " 'Info',\n",
       " 'Molecular_Data',\n",
       " 'Molecular_Profiles',\n",
       " 'Mutations',\n",
       " 'Patients',\n",
       " 'Sample_Lists',\n",
       " 'Samples',\n",
       " 'Server_running_status',\n",
       " 'Studies',\n",
       " 'Treatments']"
      ]
     },
     "execution_count": 9,
     "metadata": {},
     "output_type": "execute_result"
    }
   ],
   "source": [
    "dir(cbioportal)"
   ]
  },
  {
   "cell_type": "code",
   "execution_count": 10,
   "id": "166cc2ff-12f2-48b7-9825-5262152ee3d9",
   "metadata": {},
   "outputs": [
    {
     "name": "stdout",
     "output_type": "stream",
     "text": [
      "TypeOfCancer(cancerTypeId='acc', dedicatedColor='Purple', name='Adrenocortical Carcinoma', parent='adrenal_gland', shortName='ACC')\n"
     ]
    }
   ],
   "source": [
    "acc = cbioportal.Cancer_Types.getCancerTypeUsingGET(cancerTypeId='acc').result()\n",
    "print(acc)"
   ]
  },
  {
   "cell_type": "code",
   "execution_count": 12,
   "id": "fc6b59d3-6207-4d0e-8510-130abd221b4b",
   "metadata": {},
   "outputs": [
    {
     "name": "stdout",
     "output_type": "stream",
     "text": [
      "In total there are 403 studies in cBioPortal, spanning 885 different types of cancer.\n"
     ]
    }
   ],
   "source": [
    "studies = cbioportal.Studies.getAllStudiesUsingGET().result()\n",
    "cancer_types = cbioportal.Cancer_Types.getAllCancerTypesUsingGET().result()\n",
    "print(\"In total there are {} studies in cBioPortal, spanning {} different types of cancer.\".format(len(studies), len(cancer_types)))"
   ]
  },
  {
   "cell_type": "code",
   "execution_count": 13,
   "id": "9290b489-2785-41ca-9ff6-fb2e8f04e82f",
   "metadata": {},
   "outputs": [
    {
     "ename": "AttributeError",
     "evalue": "Resource mutations not found. Available resources: Cancer_Types, Clinical_Attributes, Clinical_Data, Copy_Number_Segments, Discrete_Copy_Number_Alterations, Gene_Panel_Data, Gene_Panels, Generic_Assay_Data, Generic_Assays, Genes, Info, Molecular_Data, Molecular_Profiles, Mutations, Patients, Sample_Lists, Samples, Server_running_status, Studies, Treatments",
     "output_type": "error",
     "traceback": [
      "\u001b[1;31m---------------------------------------------------------------------------\u001b[0m",
      "\u001b[1;31mAttributeError\u001b[0m                            Traceback (most recent call last)",
      "Cell \u001b[1;32mIn[13], line 1\u001b[0m\n\u001b[1;32m----> 1\u001b[0m muts \u001b[38;5;241m=\u001b[39m cbioportal\u001b[38;5;241m.\u001b[39mmutations\u001b[38;5;241m.\u001b[39mgetMutationsInMolecularProfileBySampleListIdUsingGET(\n\u001b[0;32m      2\u001b[0m     molecularProfileId\u001b[38;5;241m=\u001b[39m\u001b[38;5;124m\"\u001b[39m\u001b[38;5;124mmsk_impact_2017_mutations\u001b[39m\u001b[38;5;124m\"\u001b[39m, \u001b[38;5;66;03m# {study_id}_mutations gives default mutations profile for study \u001b[39;00m\n\u001b[0;32m      3\u001b[0m     sampleListId\u001b[38;5;241m=\u001b[39m\u001b[38;5;124m\"\u001b[39m\u001b[38;5;124mmsk_impact_2017_all\u001b[39m\u001b[38;5;124m\"\u001b[39m, \u001b[38;5;66;03m# {study_id}_all includes all samples\u001b[39;00m\n\u001b[0;32m      4\u001b[0m     projection\u001b[38;5;241m=\u001b[39m\u001b[38;5;124m\"\u001b[39m\u001b[38;5;124mDETAILED\u001b[39m\u001b[38;5;124m\"\u001b[39m \u001b[38;5;66;03m# include gene info\u001b[39;00m\n\u001b[0;32m      5\u001b[0m )\u001b[38;5;241m.\u001b[39mresult()\n",
      "File \u001b[1;32m~\\anaconda3\\Lib\\site-packages\\bravado\\client.py:170\u001b[0m, in \u001b[0;36mSwaggerClient.__getattr__\u001b[1;34m(self, item)\u001b[0m\n\u001b[0;32m    169\u001b[0m \u001b[38;5;28;01mdef\u001b[39;00m \u001b[38;5;21m__getattr__\u001b[39m(\u001b[38;5;28mself\u001b[39m, item):\n\u001b[1;32m--> 170\u001b[0m     \u001b[38;5;28;01mreturn\u001b[39;00m \u001b[38;5;28mself\u001b[39m\u001b[38;5;241m.\u001b[39m_get_resource(item)\n",
      "File \u001b[1;32m~\\anaconda3\\Lib\\site-packages\\bravado\\client.py:150\u001b[0m, in \u001b[0;36mSwaggerClient._get_resource\u001b[1;34m(self, item)\u001b[0m\n\u001b[0;32m    148\u001b[0m resource \u001b[38;5;241m=\u001b[39m \u001b[38;5;28mself\u001b[39m\u001b[38;5;241m.\u001b[39mswagger_spec\u001b[38;5;241m.\u001b[39mresources\u001b[38;5;241m.\u001b[39mget(item)\n\u001b[0;32m    149\u001b[0m \u001b[38;5;28;01mif\u001b[39;00m \u001b[38;5;129;01mnot\u001b[39;00m resource:\n\u001b[1;32m--> 150\u001b[0m     \u001b[38;5;28;01mraise\u001b[39;00m \u001b[38;5;167;01mAttributeError\u001b[39;00m(\n\u001b[0;32m    151\u001b[0m         \u001b[38;5;124m'\u001b[39m\u001b[38;5;124mResource \u001b[39m\u001b[38;5;132;01m{0}\u001b[39;00m\u001b[38;5;124m not found. Available resources: \u001b[39m\u001b[38;5;132;01m{1}\u001b[39;00m\u001b[38;5;124m'\u001b[39m\n\u001b[0;32m    152\u001b[0m         \u001b[38;5;241m.\u001b[39mformat(item, \u001b[38;5;124m'\u001b[39m\u001b[38;5;124m, \u001b[39m\u001b[38;5;124m'\u001b[39m\u001b[38;5;241m.\u001b[39mjoin(\u001b[38;5;28mdir\u001b[39m(\u001b[38;5;28mself\u001b[39m))))\n\u001b[0;32m    154\u001b[0m \u001b[38;5;66;03m# Wrap bravado-core's Resource and Operation objects in order to\u001b[39;00m\n\u001b[0;32m    155\u001b[0m \u001b[38;5;66;03m# execute a service call via the http_client.\u001b[39;00m\n\u001b[0;32m    156\u001b[0m \u001b[38;5;28;01mreturn\u001b[39;00m ResourceDecorator(resource, \u001b[38;5;28mself\u001b[39m\u001b[38;5;241m.\u001b[39m__also_return_response)\n",
      "\u001b[1;31mAttributeError\u001b[0m: Resource mutations not found. Available resources: Cancer_Types, Clinical_Attributes, Clinical_Data, Copy_Number_Segments, Discrete_Copy_Number_Alterations, Gene_Panel_Data, Gene_Panels, Generic_Assay_Data, Generic_Assays, Genes, Info, Molecular_Data, Molecular_Profiles, Mutations, Patients, Sample_Lists, Samples, Server_running_status, Studies, Treatments"
     ]
    }
   ],
   "source": [
    "muts = cbioportal.mutations.getMutationsInMolecularProfileBySampleListIdUsingGET(\n",
    "    molecularProfileId = \"msk_impact_2017_mutations\",  # {study_id}_mutations gives default mutations profile for study \n",
    "    sampleListId       = \"msk_impact_2017_all\",        # {study_id}_all includes all samples\n",
    "    projection         = \"DETAILED\"                    # include gene info\n",
    ").result()"
   ]
  },
  {
   "cell_type": "code",
   "execution_count": null,
   "id": "ee840914-767b-4561-97d6-175d5ede539c",
   "metadata": {},
   "outputs": [],
   "source": []
  },
  {
   "cell_type": "code",
   "execution_count": null,
   "id": "13cbabac-adbb-4c7b-9de9-bdb7cd23e94d",
   "metadata": {},
   "outputs": [],
   "source": []
  },
  {
   "cell_type": "code",
   "execution_count": null,
   "id": "90097cf9-a324-48ca-9beb-58be8c0ac977",
   "metadata": {},
   "outputs": [],
   "source": []
  },
  {
   "cell_type": "code",
   "execution_count": null,
   "id": "5c16482d-63b3-4328-9630-8ded8ef60188",
   "metadata": {},
   "outputs": [],
   "source": []
  },
  {
   "cell_type": "code",
   "execution_count": null,
   "id": "34c903e2-8ab9-4a35-9ade-907a67f1ead5",
   "metadata": {},
   "outputs": [],
   "source": []
  },
  {
   "cell_type": "code",
   "execution_count": null,
   "id": "346dcaf3-f669-4a9e-b139-76fa61597aa5",
   "metadata": {},
   "outputs": [],
   "source": []
  },
  {
   "cell_type": "code",
   "execution_count": null,
   "id": "0ac04a6a-0df4-4a92-92d6-d0b63072159f",
   "metadata": {},
   "outputs": [],
   "source": []
  },
  {
   "cell_type": "code",
   "execution_count": null,
   "id": "3c79d328-a8d7-4b6e-8411-756f0f6998d3",
   "metadata": {},
   "outputs": [],
   "source": []
  },
  {
   "cell_type": "code",
   "execution_count": null,
   "id": "97eca476-43b9-4012-92f8-226a29206fc1",
   "metadata": {},
   "outputs": [],
   "source": []
  },
  {
   "cell_type": "code",
   "execution_count": null,
   "id": "0f43794e-adf8-4630-8a66-a5a1cf8834a5",
   "metadata": {},
   "outputs": [],
   "source": []
  },
  {
   "cell_type": "code",
   "execution_count": null,
   "id": "6f84d188-ffa9-40ab-8c69-e604731d5e82",
   "metadata": {},
   "outputs": [],
   "source": []
  },
  {
   "cell_type": "code",
   "execution_count": null,
   "id": "945a2fe9-250a-43f9-bce2-954431522d55",
   "metadata": {},
   "outputs": [],
   "source": []
  },
  {
   "cell_type": "code",
   "execution_count": null,
   "id": "e398fa1a-6e7f-4c1e-ac33-40687d8027c1",
   "metadata": {},
   "outputs": [],
   "source": []
  },
  {
   "cell_type": "code",
   "execution_count": null,
   "id": "6172c04d-c2de-46d1-af14-20f83d88d5a2",
   "metadata": {},
   "outputs": [],
   "source": []
  },
  {
   "cell_type": "code",
   "execution_count": null,
   "id": "1717265c-5865-4a18-abcd-3fc3fdd32e4b",
   "metadata": {},
   "outputs": [],
   "source": []
  },
  {
   "cell_type": "code",
   "execution_count": null,
   "id": "649f9b47-748a-44f9-bda0-917a5002da16",
   "metadata": {},
   "outputs": [],
   "source": []
  },
  {
   "cell_type": "code",
   "execution_count": null,
   "id": "2a6c6a21-ff69-4c22-841c-b4f98901a568",
   "metadata": {},
   "outputs": [],
   "source": []
  },
  {
   "cell_type": "code",
   "execution_count": null,
   "id": "4c5476a5-67c9-4f50-a279-f2c073f07821",
   "metadata": {},
   "outputs": [],
   "source": []
  },
  {
   "cell_type": "code",
   "execution_count": null,
   "id": "e96392a6-3fba-4f15-ba69-a07925d6cb6c",
   "metadata": {},
   "outputs": [],
   "source": []
  },
  {
   "cell_type": "code",
   "execution_count": null,
   "id": "780875de-37c9-46e1-ae6c-80f1191e0966",
   "metadata": {},
   "outputs": [],
   "source": []
  },
  {
   "cell_type": "code",
   "execution_count": null,
   "id": "ea22afbb-5d8a-4488-ab22-5d44c5aadba1",
   "metadata": {},
   "outputs": [],
   "source": []
  },
  {
   "cell_type": "code",
   "execution_count": null,
   "id": "df8e1687-7064-4021-a59c-00ef35031c00",
   "metadata": {},
   "outputs": [],
   "source": []
  },
  {
   "cell_type": "code",
   "execution_count": null,
   "id": "51473374-3c57-4a57-9704-6c55df5119c9",
   "metadata": {},
   "outputs": [],
   "source": []
  }
 ],
 "metadata": {
  "kernelspec": {
   "display_name": "Python 3 (ipykernel)",
   "language": "python",
   "name": "python3"
  },
  "language_info": {
   "codemirror_mode": {
    "name": "ipython",
    "version": 3
   },
   "file_extension": ".py",
   "mimetype": "text/x-python",
   "name": "python",
   "nbconvert_exporter": "python",
   "pygments_lexer": "ipython3",
   "version": "3.11.7"
  }
 },
 "nbformat": 4,
 "nbformat_minor": 5
}
