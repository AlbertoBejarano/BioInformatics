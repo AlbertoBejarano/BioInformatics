{
 "cells": [
  {
   "cell_type": "code",
   "execution_count": 1,
   "id": "834666df-0de8-4141-a50f-cd5681ed013f",
   "metadata": {},
   "outputs": [
    {
     "data": {
      "text/html": [
       "<div>\n",
       "<style scoped>\n",
       "    .dataframe tbody tr th:only-of-type {\n",
       "        vertical-align: middle;\n",
       "    }\n",
       "\n",
       "    .dataframe tbody tr th {\n",
       "        vertical-align: top;\n",
       "    }\n",
       "\n",
       "    .dataframe thead th {\n",
       "        text-align: right;\n",
       "    }\n",
       "</style>\n",
       "<table border=\"1\" class=\"dataframe\">\n",
       "  <thead>\n",
       "    <tr style=\"text-align: right;\">\n",
       "      <th></th>\n",
       "      <th>status</th>\n",
       "    </tr>\n",
       "  </thead>\n",
       "  <tbody>\n",
       "    <tr>\n",
       "      <th>0</th>\n",
       "      <td>UP</td>\n",
       "    </tr>\n",
       "  </tbody>\n",
       "</table>\n",
       "</div>"
      ],
      "text/plain": [
       "  status\n",
       "0     UP"
      ]
     },
     "execution_count": 1,
     "metadata": {},
     "output_type": "execute_result"
    }
   ],
   "source": [
    "from pybioportal import server_running_status as srs\n",
    "srs.get_server_status()"
   ]
  },
  {
   "cell_type": "code",
   "execution_count": 2,
   "id": "e69eaaf3-32f3-4114-84a6-a5c7553aecdf",
   "metadata": {},
   "outputs": [],
   "source": [
    "from pybioportal import molecular_profiles as mf\n",
    "df1 = mf.get_all_molecular_profiles()"
   ]
  },
  {
   "cell_type": "code",
   "execution_count": 3,
   "id": "ce6aae14-c54e-4563-8d6c-254890a92c07",
   "metadata": {},
   "outputs": [],
   "source": [
    "molecularProfileIdType = \"_tcga_rna_seq_v2_mrna\"\n",
    "filterout = [\"_median_Zscores\", \"_median_all_sample_Zscores\", \"_gistic\", \"_linear_CNA\", \"_mutations\", \"_methylation_hm450\", \"_pan_can_atlas_\",\n",
    "             \"rppa\", \"log2CNA\", \"structural_variants\", \"protein_quantification\", \"U133\", \"methylation_hm27\", \"tcga_mrna\",\n",
    "            ]"
   ]
  },
  {
   "cell_type": "code",
   "execution_count": 4,
   "id": "4467e2cf-5da0-4f71-8a75-bec7b35d3e5d",
   "metadata": {},
   "outputs": [],
   "source": [
    "df1 = df1[~df1['molecularProfileId'].str.contains('|'.join(filterout))]\n",
    "df1 = df1[df1['molecularProfileId'].str.contains(molecularProfileIdType)]"
   ]
  },
  {
   "cell_type": "code",
   "execution_count": 5,
   "id": "6b98fdf4-56c5-4a56-914d-a05d6a0de6b0",
   "metadata": {},
   "outputs": [
    {
     "name": "stdout",
     "output_type": "stream",
     "text": [
      "['acc_tcga_rna_seq_v2_mrna', 'blca_tcga_rna_seq_v2_mrna', 'brca_tcga_rna_seq_v2_mrna', 'cesc_tcga_rna_seq_v2_mrna', 'chol_tcga_rna_seq_v2_mrna', 'coadread_tcga_rna_seq_v2_mrna', 'dlbc_tcga_rna_seq_v2_mrna', 'esca_tcga_rna_seq_v2_mrna', 'gbm_tcga_rna_seq_v2_mrna', 'hnsc_tcga_rna_seq_v2_mrna', 'kich_tcga_rna_seq_v2_mrna', 'kirc_tcga_rna_seq_v2_mrna', 'kirp_tcga_rna_seq_v2_mrna', 'laml_tcga_rna_seq_v2_mrna', 'lgg_tcga_rna_seq_v2_mrna', 'lihc_tcga_rna_seq_v2_mrna', 'luad_tcga_rna_seq_v2_mrna', 'lusc_tcga_rna_seq_v2_mrna', 'meso_tcga_rna_seq_v2_mrna', 'ov_tcga_rna_seq_v2_mrna', 'paad_tcga_rna_seq_v2_mrna', 'pcpg_tcga_rna_seq_v2_mrna', 'prad_tcga_rna_seq_v2_mrna', 'sarc_tcga_rna_seq_v2_mrna', 'skcm_tcga_rna_seq_v2_mrna', 'stad_tcga_rna_seq_v2_mrna', 'tgct_tcga_rna_seq_v2_mrna', 'thca_tcga_rna_seq_v2_mrna', 'thym_tcga_rna_seq_v2_mrna', 'ucec_tcga_rna_seq_v2_mrna', 'ucs_tcga_rna_seq_v2_mrna', 'uvm_tcga_rna_seq_v2_mrna']\n"
     ]
    }
   ],
   "source": [
    "molecularProfileId_list = df1.molecularProfileId.unique().tolist()\n",
    "print(sorted(molecularProfileId_list))"
   ]
  },
  {
   "cell_type": "code",
   "execution_count": 6,
   "id": "e325b4d3-f439-486f-86d5-f1201c3d9c69",
   "metadata": {},
   "outputs": [
    {
     "data": {
      "text/html": [
       "<div>\n",
       "<style scoped>\n",
       "    .dataframe tbody tr th:only-of-type {\n",
       "        vertical-align: middle;\n",
       "    }\n",
       "\n",
       "    .dataframe tbody tr th {\n",
       "        vertical-align: top;\n",
       "    }\n",
       "\n",
       "    .dataframe thead th {\n",
       "        text-align: right;\n",
       "    }\n",
       "</style>\n",
       "<table border=\"1\" class=\"dataframe\">\n",
       "  <thead>\n",
       "    <tr style=\"text-align: right;\">\n",
       "      <th></th>\n",
       "      <th>molecularAlterationType</th>\n",
       "      <th>datatype</th>\n",
       "      <th>name</th>\n",
       "      <th>description</th>\n",
       "      <th>showProfileInAnalysisTab</th>\n",
       "      <th>patientLevel</th>\n",
       "      <th>molecularProfileId</th>\n",
       "      <th>studyId</th>\n",
       "      <th>genericAssayType</th>\n",
       "      <th>pivotThreshold</th>\n",
       "      <th>sortOrder</th>\n",
       "    </tr>\n",
       "  </thead>\n",
       "  <tbody>\n",
       "    <tr>\n",
       "      <th>179</th>\n",
       "      <td>MRNA_EXPRESSION</td>\n",
       "      <td>CONTINUOUS</td>\n",
       "      <td>mRNA expression (RNA Seq V2 RSEM)</td>\n",
       "      <td>mRNA gene expression (RNA Seq V2 RSEM)</td>\n",
       "      <td>False</td>\n",
       "      <td>False</td>\n",
       "      <td>coadread_tcga_rna_seq_v2_mrna</td>\n",
       "      <td>coadread_tcga</td>\n",
       "      <td>NaN</td>\n",
       "      <td>NaN</td>\n",
       "      <td>NaN</td>\n",
       "    </tr>\n",
       "    <tr>\n",
       "      <th>702</th>\n",
       "      <td>MRNA_EXPRESSION</td>\n",
       "      <td>CONTINUOUS</td>\n",
       "      <td>mRNA expression (RNA Seq V2 RSEM)</td>\n",
       "      <td>mRNA gene expression (RNA Seq V2 RSEM)</td>\n",
       "      <td>False</td>\n",
       "      <td>False</td>\n",
       "      <td>skcm_tcga_rna_seq_v2_mrna</td>\n",
       "      <td>skcm_tcga</td>\n",
       "      <td>NaN</td>\n",
       "      <td>NaN</td>\n",
       "      <td>NaN</td>\n",
       "    </tr>\n",
       "    <tr>\n",
       "      <th>1356</th>\n",
       "      <td>MRNA_EXPRESSION</td>\n",
       "      <td>CONTINUOUS</td>\n",
       "      <td>mRNA expression (RNA Seq V2 RSEM)</td>\n",
       "      <td>mRNA gene expression (RNA Seq V2 RSEM)</td>\n",
       "      <td>False</td>\n",
       "      <td>False</td>\n",
       "      <td>acc_tcga_rna_seq_v2_mrna</td>\n",
       "      <td>acc_tcga</td>\n",
       "      <td>NaN</td>\n",
       "      <td>NaN</td>\n",
       "      <td>NaN</td>\n",
       "    </tr>\n",
       "    <tr>\n",
       "      <th>1365</th>\n",
       "      <td>MRNA_EXPRESSION</td>\n",
       "      <td>CONTINUOUS</td>\n",
       "      <td>mRNA expression (RNA Seq V2 RSEM)</td>\n",
       "      <td>mRNA gene expression (RNA Seq V2 RSEM)</td>\n",
       "      <td>False</td>\n",
       "      <td>False</td>\n",
       "      <td>blca_tcga_rna_seq_v2_mrna</td>\n",
       "      <td>blca_tcga</td>\n",
       "      <td>NaN</td>\n",
       "      <td>NaN</td>\n",
       "      <td>NaN</td>\n",
       "    </tr>\n",
       "    <tr>\n",
       "      <th>1425</th>\n",
       "      <td>MRNA_EXPRESSION</td>\n",
       "      <td>CONTINUOUS</td>\n",
       "      <td>mRNA expression (RNA Seq V2 RSEM)</td>\n",
       "      <td>mRNA gene expression (RNA Seq V2 RSEM)</td>\n",
       "      <td>False</td>\n",
       "      <td>False</td>\n",
       "      <td>brca_tcga_rna_seq_v2_mrna</td>\n",
       "      <td>brca_tcga</td>\n",
       "      <td>NaN</td>\n",
       "      <td>NaN</td>\n",
       "      <td>NaN</td>\n",
       "    </tr>\n",
       "  </tbody>\n",
       "</table>\n",
       "</div>"
      ],
      "text/plain": [
       "     molecularAlterationType    datatype                               name  \\\n",
       "179          MRNA_EXPRESSION  CONTINUOUS  mRNA expression (RNA Seq V2 RSEM)   \n",
       "702          MRNA_EXPRESSION  CONTINUOUS  mRNA expression (RNA Seq V2 RSEM)   \n",
       "1356         MRNA_EXPRESSION  CONTINUOUS  mRNA expression (RNA Seq V2 RSEM)   \n",
       "1365         MRNA_EXPRESSION  CONTINUOUS  mRNA expression (RNA Seq V2 RSEM)   \n",
       "1425         MRNA_EXPRESSION  CONTINUOUS  mRNA expression (RNA Seq V2 RSEM)   \n",
       "\n",
       "                                 description  showProfileInAnalysisTab  \\\n",
       "179   mRNA gene expression (RNA Seq V2 RSEM)                     False   \n",
       "702   mRNA gene expression (RNA Seq V2 RSEM)                     False   \n",
       "1356  mRNA gene expression (RNA Seq V2 RSEM)                     False   \n",
       "1365  mRNA gene expression (RNA Seq V2 RSEM)                     False   \n",
       "1425  mRNA gene expression (RNA Seq V2 RSEM)                     False   \n",
       "\n",
       "      patientLevel             molecularProfileId        studyId  \\\n",
       "179          False  coadread_tcga_rna_seq_v2_mrna  coadread_tcga   \n",
       "702          False      skcm_tcga_rna_seq_v2_mrna      skcm_tcga   \n",
       "1356         False       acc_tcga_rna_seq_v2_mrna       acc_tcga   \n",
       "1365         False      blca_tcga_rna_seq_v2_mrna      blca_tcga   \n",
       "1425         False      brca_tcga_rna_seq_v2_mrna      brca_tcga   \n",
       "\n",
       "     genericAssayType  pivotThreshold sortOrder  \n",
       "179               NaN             NaN       NaN  \n",
       "702               NaN             NaN       NaN  \n",
       "1356              NaN             NaN       NaN  \n",
       "1365              NaN             NaN       NaN  \n",
       "1425              NaN             NaN       NaN  "
      ]
     },
     "execution_count": 6,
     "metadata": {},
     "output_type": "execute_result"
    }
   ],
   "source": [
    "df1.head(5)"
   ]
  },
  {
   "cell_type": "code",
   "execution_count": null,
   "id": "759448c6-cca9-4e5c-80bc-171f241c94ac",
   "metadata": {},
   "outputs": [],
   "source": []
  },
  {
   "cell_type": "code",
   "execution_count": null,
   "id": "84456bab-3572-4671-8554-f58776357677",
   "metadata": {},
   "outputs": [],
   "source": []
  },
  {
   "cell_type": "code",
   "execution_count": null,
   "id": "f802cb89-b092-4324-bd06-4712e1d7f9f2",
   "metadata": {},
   "outputs": [],
   "source": []
  },
  {
   "cell_type": "code",
   "execution_count": null,
   "id": "c9a5b9d0-b463-4df2-9ffe-ce65f0d22d69",
   "metadata": {},
   "outputs": [],
   "source": []
  },
  {
   "cell_type": "code",
   "execution_count": null,
   "id": "4d7fe6f0-7e04-434a-910b-8664d77da2b5",
   "metadata": {},
   "outputs": [],
   "source": []
  },
  {
   "cell_type": "code",
   "execution_count": null,
   "id": "a44c7493-ce2a-4a8d-9d7a-dcf80e965bba",
   "metadata": {},
   "outputs": [],
   "source": []
  },
  {
   "cell_type": "code",
   "execution_count": null,
   "id": "01f2fbe1-6de7-46e6-a876-71f73e386281",
   "metadata": {},
   "outputs": [],
   "source": []
  },
  {
   "cell_type": "code",
   "execution_count": null,
   "id": "3430173a-dccc-41a8-8bda-6a626d9ccab4",
   "metadata": {},
   "outputs": [],
   "source": []
  },
  {
   "cell_type": "code",
   "execution_count": null,
   "id": "a9417862-256d-43c1-82c7-915c3e1a342d",
   "metadata": {},
   "outputs": [],
   "source": []
  },
  {
   "cell_type": "code",
   "execution_count": null,
   "id": "04685826-5d9b-4f2b-9917-abd7c8db0a6c",
   "metadata": {},
   "outputs": [],
   "source": []
  },
  {
   "cell_type": "code",
   "execution_count": null,
   "id": "f9074277-9b1c-4285-963a-912ce06e9cf1",
   "metadata": {},
   "outputs": [],
   "source": []
  },
  {
   "cell_type": "code",
   "execution_count": null,
   "id": "b85f6939-f74b-41ef-a068-f2451e7d23fd",
   "metadata": {},
   "outputs": [],
   "source": []
  },
  {
   "cell_type": "code",
   "execution_count": null,
   "id": "bf0d13cc-b49f-4f31-a4a2-6a4ae5d9bcce",
   "metadata": {},
   "outputs": [],
   "source": []
  },
  {
   "cell_type": "code",
   "execution_count": null,
   "id": "423e89b5-1be6-471e-ab70-b4fc27f10e87",
   "metadata": {},
   "outputs": [],
   "source": []
  },
  {
   "cell_type": "code",
   "execution_count": null,
   "id": "df38f8fc-804f-477f-b15f-8c611ed23b90",
   "metadata": {},
   "outputs": [],
   "source": []
  }
 ],
 "metadata": {
  "kernelspec": {
   "display_name": "Python 3 (ipykernel)",
   "language": "python",
   "name": "python3"
  },
  "language_info": {
   "codemirror_mode": {
    "name": "ipython",
    "version": 3
   },
   "file_extension": ".py",
   "mimetype": "text/x-python",
   "name": "python",
   "nbconvert_exporter": "python",
   "pygments_lexer": "ipython3",
   "version": "3.11.7"
  }
 },
 "nbformat": 4,
 "nbformat_minor": 5
}
