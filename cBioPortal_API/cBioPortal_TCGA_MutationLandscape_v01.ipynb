{
 "cells": [
  {
   "cell_type": "code",
   "execution_count": 1,
   "id": "eda3224b-9c01-483c-8a7f-d08d363a24d1",
   "metadata": {},
   "outputs": [
    {
     "name": "stdout",
     "output_type": "stream",
     "text": [
      "June 11, 2024 00:12:39\n"
     ]
    }
   ],
   "source": [
    "# cBioPortal_TCGA_MutationLandscape_v01\n",
    "# Alberto Bejarano (2024)\n",
    "import time; start = time.time()\n",
    "from datetime import datetime; print(datetime.now().strftime(\"%B %d, %Y %H:%M:%S\"))"
   ]
  },
  {
   "cell_type": "code",
   "execution_count": 2,
   "id": "7b08ac1c-bad9-41a1-9ea8-ed8c4e3bfd83",
   "metadata": {},
   "outputs": [],
   "source": [
    "# https://pybioportal.readthedocs.io/en/latest/index.html\n",
    "# https://github.com/Matteo-Valerio/pyBioPortal/tree/master/examples\n",
    "# https://github.com/LLCampos/pybioportal\n",
    "# https://pypi.org/project/pybioportal/\n",
    "# https://www.biostars.org/p/106127/\n",
    "# https://docs.cbioportal.org/user-guide/faq/#what-are-mrna-and-microrna-z-scores\n",
    "# https://www.ebi.ac.uk/gxa/FAQ.html"
   ]
  },
  {
   "cell_type": "code",
   "execution_count": 3,
   "id": "7c539272-a15a-4ce8-aed1-9b1c42e6c4a9",
   "metadata": {},
   "outputs": [],
   "source": [
    "#!pip install pybioportal\n",
    "#!conda install -c matteo.valerio pybioportal\n",
    "#!pip install autograd"
   ]
  },
  {
   "cell_type": "code",
   "execution_count": 4,
   "id": "01a47069-7b75-4195-b997-2e9fa24a24e6",
   "metadata": {},
   "outputs": [],
   "source": [
    "#%config InlineBackend.figure_format = \"retina\"\n",
    "#%matplotlib inline"
   ]
  },
  {
   "cell_type": "code",
   "execution_count": null,
   "id": "39a5953b-ff5c-41f9-8092-acdcf0a00c33",
   "metadata": {},
   "outputs": [],
   "source": [
    "from pybioportal import server_running_status as srs\n",
    "from pybioportal import molecular_profiles as mf\n",
    "from pybioportal import molecular_data as md\n",
    "from pybioportal import mutations as mts\n",
    "from pybioportal import samples as sp\n",
    "#          -          -          -          -          -          -          -          -          -          -          -  \n",
    "import pandas as pd\n",
    "pd.set_option('display.precision', 2)\n",
    "pd.set_option('display.max_columns', 200)\n",
    "pd.set_option('display.width', 1000)\n",
    "pd.options.display.float_format = '{:.3f}'.format\n",
    "pd.set_option('display.precision', 3)\n",
    "\n",
    "#        -         -        -        -         -        -         -        -        -         -\n",
    "import warnings; warnings.filterwarnings(\"ignore\")\n",
    "#from scipy.stats import mannwhitneyu, normaltest\n",
    "#from statannotations.Annotator import Annotator\n",
    "#from statannot import add_stat_annotation\n",
    "import matplotlib.pyplot as plt\n",
    "import matplotlib.transforms\n",
    "import autograd.numpy as np\n",
    "import seaborn as sns"
   ]
  },
  {
   "cell_type": "code",
   "execution_count": null,
   "id": "9b35a7ab-cbf6-4a06-8705-3709805abc3a",
   "metadata": {},
   "outputs": [],
   "source": [
    "srs.get_server_status()"
   ]
  },
  {
   "cell_type": "code",
   "execution_count": null,
   "id": "4678fbae-c950-4575-9617-b9f4a04da909",
   "metadata": {},
   "outputs": [],
   "source": [
    "GenesOfInterest = [\"PDCD1\", \"CD274\", \"CTLA4\"]\n",
    "GenesOfInterest = [\"5133\", \"29126\", \"1493\"]\n",
    "GenesOfInterest = [\"PDCD1\", \"CD274\", \"CTLA4\"]\n",
    "GenesOfInterest = ['EGFR', 'ERBB2', 'PTEN', 'CCND1', 'TP53', 'CDKN1B', 'KRAS', 'NRAS', 'HRAS', 'BRAF', 'PIK3CA', 'TTN']\n",
    "\n",
    "GenesOfInterest = ['TP53']"
   ]
  },
  {
   "cell_type": "code",
   "execution_count": null,
   "id": "8d684e79-313d-4fe0-9804-6bf6eca6a056",
   "metadata": {},
   "outputs": [],
   "source": [
    "genes_df = pd.read_csv(\"./metadata/HGNC_table.txt\", header=0, sep='\\t', quotechar='\"', on_bad_lines=\"warn\")\n",
    "genes_df = genes_df.dropna(subset=['NCBI Gene ID'])\n",
    "genes_df[\"NCBI Gene ID\"] = genes_df[\"NCBI Gene ID\"].astype(int)\n",
    "genes_df = genes_df[genes_df[\"Approved symbol\"].isin(GenesOfInterest)]\n",
    "genes_df = genes_df[['Approved symbol', 'NCBI Gene ID']].copy()\n",
    "genes_df.rename({'NCBI Gene ID':'entrezGeneId', 'Approved symbol':'ApprovedSymbol'},axis=1,inplace=True)\n",
    "genes_df.sample()"
   ]
  },
  {
   "cell_type": "code",
   "execution_count": null,
   "id": "38bc796c-c503-426a-b7a4-8694b2dca56d",
   "metadata": {},
   "outputs": [],
   "source": [
    "genes = sorted(genes_df['ApprovedSymbol'].astype(str).unique().tolist()); print(genes)"
   ]
  },
  {
   "cell_type": "code",
   "execution_count": null,
   "id": "a53a7687-b889-41fa-bf30-9ac558168ebd",
   "metadata": {},
   "outputs": [],
   "source": [
    "NCBIgenes = sorted(genes_df['entrezGeneId'].astype(str).unique().tolist()); print(NCBIgenes)"
   ]
  },
  {
   "cell_type": "code",
   "execution_count": null,
   "id": "2c87c963-7633-4ba5-99b2-bd0d06b96d15",
   "metadata": {
    "scrolled": true
   },
   "outputs": [],
   "source": [
    "df = mf.get_all_molecular_profiles()\n",
    "df.sample(3)"
   ]
  },
  {
   "cell_type": "code",
   "execution_count": null,
   "id": "790ab4b6-fa81-43a3-89ac-3577f05c5847",
   "metadata": {
    "scrolled": true
   },
   "outputs": [],
   "source": [
    "molProfile00 = df.molecularProfileId.unique().tolist(); \n",
    "molProfile00 = [item for item in molProfile00 if '_tcga_' in item]\n",
    "print('\\033[33m', sorted(molProfile00[:100]), '\\033[0m')"
   ]
  },
  {
   "cell_type": "code",
   "execution_count": null,
   "id": "b49c2215-c2c6-496c-ad42-54f28777db53",
   "metadata": {},
   "outputs": [],
   "source": [
    "mutProfile = ['_tcga_mutations'] # '_mutations', '_tcga_', "
   ]
  },
  {
   "cell_type": "code",
   "execution_count": null,
   "id": "91f11eef-08fd-4571-9189-7881d1164494",
   "metadata": {},
   "outputs": [],
   "source": [
    "molProfiles   = \"_tcga_rna_seq_v2_mrna\"\n",
    "mol_filterout = [\"_median_Zscores\", \"_median_all_sample_Zscores\", \"_gistic\", \"_linear_CNA\", \"_mutations\", \"_methylation_hm450\", \"_pan_can_atlas_\",\n",
    "                \"rppa\", \"log2CNA\", \"structural_variants\", \"protein_quantification\", \"U133\", \"methylation_hm27\", \"tcga_mrna\",\n",
    "               ]"
   ]
  },
  {
   "cell_type": "code",
   "execution_count": null,
   "id": "299d6256-a630-4a3c-93be-1990a12d4f4f",
   "metadata": {},
   "outputs": [],
   "source": [
    "df_exp = df[~df['molecularProfileId'].str.contains('|'.join(mol_filterout))]\n",
    "df_exp = df_exp[df_exp['molecularProfileId'].str.contains(molProfiles)]\n",
    "#          -          -          -          -          -          -          -          -          -          -          - \n",
    "condition = df['molecularProfileId'].str.contains(mutProfile[0])\n",
    "for substring in mutProfile[1:]:\n",
    "    condition = condition & df['molecularProfileId'].str.contains(substring)\n",
    "df_mut = df[condition]"
   ]
  },
  {
   "cell_type": "code",
   "execution_count": null,
   "id": "5b18ee78-9c20-4764-8f67-7814d1ad533f",
   "metadata": {},
   "outputs": [],
   "source": [
    "molProfiles = df_exp.molecularProfileId.unique().tolist()\n",
    "print(len(molProfiles)); print('\\033[33m', sorted(molProfiles), '\\033[0m')"
   ]
  },
  {
   "cell_type": "code",
   "execution_count": null,
   "id": "e9d75db5-28ea-4bd2-b08d-823b869124b4",
   "metadata": {},
   "outputs": [],
   "source": [
    "mut_profiles = df_mut.molecularProfileId.unique().tolist()\n",
    "print(len(mut_profiles)); print('\\033[33m', sorted(mut_profiles), '\\033[0m')"
   ]
  },
  {
   "cell_type": "code",
   "execution_count": null,
   "id": "0733379a-63fd-41d3-8e7c-d7ee978f5b48",
   "metadata": {},
   "outputs": [],
   "source": [
    "%%time\n",
    "mut_data = mts.fetch_muts_in_multiple_mol_profs(entrez_gene_ids=NCBIgenes, molecular_profile_ids=mut_profiles)\n",
    "mut_data = mut_data[['sampleId', 'entrezGeneId', 'studyId', 'mutationType']].copy()\n",
    "print('\\033[31m', len(mut_data), '\\033[0m')\n",
    "mutationTypes = mut_data.mutationType.unique().tolist(); print('\\033[33m', mutationTypes, '\\033[0m')\n",
    "mut_data.sample(3)"
   ]
  },
  {
   "cell_type": "code",
   "execution_count": null,
   "id": "3a052f4a-d1b5-4ebc-afac-827314ae01fc",
   "metadata": {},
   "outputs": [],
   "source": [
    "%%time\n",
    "sampl_data  = sp.fetch_samples(sample_list_ids=molProfiles)\n",
    "sampl_data  = sampl_data[['sampleId', 'studyId', 'sampleType']].copy()\n",
    "sampleTypes = sampl_data.sampleType.unique().tolist(); print('\\033[33m', sampleTypes, '\\033[0m')\n",
    "print('\\033[31m', len(sampl_data), '\\033[0m')\n",
    "sampl_data.sample(3)"
   ]
  },
  {
   "cell_type": "code",
   "execution_count": null,
   "id": "06ed6093-d580-48c4-bbd1-faa8c0bd0aa1",
   "metadata": {},
   "outputs": [],
   "source": [
    "sampl_data.sampleType.value_counts(dropna=False)"
   ]
  },
  {
   "cell_type": "code",
   "execution_count": null,
   "id": "3013853c-386c-4729-be6c-6ce5d056c14a",
   "metadata": {},
   "outputs": [],
   "source": [
    "data = pd.merge(mut_data, sampl_data, on='sampleId', how='right')\n",
    "#data = pd.merge(data, genes_df, on='entrezGeneId', how='right')\n",
    "#data.mutationType.fillna('No_Mutation', inplace=True)\n",
    "#data['studyId'] = data['studyId'].str.replace('_tcga', '')\n",
    "#data = data[['sampleId', 'studyId', 'sampleType', 'ApprovedSymbol', 'mutationType']].copy()\n",
    "print('\\033[31m', len(data), '\\033[0m')\n",
    "data.sample(10)"
   ]
  },
  {
   "cell_type": "code",
   "execution_count": null,
   "id": "401759a4-ec86-4542-9f88-dc9b42bc2642",
   "metadata": {},
   "outputs": [],
   "source": [
    "sampleTypes = data.sampleType.unique().tolist(); print('\\033[33m', sampleTypes, '\\033[0m')"
   ]
  },
  {
   "cell_type": "code",
   "execution_count": null,
   "id": "c7577b16-088d-49bd-a5af-1d897490e8e8",
   "metadata": {},
   "outputs": [],
   "source": [
    "mutationTypes = data.mutationType.unique().tolist(); print('\\033[33m', mutationTypes, '\\033[0m')"
   ]
  },
  {
   "cell_type": "code",
   "execution_count": null,
   "id": "63fc8be1-0473-4a6f-8fec-955ad7543696",
   "metadata": {},
   "outputs": [],
   "source": [
    "data.sampleType.value_counts(dropna=False)"
   ]
  },
  {
   "cell_type": "code",
   "execution_count": null,
   "id": "592672e9-0e21-4fe1-b631-abe7f28f1963",
   "metadata": {},
   "outputs": [],
   "source": [
    "impact_mapping = {\n",
    "    'No_Mutation':            'No_impact',\n",
    "    \n",
    "    'Translation_Start_Site': 'Severe',  \n",
    "    'Nonsense_Mutation':      'Severe',\n",
    "    'Frame_Shift_Del':        'Severe',\n",
    "    'Frame_Shift_Ins':        'Severe',\n",
    "    \n",
    "    'Missense_Mutation':      'Moderate',\n",
    "    'Splice_Region':          'Moderate',\n",
    "    'Splice_Site':            'Moderate',\n",
    "    \n",
    "    'In_Frame_Del':           'Mild',\n",
    "    'In_Frame_Ins':           'Mild',\n",
    "\n",
    "}\n",
    "\n",
    "data['impact'] = data['mutationType'].map(impact_mapping)"
   ]
  },
  {
   "cell_type": "code",
   "execution_count": null,
   "id": "f2724225-a482-4211-a9d4-57edac84396d",
   "metadata": {},
   "outputs": [],
   "source": [
    "data.mutationType.value_counts(dropna=False)"
   ]
  },
  {
   "cell_type": "code",
   "execution_count": null,
   "id": "ea40877b-6589-4c1f-b49d-3e56d9fcf238",
   "metadata": {},
   "outputs": [],
   "source": [
    "data.impact.value_counts(dropna=False)"
   ]
  },
  {
   "cell_type": "code",
   "execution_count": null,
   "id": "1deed7f9-6907-49a7-a737-6cfed0f41631",
   "metadata": {},
   "outputs": [],
   "source": [
    "impactTypes = data.impact.unique().tolist(); print('\\033[33m', impactTypes, '\\033[0m')"
   ]
  },
  {
   "cell_type": "code",
   "execution_count": null,
   "id": "aee5a50e-33cd-464e-8b3f-99674a2ee1f4",
   "metadata": {},
   "outputs": [],
   "source": [
    "data.sample(5)"
   ]
  },
  {
   "cell_type": "code",
   "execution_count": null,
   "id": "b504c34f-6e39-4db5-aa0d-e880f9f1ca30",
   "metadata": {},
   "outputs": [],
   "source": [
    "data_df2 = data[[\"ApprovedSymbol\", \"studyId\", \"impact\"]].copy()\n",
    "count_df01 = data_df2.groupby([\"ApprovedSymbol\", \"studyId\", \"impact\"])[\"impact\"].count().reset_index(name=\"IMPACT_count\")\n",
    "count_df01.sort_values(['ApprovedSymbol', 'studyId', 'impact', 'IMPACT_count'], ascending=[True, False, True, False], inplace=True)\n",
    "count_df01.head(10)"
   ]
  },
  {
   "cell_type": "code",
   "execution_count": null,
   "id": "71d7b410-c822-417f-a0b0-43abc60a1aaa",
   "metadata": {},
   "outputs": [],
   "source": [
    "for gene in GenesOfInterest:\n",
    "    fig, ax  = plt.subplots(figsize=(25/2.54, 10/2.54), dpi=150)\n",
    "    #          -          -          -          -          -          -          -          -          -          -          -          -          -          -  \n",
    "    df01 = data_df.loc[data_df.gene_name == gene]; n=len(df01)\n",
    "    df02 = df01[[\"project\", \"IMPACT\"]].copy(); #print(df02.head())\n",
    "    norm_df = pd.crosstab(df02.project, df02.IMPACT, normalize=\"index\").rename_axis(\"test\", axis=1)\n",
    "    norm_df = norm_df[[\"NONE\", \"LOW\", \"MODERATE\", \"HIGH\"]].copy(); #print(df02.head())\n",
    "    norm_df = norm_df[[\"HIGH\", \"MODERATE\", \"LOW\", \"NONE\"]].copy(); #print(df02.head())\n",
    "    #          -          -          -          -          -          -          -          -          -          -          -          -          -          -  \n",
    "    norm_df.plot(ax=ax, kind='bar', stacked=True, width=0.95, color=['#859da1', '#77ab5c', '#ffb96e', '#ff4747'])\n",
    "    norm_df.plot(ax=ax, kind='bar', stacked=True, width=0.95, color=['#ff4747', '#ffb96e', '#77ab5c', '#afc1c4'])\n",
    "    #          -          -          -          -          -          -          -          -          -          -          -          -          -          -  \n",
    "    ax.set_title(gene, fontsize=14, color=\"#7E7E7E\", pad=10)\n",
    "    plt.xlabel(\"\", fontsize=0); plt.ylabel(\"Proportion of Samples per Variant Effect\", fontsize=10, color=\"#7E7E7E\", labelpad=8)\n",
    "    #          -          -          -          -          -          -          -          -          -          -          -          -          -          -    \n",
    "    ax.set_ylim(-.01, 1.01); ax.set_yscale('linear'); sns.despine(left=True, bottom=True)   \n",
    "    #          -          -          -          -          -          -          -          -          -          -          -          -          -          -        \n",
    "    plt.xticks(fontsize=8, color=\"#7E7E7E\", rotation=40, ha=\"center\")\n",
    "    ax.tick_params(axis='x', which='major', direction='in', colors=\"#7E7E7E\", pad=2, length=2)\n",
    "    plt.yticks(fontsize=8, color=\"#7E7E7E\", rotation=0, ha=\"center\")\n",
    "    ax.tick_params(axis='y', which='major', direction='in', colors=\"#7E7E7E\", pad=10, length=3)\n",
    "    #          -          -          -          -          -          -          -          -          -          -          -          -          -          -  \n",
    "    kws_lines = {\"ls\":\"--\", 'color':'#7E7E7E', \"alpha\":0.3, \"linewidth\":.5}\n",
    "    plt.axhline(y=0.2, **kws_lines); plt.axhline(y=0.4, **kws_lines);plt.axhline(y=0.6, **kws_lines);\n",
    "    plt.axhline(y=0.8, **kws_lines); plt.axhline(y=1.0, **kws_lines);\n",
    "    #          -          -          -          -          -          -          -          -          -          -          -          -          -          -   \n",
    "    ax.set_facecolor('#f2e8df'); fig.patch.set_facecolor('#f2e8df')\n",
    "    #          -          -          -          -          -          -          -          -          -          -          -          -          -          -  \n",
    "    plt.tight_layout(); #plt.show(); #plt.close()\n",
    "    handles, labels = ax.get_legend_handles_labels()\n",
    "    plt.legend(handles[0:2],labels[0:2],fontsize=6,bbox_to_anchor=(1.02,1),loc=2,borderaxespad=0.1)\n",
    "    plt.legend([],[],frameon=False)\n",
    "    #          -          -          -          -          -          -          -          -          -          -          -          -          -          -       \n",
    "    #plt.savefig(\"tcga.png\", format=\"png\", bbox_inches=\"tight\", dpi=300)"
   ]
  },
  {
   "cell_type": "code",
   "execution_count": null,
   "id": "8921659e-478d-4868-bd71-1d0a952c224a",
   "metadata": {},
   "outputs": [],
   "source": []
  },
  {
   "cell_type": "code",
   "execution_count": null,
   "id": "4227870c-3dcb-4386-9e80-1d7992f0826f",
   "metadata": {},
   "outputs": [],
   "source": []
  },
  {
   "cell_type": "code",
   "execution_count": null,
   "id": "72dfe169-0811-4a39-a7c3-2a656b34648f",
   "metadata": {},
   "outputs": [],
   "source": []
  },
  {
   "cell_type": "code",
   "execution_count": null,
   "id": "edb98117-8c85-4efb-9c60-0853e4f0e267",
   "metadata": {},
   "outputs": [],
   "source": []
  },
  {
   "cell_type": "code",
   "execution_count": null,
   "id": "876e6490-8dc8-4cc7-acdd-fc14d6b0e7e6",
   "metadata": {},
   "outputs": [],
   "source": []
  },
  {
   "cell_type": "code",
   "execution_count": null,
   "id": "c872d20a-b5fd-4624-89a9-468c8ed39b9b",
   "metadata": {},
   "outputs": [],
   "source": [
    "hue_order = mutationTypes"
   ]
  },
  {
   "cell_type": "code",
   "execution_count": null,
   "id": "a108ba25-0497-4373-8390-d3ef24165702",
   "metadata": {},
   "outputs": [],
   "source": []
  },
  {
   "cell_type": "code",
   "execution_count": null,
   "id": "b1d38421-bf1f-4997-b7e3-a74a43085635",
   "metadata": {},
   "outputs": [],
   "source": []
  },
  {
   "cell_type": "code",
   "execution_count": null,
   "id": "05801da5-4009-4d19-92d3-ed77c5c88808",
   "metadata": {},
   "outputs": [],
   "source": []
  },
  {
   "cell_type": "code",
   "execution_count": null,
   "id": "36ca0ad6-bfcb-445b-a933-ce98898c555b",
   "metadata": {},
   "outputs": [],
   "source": []
  },
  {
   "cell_type": "code",
   "execution_count": null,
   "id": "6bccc200-0b1d-4499-a6a5-d91c2c76b82d",
   "metadata": {},
   "outputs": [],
   "source": [
    "dfhfgdfjh"
   ]
  },
  {
   "cell_type": "code",
   "execution_count": null,
   "id": "6261537b-e73d-4bed-952d-b215cbea283f",
   "metadata": {},
   "outputs": [],
   "source": [
    "data = pd.merge(data, sampl_data, on='sampleId', how='left')\n",
    "data = data[['sampleId', 'studyId', 'sampleType', 'ApprovedSymbol', 'mutationType', 'value']].copy()\n",
    "data['studyId'] = data['studyId'].str.replace('_tcga', '')"
   ]
  },
  {
   "cell_type": "code",
   "execution_count": null,
   "id": "e3e3342c-b7b9-486e-a95f-b425dbfe6360",
   "metadata": {},
   "outputs": [],
   "source": []
  },
  {
   "cell_type": "code",
   "execution_count": null,
   "id": "4e78a4f5-3095-4e33-b746-1ef856058760",
   "metadata": {},
   "outputs": [],
   "source": []
  },
  {
   "cell_type": "code",
   "execution_count": null,
   "id": "b13399d2-1627-41b0-97f6-5994a92f0b73",
   "metadata": {},
   "outputs": [],
   "source": []
  },
  {
   "cell_type": "code",
   "execution_count": null,
   "id": "8f62b255-1845-450e-b20b-6bae177b1084",
   "metadata": {},
   "outputs": [],
   "source": []
  },
  {
   "cell_type": "code",
   "execution_count": null,
   "id": "d7e68df2-c456-4ce4-855e-c1722143152d",
   "metadata": {},
   "outputs": [],
   "source": [
    "%%time\n",
    "exp_data = md.fetch_molecular_data(entrez_gene_ids=NCBIgenes, molecular_profile_ids=molProfiles)\n",
    "exp_data = exp_data[['sampleId', 'entrezGeneId', 'studyId', 'value']].copy()\n",
    "exp_data.sample(3)"
   ]
  },
  {
   "cell_type": "code",
   "execution_count": null,
   "id": "f796c7b0-07f4-4cd0-b663-af9efd091179",
   "metadata": {},
   "outputs": [],
   "source": [
    "data.mutationType.value_counts()"
   ]
  },
  {
   "cell_type": "code",
   "execution_count": null,
   "id": "38f216e1-6849-491b-bdc2-785b1550d070",
   "metadata": {},
   "outputs": [],
   "source": [
    "data.sampleType.value_counts()"
   ]
  },
  {
   "cell_type": "code",
   "execution_count": null,
   "id": "a21054ed-54b3-475d-b178-ab637012cc4a",
   "metadata": {},
   "outputs": [],
   "source": []
  },
  {
   "cell_type": "code",
   "execution_count": null,
   "id": "09a536b9-c6b8-4946-a0c0-8a60d5a83aff",
   "metadata": {},
   "outputs": [],
   "source": []
  },
  {
   "cell_type": "code",
   "execution_count": null,
   "id": "b9696362-c12b-4bfe-bb1f-a53c21c9143f",
   "metadata": {},
   "outputs": [],
   "source": []
  },
  {
   "cell_type": "code",
   "execution_count": null,
   "id": "0b164981-14f6-4d8a-b39d-bca1569b3f52",
   "metadata": {},
   "outputs": [],
   "source": [
    "data_log2 = data.apply(lambda x: np.log2(x + 1) if np.issubdtype(x.dtype, np.number)else x)"
   ]
  },
  {
   "cell_type": "code",
   "execution_count": null,
   "id": "d290462d-dc16-4bde-b80b-a7f03d08903a",
   "metadata": {},
   "outputs": [],
   "source": [
    "data_log2.sample(10)"
   ]
  },
  {
   "cell_type": "code",
   "execution_count": null,
   "id": "ac16ec88-750e-4b89-be98-da3dcb3a3ebf",
   "metadata": {},
   "outputs": [],
   "source": [
    "genes = data_log2.ApprovedSymbol.unique().tolist(); print(genes)"
   ]
  },
  {
   "cell_type": "code",
   "execution_count": null,
   "id": "a85a127c-ad94-4b88-89d4-7d3b1fd61db1",
   "metadata": {},
   "outputs": [],
   "source": [
    "mutationType_palette = {'No_Mutation':'#00FF00',\n",
    "                        'Frame_Shift_Del':'#e76f51',    'Frame_Shift_Ins':'#f4a261',\n",
    "                        'In_Frame_Del':'#e76f51',       'In_Frame_Ins':'#e76f51',\n",
    "                        'Missense_Mutation':'#06d6a0',\n",
    "                        'Nonsense_Mutation':'#06d6a0', \n",
    "                        'Nonstop_Mutation':'#598392', \n",
    "                        'Splice_Site':'#598392',        'Splice_Region':'#598392',\n",
    "                         'Translation_Start_Site':'#e76f51'\n",
    "                       }"
   ]
  },
  {
   "cell_type": "code",
   "execution_count": null,
   "id": "96296260-1012-417e-a2a7-d5602b139c8a",
   "metadata": {},
   "outputs": [],
   "source": [
    "Impact_palette = {'No_impact': '#7E7E7E',\n",
    "                   'Severe':    '#FF0000',\n",
    "                   'Moderate':  '#598392',\n",
    "                   'Mild':      '#598392',\n",
    "                       }"
   ]
  },
  {
   "cell_type": "code",
   "execution_count": null,
   "id": "3ac4ddc8-658e-47f4-8ca1-547809d567c9",
   "metadata": {},
   "outputs": [],
   "source": [
    "for gene in sorted(genes):\n",
    "    fig, ax  = plt.subplots(figsize=(25/2.54, 10/2.54), dpi=150)\n",
    "    df02 = data_log2.loc[data_log2.ApprovedSymbol == gene]; n = len(df02)\n",
    "    df02 = df02.dropna(axis=0, how='any')\n",
    "    #          -          -          -          -          -          -          -          -          -          -          -          -          -          -       \n",
    "    median_df  = df02.groupby(['studyId'])['value'].median().sort_values(ascending=False).reset_index()\n",
    "    indication_list = median_df.studyId.unique().tolist(); # print(indication_list)\n",
    "    #          -          -          -          -          -          -          -          -          -          -          -          -          -          -\n",
    "    data = df02; x='studyId'; y='value'; hue=\"impact\"; order=indication_list; palette=mutationType_palette\n",
    "    #          -          -          -          -          -          -          -          -          -          -          -          -          -          - \n",
    "    str_kws = {'s':5, 'jitter':.45, 'alpha':0.5, 'dodge':True, 'linewidth':0.2,'edgecolor':'#1E1E1E', 'palette': palette,\n",
    "               'order':indication_list, 'hue_order':hue_order}\n",
    "    box_kws = {'linewidth':0.5, 'width':0.75, 'dodge':True, 'showcaps':True, 'whis':1.5, 'fliersize':0, 'saturation':0.20, \n",
    "               'order':indication_list, 'hue_order':hue_order}\n",
    "    #          -          -          -          -          -          -          -          -          -          -          -          -          -          -  \n",
    "    medianprops=dict(linestyle='-', linewidth=1, color=\"firebrick\", alpha=0.5); capprops=dict(linestyle=\"-\", alpha=.5, linewidth=.3);\n",
    "    boxprops=dict(linestyle=\"-\", alpha=.3, linewidth=.3); whiskerprops=dict(linestyle=\"--\", linewidth=.3, color=\"#7E7E7E\");\n",
    "    #          -          -          -          -          -          -          -          -          -          -          -          -          -          -    \n",
    "    g = sns.stripplot(data=data, x=x, y=y, hue=hue, **str_kws, zorder=0, ax=ax)\n",
    "    g = sns.boxplot(data=data,   x=x, y=y, hue=hue, medianprops=medianprops, \n",
    "                    capprops=capprops, boxprops=boxprops, whiskerprops=whiskerprops, **box_kws, zorder=1, ax=ax)\n",
    "    #          -          -          -          -          -          -          -          -          -          -          -          -          -          -   \n",
    "    ax.set_title(gene, fontsize=14, color=\"#7E7E7E\", pad=10)\n",
    "    plt.xlabel(\"\", fontsize=0); plt.ylabel(\"Gene Expression log2[TPM+1]\", fontsize=6, color=\"#7E7E7E\", labelpad=5)\n",
    "    #          -          -          -          -          -          -          -          -          -          -          -          -          -          -    \n",
    "    ax.set_ylim(-.9, 15); ax.set_yscale('linear'); sns.despine(left=True, bottom=True)   \n",
    "    #          -          -          -          -          -          -          -          -          -          -          -          -          -          -        \n",
    "    ax.tick_params(axis=\"x\", colors=\"#cfcfcf\", pad=0, length=2); ax.tick_params(axis=\"y\", colors=\"#cfcfcf\", pad=0, length=3)\n",
    "    plt.xticks(fontsize=10, color=\"#7E7E7E\", rotation=60, ha=\"center\"); ax.tick_params(axis='x', which='major', pad=5)\n",
    "    plt.yticks(fontsize=10, color=\"#7E7E7E\", rotation=0, ha=\"center\"); ax.tick_params(axis='y', which='major', pad=8)\n",
    "    #          -          -          -          -          -          -          -          -          -          -          -          -          -          -  \n",
    "    kws_lines = {\"ls\":\"--\", \"alpha\":0.3, \"linewidth\":.5}\n",
    "    plt.axhline(y=3.46, color=\"g\", **kws_lines); plt.axhline(y=6.67, color=\"orange\", **kws_lines); plt.axhline(y=9.97, color=\"red\", **kws_lines)\n",
    "    kws_box   = {'lw':.2, 'alpha':0.04, 'edgecolor':None}\n",
    "    plt.axhspan(-1, 3.46, color='green', **kws_box); plt.axhspan(3.46, 6.67, color='orange', **kws_box); plt.axhspan(6.67, 15, color='red', **kws_box)\n",
    "    #          -          -          -          -          -          -          -          -          -          -          -          -          -          -       \n",
    "    #annot_kws1 = {'pairs':pairs, 'data':data, 'x':x, 'y':y, 'order':order, 'hue':hue, 'hue_order':hue_order}\n",
    "    #annot_params = {\"test\":\"Mann-Whitney\", \"line_width\":0.5, \"color\":\"#7E7E7E\", \"text_format\":\"star\", 'loc':'inside'}\n",
    "    #try:\n",
    "    #    ax, test_results = Annotator(ax, **annot_kws1).reset_configuration().configure(**annot_params, verbose=0).apply_and_annotate()\n",
    "    #except Exception as inst:\n",
    "    #    print(inst) \n",
    "    #          -          -          -          -          -          -          -          -          -          -          -          -          -          -   \n",
    "    handles, labels = ax.get_legend_handles_labels()\n",
    "    plt.legend(handles[0:2],labels[0:2],fontsize=6,bbox_to_anchor=(1.02,1),loc=2,borderaxespad=0.1)\n",
    "    plt.legend([],[],frameon=False)\n",
    "    #          -          -          -          -          -          -          -          -          -          -          -          -          -          -       \n",
    "    plt.tight_layout(); plt.show(); #plt.close()\n",
    "    #plt.savefig(\"tcga.png\", format=\"png\", bbox_inches=\"tight\", dpi=300)"
   ]
  },
  {
   "cell_type": "code",
   "execution_count": null,
   "id": "5aee63b9-b86c-4a9b-8c56-63f15211a304",
   "metadata": {},
   "outputs": [],
   "source": []
  },
  {
   "cell_type": "code",
   "execution_count": null,
   "id": "5b99e1b4-68a1-4a7c-8f1f-c60338561fe0",
   "metadata": {},
   "outputs": [],
   "source": []
  },
  {
   "cell_type": "code",
   "execution_count": null,
   "id": "2f724710-8357-4de5-aabe-d5b94789d346",
   "metadata": {},
   "outputs": [],
   "source": []
  },
  {
   "cell_type": "code",
   "execution_count": null,
   "id": "e68e0ee0-cde4-4b46-b78e-15c42d558274",
   "metadata": {},
   "outputs": [],
   "source": []
  },
  {
   "cell_type": "code",
   "execution_count": null,
   "id": "73e995e2-fe3c-47a2-9548-e02ac78ea818",
   "metadata": {},
   "outputs": [],
   "source": []
  },
  {
   "cell_type": "code",
   "execution_count": null,
   "id": "d6ca3167-153c-4a70-8893-8193161d3829",
   "metadata": {},
   "outputs": [],
   "source": []
  },
  {
   "cell_type": "code",
   "execution_count": null,
   "id": "cfb84939-1633-4ead-927c-a28d0e75c959",
   "metadata": {},
   "outputs": [],
   "source": []
  },
  {
   "cell_type": "code",
   "execution_count": null,
   "id": "f30d0da5-3641-44c8-8e57-d38e7e01a449",
   "metadata": {},
   "outputs": [],
   "source": []
  },
  {
   "cell_type": "code",
   "execution_count": null,
   "id": "fc5bfe4d-37b5-497d-8c18-bc8c9fe53308",
   "metadata": {},
   "outputs": [],
   "source": [
    "#df_exp = df[~df['molecularProfileId'].str.contains('|'.join(filterout_01))]\n",
    "#df_exp = df_exp[df_exp['molecularProfileId'].str.contains(molPrfile_01)]\n",
    "#          -          -          -          -          -          -          -          -          -          -          - \n",
    "condition = df['molecularProfileId'].str.contains(molPrfile_02[0])\n",
    "for substring in molPrfile_02[1:]:\n",
    "    condition = condition & df['molecularProfileId'].str.contains(substring)\n",
    "df_mut = df[condition]"
   ]
  },
  {
   "cell_type": "code",
   "execution_count": null,
   "id": "25d58b39-8a2f-4181-9be2-653abcfb598e",
   "metadata": {},
   "outputs": [],
   "source": []
  },
  {
   "cell_type": "code",
   "execution_count": null,
   "id": "8f85d47a-b3e8-4629-be70-52829f321b8a",
   "metadata": {},
   "outputs": [],
   "source": [
    "molecular_profiles02 = df_mut.molecularProfileId.unique().tolist()\n",
    "print(len(molecular_profiles02)); print('\\033[33m', sorted(molecular_profiles02), '\\033[0m')"
   ]
  },
  {
   "cell_type": "code",
   "execution_count": null,
   "id": "4492613b-26e8-4d9c-b854-d8e17495dd9a",
   "metadata": {},
   "outputs": [],
   "source": [
    "#molecular_profiles02 = ['acc_tcga_mutations']"
   ]
  },
  {
   "cell_type": "code",
   "execution_count": null,
   "id": "a6efcd77-157a-47eb-9111-055b336a252c",
   "metadata": {},
   "outputs": [],
   "source": [
    "#mutationStatuss = mut_data.mutationStatus.unique().tolist(); print('\\033[33m', sorted(mutationStatuss), '\\033[0m')"
   ]
  },
  {
   "cell_type": "code",
   "execution_count": null,
   "id": "b58e6597-2af1-4963-857b-a72b7f836d87",
   "metadata": {},
   "outputs": [],
   "source": [
    "print(\"'cBioPortal_TCGA_MutationLandscape_v01' script run time:\", f'{time.time()-start:.0f}', \"seconds.\")"
   ]
  },
  {
   "cell_type": "code",
   "execution_count": null,
   "id": "8014d432-2197-4dfa-bd43-c8da831fa56a",
   "metadata": {},
   "outputs": [],
   "source": []
  },
  {
   "cell_type": "code",
   "execution_count": null,
   "id": "e0db7de0-8061-4e59-b87f-33334b6ee4d8",
   "metadata": {},
   "outputs": [],
   "source": []
  },
  {
   "cell_type": "markdown",
   "id": "67218aba-d59a-4013-9dda-1b1815e270e3",
   "metadata": {},
   "source": [
    "# "
   ]
  }
 ],
 "metadata": {
  "kernelspec": {
   "display_name": "Python 3 (ipykernel)",
   "language": "python",
   "name": "python3"
  },
  "language_info": {
   "codemirror_mode": {
    "name": "ipython",
    "version": 3
   },
   "file_extension": ".py",
   "mimetype": "text/x-python",
   "name": "python",
   "nbconvert_exporter": "python",
   "pygments_lexer": "ipython3",
   "version": "3.11.9"
  }
 },
 "nbformat": 4,
 "nbformat_minor": 5
}
